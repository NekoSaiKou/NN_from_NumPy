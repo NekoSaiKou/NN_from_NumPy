{
  "nbformat": 4,
  "nbformat_minor": 0,
  "metadata": {
    "colab": {
      "name": "NN2020_HW2_CNN",
      "provenance": [],
      "collapsed_sections": [
        "jx-t6SEEle_e",
        "vxkslJKbJ1eR",
        "WzJmw73H_hDi",
        "KRosvfPk_jnf",
        "W35byTAi2yCw",
        "gywtiG1A8uli",
        "oLEtieK0I-FE",
        "hKUkwyNmMIMZ",
        "Dt8qgLaUFSbE",
        "j1LENJ2zqRXf"
      ],
      "toc_visible": true
    },
    "kernelspec": {
      "display_name": "Python 3",
      "name": "python3"
    }
  },
  "cells": [
    {
      "cell_type": "markdown",
      "metadata": {
        "id": "jx-t6SEEle_e"
      },
      "source": [
        "# Import library"
      ]
    },
    {
      "cell_type": "code",
      "metadata": {
        "id": "aAHQNpYKldVZ"
      },
      "source": [
        "import pandas as pd\n",
        "import numpy as np\n",
        "from numpy.lib.stride_tricks import as_strided as conv2d_map\n",
        "import warnings\n",
        "np.seterr(all='raise')\n",
        "\n",
        "# Plot result\n",
        "import seaborn as sns\n",
        "import matplotlib.pylab as plt\n",
        "\n",
        "# Datetime is used for saving file\n",
        "from datetime import datetime\n",
        "\n",
        "# Colab is used for saving files\n",
        "from google.colab import files"
      ],
      "execution_count": null,
      "outputs": []
    },
    {
      "cell_type": "markdown",
      "metadata": {
        "id": "vxkslJKbJ1eR"
      },
      "source": [
        "# Download Dataset and Preprocess"
      ]
    },
    {
      "cell_type": "markdown",
      "metadata": {
        "id": "X0TaOXhnJ6Cm"
      },
      "source": [
        "## Mnist Dataset\n",
        "http://yann.lecun.com/exdb/mnist/"
      ]
    },
    {
      "cell_type": "markdown",
      "metadata": {
        "id": "WzJmw73H_hDi"
      },
      "source": [
        "#### Download Dataset"
      ]
    },
    {
      "cell_type": "code",
      "metadata": {
        "colab": {
          "base_uri": "https://localhost:8080/"
        },
        "id": "yLDWfXuIJ9PS",
        "outputId": "d4eb987c-586f-417e-a98b-5c514a698d49"
      },
      "source": [
        "!rm -r mnist\n",
        "!mkdir mnist\n",
        "!wget -O ./mnist/training_images.gz http://yann.lecun.com/exdb/mnist/train-images-idx3-ubyte.gz\n",
        "!wget -O ./mnist/training_labels.gz http://yann.lecun.com/exdb/mnist/train-labels-idx1-ubyte.gz\n",
        "!wget -O ./mnist/testing_images.gz http://yann.lecun.com/exdb/mnist/t10k-images-idx3-ubyte.gz\n",
        "!wget -O ./mnist/testing_labels.gz http://yann.lecun.com/exdb/mnist/t10k-labels-idx1-ubyte.gz"
      ],
      "execution_count": null,
      "outputs": [
        {
          "output_type": "stream",
          "text": [
            "rm: cannot remove 'mnist': No such file or directory\n",
            "--2020-12-16 12:15:28--  http://yann.lecun.com/exdb/mnist/train-images-idx3-ubyte.gz\n",
            "Resolving yann.lecun.com (yann.lecun.com)... 104.28.7.204, 104.28.6.204, 172.67.171.76, ...\n",
            "Connecting to yann.lecun.com (yann.lecun.com)|104.28.7.204|:80... connected.\n",
            "HTTP request sent, awaiting response... 200 OK\n",
            "Length: 9912422 (9.5M) [application/x-gzip]\n",
            "Saving to: ‘./mnist/training_images.gz’\n",
            "\n",
            "./mnist/training_im 100%[===================>]   9.45M  59.0MB/s    in 0.2s    \n",
            "\n",
            "2020-12-16 12:15:28 (59.0 MB/s) - ‘./mnist/training_images.gz’ saved [9912422/9912422]\n",
            "\n",
            "--2020-12-16 12:15:28--  http://yann.lecun.com/exdb/mnist/train-labels-idx1-ubyte.gz\n",
            "Resolving yann.lecun.com (yann.lecun.com)... 172.67.171.76, 104.28.6.204, 104.28.7.204, ...\n",
            "Connecting to yann.lecun.com (yann.lecun.com)|172.67.171.76|:80... connected.\n",
            "HTTP request sent, awaiting response... 200 OK\n",
            "Length: 28881 (28K) [application/x-gzip]\n",
            "Saving to: ‘./mnist/training_labels.gz’\n",
            "\n",
            "./mnist/training_la 100%[===================>]  28.20K  --.-KB/s    in 0.01s   \n",
            "\n",
            "2020-12-16 12:15:28 (2.15 MB/s) - ‘./mnist/training_labels.gz’ saved [28881/28881]\n",
            "\n",
            "--2020-12-16 12:15:28--  http://yann.lecun.com/exdb/mnist/t10k-images-idx3-ubyte.gz\n",
            "Resolving yann.lecun.com (yann.lecun.com)... 172.67.171.76, 104.28.7.204, 104.28.6.204, ...\n",
            "Connecting to yann.lecun.com (yann.lecun.com)|172.67.171.76|:80... connected.\n",
            "HTTP request sent, awaiting response... 200 OK\n",
            "Length: 1648877 (1.6M) [application/x-gzip]\n",
            "Saving to: ‘./mnist/testing_images.gz’\n",
            "\n",
            "./mnist/testing_ima 100%[===================>]   1.57M  --.-KB/s    in 0.1s    \n",
            "\n",
            "2020-12-16 12:15:29 (14.1 MB/s) - ‘./mnist/testing_images.gz’ saved [1648877/1648877]\n",
            "\n",
            "--2020-12-16 12:15:29--  http://yann.lecun.com/exdb/mnist/t10k-labels-idx1-ubyte.gz\n",
            "Resolving yann.lecun.com (yann.lecun.com)... 172.67.171.76, 104.28.7.204, 104.28.6.204, ...\n",
            "Connecting to yann.lecun.com (yann.lecun.com)|172.67.171.76|:80... connected.\n",
            "HTTP request sent, awaiting response... 200 OK\n",
            "Length: 4542 (4.4K) [application/x-gzip]\n",
            "Saving to: ‘./mnist/testing_labels.gz’\n",
            "\n",
            "./mnist/testing_lab 100%[===================>]   4.44K  --.-KB/s    in 0s      \n",
            "\n",
            "2020-12-16 12:15:29 (463 MB/s) - ‘./mnist/testing_labels.gz’ saved [4542/4542]\n",
            "\n"
          ],
          "name": "stdout"
        }
      ]
    },
    {
      "cell_type": "markdown",
      "metadata": {
        "id": "KRosvfPk_jnf"
      },
      "source": [
        "#### Preprocess"
      ]
    },
    {
      "cell_type": "code",
      "metadata": {
        "id": "uDPSfXSB_foz"
      },
      "source": [
        "import gzip\n",
        "\n",
        "train_img = gzip.open('./mnist/training_images.gz','r')\n",
        "test_img = gzip.open('./mnist/testing_images.gz','r')\n",
        "train_label = gzip.open('./mnist/training_labels.gz','r')\n",
        "test_label = gzip.open('./mnist/testing_labels.gz','r')\n",
        "\n",
        "image_size = 28\n",
        "train_num = 60000\n",
        "test_num = 10000\n",
        "\n",
        "\"\"\" Format training images \"\"\"\n",
        "train_img.read(16)\n",
        "buf = train_img.read(image_size * image_size * train_num)\n",
        "train_data = np.frombuffer(buf, dtype=np.uint8).astype(np.float32)\n",
        "train_data = train_data.reshape(train_num, image_size, image_size, 1)\n",
        "train_data = np.asarray(train_data).squeeze()\n",
        "\n",
        "\"\"\" Format testing images \"\"\"\n",
        "test_img.read(16)\n",
        "buf = test_img.read(image_size * image_size * test_num)\n",
        "test_data = np.frombuffer(buf, dtype=np.uint8).astype(np.float32)\n",
        "test_data = test_data.reshape(test_num, image_size, image_size, 1)\n",
        "test_data = np.asarray(test_data).squeeze()\n",
        "\n",
        "\"\"\" Flattern images \"\"\"\n",
        "mnist_train_data = train_data\n",
        "mnist_test_data = test_data\n",
        "\n",
        "\"\"\" Bound to 0 and 1 \"\"\"\n",
        "mnist_train_data /= 255\n",
        "mnist_test_data /= 255\n",
        "\n",
        "\"\"\" Format training labels \"\"\"\n",
        "train_label.read(8)\n",
        "train_target = np.zeros((train_num))\n",
        "for i in range(0,train_num):   \n",
        "    buf = train_label.read(1)\n",
        "    train_target[i] = int.from_bytes(buf, \"big\")\n",
        "\n",
        "test_label.read(8)\n",
        "test_target = np.zeros((test_num))\n",
        "for i in range(0,test_num):   \n",
        "    buf = test_label.read(1)\n",
        "    test_target[i] = int.from_bytes(buf, \"big\")\n",
        "\n",
        "\"\"\" Label One hot encoding \"\"\"\n",
        "mnist_train_label = np.zeros((train_num, 10))\n",
        "for i in range(train_target.shape[0]):\n",
        "  num = int(train_target[i])\n",
        "  mnist_train_label[i,num] = 1\n",
        "\n",
        "mnist_test_label = np.zeros((test_num, 10))\n",
        "for i in range(test_target.shape[0]):\n",
        "  num = int(test_target[i])\n",
        "  mnist_test_label[i,num] = 1"
      ],
      "execution_count": null,
      "outputs": []
    },
    {
      "cell_type": "code",
      "metadata": {
        "colab": {
          "base_uri": "https://localhost:8080/"
        },
        "id": "EXrI1MGJNbl3",
        "outputId": "5af94f71-307a-42d5-b1c9-936f06336d72"
      },
      "source": [
        "mnist_train_data"
      ],
      "execution_count": null,
      "outputs": [
        {
          "output_type": "execute_result",
          "data": {
            "text/plain": [
              "array([[[0., 0., 0., ..., 0., 0., 0.],\n",
              "        [0., 0., 0., ..., 0., 0., 0.],\n",
              "        [0., 0., 0., ..., 0., 0., 0.],\n",
              "        ...,\n",
              "        [0., 0., 0., ..., 0., 0., 0.],\n",
              "        [0., 0., 0., ..., 0., 0., 0.],\n",
              "        [0., 0., 0., ..., 0., 0., 0.]],\n",
              "\n",
              "       [[0., 0., 0., ..., 0., 0., 0.],\n",
              "        [0., 0., 0., ..., 0., 0., 0.],\n",
              "        [0., 0., 0., ..., 0., 0., 0.],\n",
              "        ...,\n",
              "        [0., 0., 0., ..., 0., 0., 0.],\n",
              "        [0., 0., 0., ..., 0., 0., 0.],\n",
              "        [0., 0., 0., ..., 0., 0., 0.]],\n",
              "\n",
              "       [[0., 0., 0., ..., 0., 0., 0.],\n",
              "        [0., 0., 0., ..., 0., 0., 0.],\n",
              "        [0., 0., 0., ..., 0., 0., 0.],\n",
              "        ...,\n",
              "        [0., 0., 0., ..., 0., 0., 0.],\n",
              "        [0., 0., 0., ..., 0., 0., 0.],\n",
              "        [0., 0., 0., ..., 0., 0., 0.]],\n",
              "\n",
              "       ...,\n",
              "\n",
              "       [[0., 0., 0., ..., 0., 0., 0.],\n",
              "        [0., 0., 0., ..., 0., 0., 0.],\n",
              "        [0., 0., 0., ..., 0., 0., 0.],\n",
              "        ...,\n",
              "        [0., 0., 0., ..., 0., 0., 0.],\n",
              "        [0., 0., 0., ..., 0., 0., 0.],\n",
              "        [0., 0., 0., ..., 0., 0., 0.]],\n",
              "\n",
              "       [[0., 0., 0., ..., 0., 0., 0.],\n",
              "        [0., 0., 0., ..., 0., 0., 0.],\n",
              "        [0., 0., 0., ..., 0., 0., 0.],\n",
              "        ...,\n",
              "        [0., 0., 0., ..., 0., 0., 0.],\n",
              "        [0., 0., 0., ..., 0., 0., 0.],\n",
              "        [0., 0., 0., ..., 0., 0., 0.]],\n",
              "\n",
              "       [[0., 0., 0., ..., 0., 0., 0.],\n",
              "        [0., 0., 0., ..., 0., 0., 0.],\n",
              "        [0., 0., 0., ..., 0., 0., 0.],\n",
              "        ...,\n",
              "        [0., 0., 0., ..., 0., 0., 0.],\n",
              "        [0., 0., 0., ..., 0., 0., 0.],\n",
              "        [0., 0., 0., ..., 0., 0., 0.]]], dtype=float32)"
            ]
          },
          "metadata": {
            "tags": []
          },
          "execution_count": 4
        }
      ]
    },
    {
      "cell_type": "markdown",
      "metadata": {
        "id": "W35byTAi2yCw"
      },
      "source": [
        "# Network\n"
      ]
    },
    {
      "cell_type": "markdown",
      "metadata": {
        "id": "JOvCfbcU74tu"
      },
      "source": [
        "## Function class"
      ]
    },
    {
      "cell_type": "code",
      "metadata": {
        "id": "XGTuTF9p74Yk"
      },
      "source": [
        "class model_func():\n",
        "  epsilon = 1e-9  # Deal with unstable value\n",
        "  clip_exp = 700\n",
        "  \"\"\" Activation function \"\"\"\n",
        "  @classmethod\n",
        "  def relu(cls, z):\n",
        "    return np.maximum(0,z)\n",
        "\n",
        "  @classmethod\n",
        "  def d_relu(cls, z):\n",
        "    return np.where(z<=0, 0, 1)\n",
        "\n",
        "  @classmethod\n",
        "  def sigmoid(cls, z):\n",
        "    z = np.clip(z, -cls.clip_exp, cls.clip_exp)\n",
        "    return 1/(1+np.exp(-z))\n",
        "\n",
        "  @classmethod\n",
        "  def d_sigmoid(cls, z):\n",
        "    z = np.clip(z, -cls.clip_exp, cls.clip_exp)\n",
        "    s = 1/(1+np.exp(-z))\n",
        "    return s*(1-s)\n",
        "\n",
        "  @classmethod\n",
        "  def softmax(cls, z):\n",
        "    tmp_z = z - max(z)\n",
        "    numerator = np.exp(tmp_z)\n",
        "    return numerator/np.sum(numerator)\n",
        "\n",
        "  @classmethod\n",
        "  def d_softmax(cls, z):\n",
        "    d_z = np.diag(z)\n",
        "    for i in range(len(d_z)):\n",
        "      for j in range(len(d_z)):\n",
        "        if i == j:\n",
        "          d_z[i][j] = z[i] * (1-z[i])\n",
        "        else: \n",
        "          d_z[i][j] = -z[i]*z[j]\n",
        "    return d_z\n",
        "\n",
        "  @classmethod\n",
        "  def linear(cls, z):\n",
        "    return z\n",
        "  \n",
        "  @classmethod\n",
        "  def d_linear(cls, z):\n",
        "    return 1\n",
        "\n",
        "  \"\"\" Loss function \"\"\"\n",
        "  @classmethod\n",
        "  def mean_squared_error(cls, z, target):\n",
        "    loss = 0.5*(z - target)**2\n",
        "    d_loss = z - target\n",
        "    return loss, d_loss\n",
        "\n",
        "  @classmethod\n",
        "  def binary_cross_entropy(cls, z, target):\n",
        "    z = np.clip(z, cls.epsilon, 1-cls.epsilon)\n",
        "    if target == 1:\n",
        "      loss = -np.log(z)\n",
        "    else:\n",
        "      loss = -np.log(1-z)\n",
        "    d_loss = (z-target)/(z*(1-z))\n",
        "    return loss, d_loss\n",
        "\n",
        "  @classmethod\n",
        "  def cross_entropy(cls, z, target):\n",
        "    z = np.clip(z, cls.epsilon, 1-cls.epsilon)\n",
        "    loss = -np.sum(target*np.log(z))\n",
        "    d_loss = -target/z\n",
        "    return loss, d_loss\n",
        "\n",
        "  @classmethod\n",
        "  def softmax_cross_entropy_derivative(cls, z, target):\n",
        "    z = np.clip(z, cls.epsilon, 1-cls.epsilon)\n",
        "    loss = -np.sum(target*np.log(z))\n",
        "    d_loss = z - target\n",
        "    return loss, d_loss\n",
        "\n",
        "  \"\"\" Accuracy calculation \"\"\"\n",
        "  @classmethod\n",
        "  def binary_accuracy(cls, z, target):\n",
        "    predict = np.where(z >= 0.5, 1, 0)\n",
        "    return np.mean(predict==target)\n",
        "\n",
        "  @classmethod\n",
        "  def categorical_accuracy(cls, z, target):\n",
        "    predict = (z == z.max(axis=1)[:,None]).astype(int)\n",
        "    return np.mean(np.all(predict == target, axis=1)) "
      ],
      "execution_count": null,
      "outputs": []
    },
    {
      "cell_type": "markdown",
      "metadata": {
        "id": "gZHs1R3u2_4J"
      },
      "source": [
        "## Full connected layer"
      ]
    },
    {
      "cell_type": "code",
      "metadata": {
        "id": "nXNhoxEa26Ha"
      },
      "source": [
        "class fc_layer():\n",
        "  def __init__(self, n_neuron, n_input, activation=\"relu\"):\n",
        "    self.n_neuron = n_neuron                    # Number of neuron in this FC layer\n",
        "    self.n_input = n_input+1                    # Number of previous layer neuron, plus 1 bias\n",
        "    self.out = np.zeros(self.n_neuron)           #　Output of each neuron after activation\n",
        "    self.d_out = np.zeros(self.n_neuron)         #　Derivative of activation\n",
        "    self.weight = (np.random.randn(self.n_input, self.n_neuron) / np.sqrt(self.n_input)).T # Xavier weight initialization\n",
        "    self.d_weight = np.zeros((self.n_neuron, self.n_input)) # Delta of weights\n",
        "    self.bp_z = np.zeros(n_input)               # The output value to next layer during backward path\n",
        "    self.fp_input = np.zeros(self.n_input)      # The input of layer during fordward path\n",
        "    self.fp_input[-1] = 1                       # Set bias to constant 1\n",
        "    self.bp_precal = False\n",
        "\n",
        "    # Set up activation function\n",
        "    assert activation in {'relu', 'sigmoid', 'softmax', 'linear'}\n",
        "    if activation == \"relu\":\n",
        "      self.activation = model_func.relu\n",
        "      self.d_activation = model_func.d_relu\n",
        "    elif activation == \"sigmoid\":\n",
        "      self.activation = model_func.sigmoid\n",
        "      self.d_activation = model_func.d_sigmoid\n",
        "    elif activation == \"softmax\":\n",
        "      self.activation = model_func.softmax\n",
        "      self.d_activation = model_func.d_softmax\n",
        "    elif activation == \"linear\":\n",
        "      self.activation = model_func.linear\n",
        "      self.d_activation = model_func.d_linear\n",
        "\n",
        "  def update_weight(self):\n",
        "    \"\"\" Update weight \"\"\"\n",
        "    self.weight = self.weight + self.d_weight\n",
        "    self.d_weight.fill(0)\n",
        "\n",
        "  def forward(self, fp_input):\n",
        "    \"\"\" Calculate weight*input value, namely z \"\"\"\n",
        "    self.fp_input[0:-1] = fp_input\n",
        "    z = np.dot(self.weight, self.fp_input)\n",
        "    self.out = self.activation(z)\n",
        "    self.d_out = self.d_activation(z)\n",
        "\n",
        "  def backward(self, bp_input, lr):\n",
        "    \"\"\" Calculate the increment value of weight and the output to next layer during bp \"\"\"\n",
        "    if self.bp_precal == False:\n",
        "      de_dz = bp_input * self.d_out\n",
        "    else:\n",
        "      de_dz = bp_input\n",
        "    self.bp_z = np.dot(self.weight[:,0:-1].T, de_dz)\n",
        "    d_weight = np.outer(de_dz, self.fp_input)\n",
        "    self.d_weight = self.d_weight - lr * d_weight\n",
        "  \n",
        "  def get_weight(self):\n",
        "    return [\"fc_layer\" ,self.weight]\n",
        "\n",
        "  def load_weight(self, weight):\n",
        "    if len(weight) != 1 or weight[0].shape != self.weight.shape:\n",
        "      raise RuntimeError(\"Error, shape not match\")\n",
        "    else:\n",
        "      self.weight = weight[0]"
      ],
      "execution_count": null,
      "outputs": []
    },
    {
      "cell_type": "markdown",
      "metadata": {
        "id": "gywtiG1A8uli"
      },
      "source": [
        "## Convolution layer"
      ]
    },
    {
      "cell_type": "code",
      "metadata": {
        "id": "e2h9ismx8wVm"
      },
      "source": [
        "class conv2d_layer():\n",
        "  def __init__(self, input_shape, n_filter, filter_size=(1,1), strides=(1,1), activation=\"relu\"):\n",
        "    \"\"\"\n",
        "    input_shape - shape of input feature map, would be depth x height x width\n",
        "    filter_size - shape of filter, would be (width x height)\n",
        "    \"\"\"\n",
        "    if len(input_shape) != 3:\n",
        "      raise RuntimeError(\"Input shape shpuld be a 3-D array which contains [channel, height, width]\")\n",
        "\n",
        "    self.filter_size = np.array( [filter_size[1],filter_size[0]] )  # Height, Width\n",
        "    self.strides = np.array( [strides[1],strides[0]] )  # Height, Width\n",
        "\n",
        "    # Weight Initialization\n",
        "    filter_shape = (n_filter, input_shape[0], self.filter_size[0], self.filter_size[1]) # Filter - nparray, shape should be (num_filter, depth, height, width)\n",
        "    self.weight = self.glorot_uniform(filter_shape)\n",
        "    self.d_weight = np.zeros(self.weight.shape)\n",
        "\n",
        "    self.weight_bias = np.random.randn(n_filter)/np.sqrt(n_filter)\n",
        "    self.weight_bias = self.weight_bias.reshape((n_filter,1,1))\n",
        "    self.d_weight_bias = np.zeros(self.weight_bias.shape)\n",
        "\n",
        "    # Output initialization\n",
        "    output_length = np.subtract(input_shape[1:], self.weight.shape[2:]) + 1\n",
        "    output_length = (output_length + self.strides - 1) // self.strides\n",
        "\n",
        "    out_shape = np.array((n_filter, output_length[0], output_length[1])) # (num_fmap, height, width)\n",
        "    self.out = np.zeros(out_shape)\n",
        "    self.d_out = np.zeros(out_shape)\n",
        "\n",
        "    # Backpropagation setting\n",
        "    self.bp_pad = self.filter_size - 1\n",
        "    self.bp_z = np.zeros(input_shape)\n",
        "    self.valid_length = 1 + self.strides * (output_length - 1) + np.subtract(self.weight.shape[2:],1)\n",
        "\n",
        "    dilate_size = np.where(out_shape[1:]>2, out_shape[1:]-1, 1)\n",
        "    dilated_bp_size = out_shape[1:] + dilate_size*(self.strides-1)\n",
        "    gradient_size = dilated_bp_size + self.bp_pad*2\n",
        "    self.extand_gradient = np.zeros((out_shape[0], gradient_size[0], gradient_size[1]))\n",
        "\n",
        "    # Convolution Map setting\n",
        "    t_weight_shape = self.weight.transpose(0, 1, 3, 2).shape[2:]\n",
        "    self.for_map_shape = self.weight.shape[1:] + tuple(np.subtract(input_shape, self.weight.shape[1:]) + 1)\n",
        "    self.back_dw_shape = (input_shape[0],) + tuple(dilated_bp_size) + (1,) + tuple(np.subtract(self.valid_length, dilated_bp_size) + 1)\n",
        "    self.back_dz_shape = (self.extand_gradient.shape[0],)+ t_weight_shape + (1,) + tuple(np.subtract(self.extand_gradient.shape[1:], t_weight_shape) + 1)\n",
        "\n",
        "    # Set up activation function\n",
        "    assert activation in {'relu', 'sigmoid', 'linear'}\n",
        "    if activation == \"relu\":\n",
        "      self.activation = model_func.relu\n",
        "      self.d_activation = model_func.d_relu\n",
        "    elif activation == \"sigmoid\":\n",
        "      self.activation = model_func.sigmoid\n",
        "      self.d_activation = model_func.d_sigmoid\n",
        "    elif activation == \"linear\":\n",
        "      self.activation = model_func.linear\n",
        "      self.d_activation = model_func.d_linear\n",
        "    \n",
        "  # CNN Xavier Glorot's initialization functions\n",
        "  def get_fans(self, shape):\n",
        "    \"\"\" shape: (num_filter, depth, height, width) \"\"\"\n",
        "    fan_in = np.prod(shape[1:])\n",
        "    fan_out = shape[0]\n",
        "    return fan_in, fan_out\n",
        "\n",
        "  def glorot_uniform(self, shape):\n",
        "    \"\"\" Reference: Glorot & Bengio, AISTATS 2010 \"\"\"\n",
        "    fan_in, fan_out = self.get_fans(shape)\n",
        "    s = np.sqrt(6. / (fan_in + fan_out))\n",
        "    return np.random.uniform(size=shape, high=s, low=-s)\n",
        "\n",
        "  def update_weight(self):\n",
        "    \"\"\" Update weight \"\"\"\n",
        "    self.weight = self.weight + self.d_weight\n",
        "    self.d_weight.fill(0)\n",
        "\n",
        "    self.weight_bias = self.weight_bias + self.d_weight_bias\n",
        "    self.d_weight_bias.fill(0) \n",
        "\n",
        "  def forward(self, fp_input):\n",
        "    \"\"\"\n",
        "    2D convolution over feature maps\n",
        "\n",
        "    param  fp_input - nparray, shape should be (depth, height, width)\n",
        "    note  conv - nparray, shape is (num_fmap, height, width)\n",
        "    note  depth of fp_input should be equal to depth of filter\n",
        "    \"\"\"\n",
        "    self.fp_input = fp_input\n",
        "\n",
        "    subM = conv2d_map(self.fp_input, shape=self.for_map_shape, strides=self.fp_input.strides*2, writeable=False)\n",
        "    conv = np.einsum('ijkl,jklmno->ino', self.weight, subM[..., ::self.strides[0], ::self.strides[1]]) # The last to dimension is each 2D feature map\n",
        "\n",
        "    z = conv + self.weight_bias\n",
        "    self.out = self.activation(z)\n",
        "    self.d_out = self.d_activation(z)\n",
        "\n",
        "  def backward(self, bp_input, lr):\n",
        "\n",
        "    self.extand_gradient.fill(0)\n",
        "    self.extand_gradient[:, self.bp_pad[0]:-self.bp_pad[0]:self.strides[0], self.bp_pad[1]:-self.bp_pad[1]:self.strides[1]] = bp_input\n",
        "\n",
        "    # Weight change\n",
        "    dilated_bp_input = self.extand_gradient[:, self.bp_pad[0]:-self.bp_pad[0], self.bp_pad[1]:-self.bp_pad[1]]\n",
        "    valid_input = self.fp_input[:, :self.valid_length[0], :self.valid_length[1]]\n",
        "\n",
        "    subM = conv2d_map(valid_input, shape=self.back_dw_shape, strides=valid_input.strides*2, writeable=False)\n",
        "    d_weight = np.einsum('ikl,jklmno->ijno', dilated_bp_input, subM)\n",
        "    self.d_weight = self.d_weight - lr * d_weight\n",
        "\n",
        "    d_weight_bias = np.sum(dilated_bp_input, axis=(1,2)).reshape(self.d_weight_bias.shape)\n",
        "    self.d_weight_bias = self.d_weight_bias - lr * d_weight_bias\n",
        "\n",
        "    # Gradient\n",
        "    subM = conv2d_map(self.extand_gradient, shape=self.back_dz_shape, strides=self.extand_gradient.strides*2, writeable=False)\n",
        "    conv = np.einsum('ijkl,iklmno->jno', self.weight.transpose(0, 1, 3, 2), subM)\n",
        "    self.bp_z[:conv.shape[0],:conv.shape[1],:conv.shape[2]] = conv\n",
        "\n",
        "  def get_weight(self):\n",
        "    return [\"conv2d\", self.weight, self.weight_bias]\n",
        "\n",
        "  def load_weight(self, weight):\n",
        "    if len(weight) != 2 or weight[0].shape != self.weight.shape or weight[1].shape != self.weight_bias.shape:\n",
        "      raise RuntimeError(\"Error, shape not match\")\n",
        "    else:\n",
        "      self.weight = weight[0]\n",
        "      self.weght_bias = weight[1]"
      ],
      "execution_count": null,
      "outputs": []
    },
    {
      "cell_type": "markdown",
      "metadata": {
        "id": "oLEtieK0I-FE"
      },
      "source": [
        "## Flattern Layer"
      ]
    },
    {
      "cell_type": "code",
      "metadata": {
        "id": "M6Zz-fAjI80E"
      },
      "source": [
        "class flattern():\n",
        "  def __init__(self, input_shape):\n",
        "    \"\"\"\n",
        "    input_shape - shape of input feature map, would be depth x height x width\n",
        "    \"\"\"\n",
        "    if len(input_shape) != 3:\n",
        "      raise RuntimeError(\"Input shape shpuld be a 3-D array which contains [channel, height, width]\")\n",
        "\n",
        "    self.input_shape = input_shape\n",
        "    output_length = input_shape[0]*input_shape[1]*input_shape[2]\n",
        "    self.n_neuron = output_length\n",
        "\n",
        "  def update_weight(self):\n",
        "    pass\n",
        "  def forward(self, fp_input):\n",
        "    self.out = fp_input.reshape(self.n_neuron)\n",
        "  def backward(self, bp_input, lr):\n",
        "    self.bp_z = bp_input.reshape(self.input_shape)\n",
        "  def get_weight(self):\n",
        "    return [\"flattern\"]"
      ],
      "execution_count": null,
      "outputs": []
    },
    {
      "cell_type": "markdown",
      "metadata": {
        "id": "hKUkwyNmMIMZ"
      },
      "source": [
        "## Average pooling layer"
      ]
    },
    {
      "cell_type": "code",
      "metadata": {
        "id": "LBqQVCiqMHcT"
      },
      "source": [
        "class average_pooling2d():\n",
        "  def __init__(self, input_shape, pool_size=(2,2), strides=(1,1)):\n",
        "    \"\"\"\n",
        "    input_shape - shape of input feature map, would be depth x height x width\n",
        "    pool_size - shape of filter, would be (width x height)\n",
        "    \"\"\"\n",
        "    if len(input_shape) != 3:\n",
        "      raise RuntimeError(\"Input shape shpuld be a 3-D array which contains [channel, height, width]\")\n",
        "\n",
        "    self.pool_size = np.array( [pool_size[1],pool_size[0]] )  # Height, Width\n",
        "    self.strides = np.array( [strides[1],strides[0]] )  # Height, Width\n",
        "\n",
        "    # Weight Initialization\n",
        "    filter_value = 1/(pool_size[0]*pool_size[1])\n",
        "    filter_shape = (1, input_shape[0], self.pool_size[0], self.pool_size[1]) # Filter - nparray, shape should be (num_filter, depth, height, width)\n",
        "    self.weight = np.full(shape=filter_shape, fill_value=filter_value)\n",
        "\n",
        "    # Output initialization\n",
        "    output_length = np.subtract(input_shape[1:], self.weight.shape[2:]) + 1\n",
        "    output_length = (output_length + self.strides - 1) // self.strides\n",
        "\n",
        "    out_shape = np.array((input_shape[0], output_length[0], output_length[1])) # (depth, height, width)\n",
        "    self.out = np.zeros(out_shape)\n",
        "\n",
        "    # Backpropagation setting\n",
        "    self.bp_pad = self.pool_size - 1\n",
        "    self.bp_z = np.zeros(input_shape)\n",
        "\n",
        "    dilate_size = np.where(out_shape[1:]>2, out_shape[1:]-1, 1)\n",
        "    gradient_size = out_shape[1:] + dilate_size*(self.strides-1) + self.bp_pad*2\n",
        "    self.extand_gradient = np.zeros((out_shape[0], gradient_size[0], gradient_size[1]))\n",
        "\n",
        "    # Convolution Map setting\n",
        "    t_weight_shape = self.weight.transpose(0, 1, 3, 2).shape[2:]\n",
        "    self.for_map_shape = self.weight.shape[1:] + tuple(np.subtract(input_shape, self.weight.shape[1:]) + 1)\n",
        "    self.back_dz_shape = (self.extand_gradient.shape[0],)+ t_weight_shape + (1,) + tuple(np.subtract(self.extand_gradient.shape[1:], t_weight_shape) + 1)\n",
        "\n",
        "  def update_weight(self):\n",
        "    pass\n",
        "\n",
        "  def forward(self, fp_input):\n",
        "    self.fp_input = fp_input\n",
        "\n",
        "    subM = conv2d_map(self.fp_input, shape=self.for_map_shape, strides=self.fp_input.strides*2, writeable=False)\n",
        "    self.out = np.einsum('ijkl,jklmno->jno', self.weight, subM[..., ::self.strides[0], ::self.strides[1]]) # The last to dimension is each 2D feature map\n",
        "\n",
        "  def backward(self, bp_input, lr=0):\n",
        "    self.extand_gradient.fill(0)\n",
        "    self.extand_gradient[:, self.bp_pad[0]:-self.bp_pad[0]:self.strides[0], self.bp_pad[1]:-self.bp_pad[1]:self.strides[1]] = bp_input\n",
        "\n",
        "    # Gradient\n",
        "    subM = conv2d_map(self.extand_gradient, shape=self.back_dz_shape, strides=self.extand_gradient.strides*2, writeable=False)\n",
        "    conv = np.einsum('ijkl,jklmno->jno', self.weight.transpose(0, 1, 3, 2), subM)\n",
        "    self.bp_z[:conv.shape[0],:conv.shape[1],:conv.shape[2]] = conv\n",
        "\n",
        "  def get_weight(self):\n",
        "    return [\"averagepooling2d\"]"
      ],
      "execution_count": null,
      "outputs": []
    },
    {
      "cell_type": "markdown",
      "metadata": {
        "id": "0sWn5MUC3DL3"
      },
      "source": [
        "## RBF Layer"
      ]
    },
    {
      "cell_type": "code",
      "metadata": {
        "id": "93imh4u1Gl7l"
      },
      "source": [
        "class rbf_Layer():\n",
        "  def __init__(self, RBF=\"gaussian\", center=None, sigma=None, c_lr=0.001, s_lr=0.001):\n",
        "    # Parameter attribute\n",
        "    if RBF == \"gaussian\":\n",
        "      self.RBF = self.forward_Gaussian;\n",
        "      self.backward = self.backward_Gaussian\n",
        "    elif RBF == \"multiquadratic\":\n",
        "      self.RBF = self.forward_Multiquadratic\n",
        "      self.backward = self.backward_Multiquadratic\n",
        "    elif RBF == \"inverse_multiquadric\":\n",
        "      self.RBF = self.forward_Inverse_Multiquadric\n",
        "      self.backward = self.backward_Inverse_Multiquadric\n",
        "    elif RBF == \"inverse_quadratic\":\n",
        "      self.RBF = self.forward_Inverse_Quadratic\n",
        "      self.backward = self.backward_Inverse_Quadratic\n",
        "    else:\n",
        "      raise RuntimeError(\"Unknown RBF kernel {}\".format(RBF))\n",
        "    \n",
        "    self.c_lr = c_lr\n",
        "    self.s_lr = s_lr\n",
        "\n",
        "    if center is not None:\n",
        "      self.center = center\n",
        "      self.sigma = sigma\n",
        "      self.n_neuron = center.shape[0]   # Output shape, prepared for next layer\n",
        "    \n",
        "    self.d_center = np.zeros(center.shape) # Accumulated Center change\n",
        "    self.d_sigma = np.zeros(sigma.shape)  # Accumulated Sigma change\n",
        "    self.min_data = 1e-9           # Minimum accepted value of RBF\n",
        "    self.first_input = None         # The previous input\n",
        "    self.out = np.zeros(center.shape[0])  # Output of the RBF kernel        \n",
        "\n",
        "  # Update the weight with accumulated value\n",
        "  def update_weight(self):\n",
        "    self.center = self.center + self.d_center\n",
        "    self.d_center = np.zeros(self.center.shape)\n",
        "\n",
        "    self.sigma = self.sigma + self.d_sigma\n",
        "    self.d_sigma = np.zeros(self.sigma.shape)\n",
        "\n",
        "  def forward(self, input):\n",
        "    self.first_input = input\n",
        "    self.RBF(input)\n",
        "\n",
        "  # Different forward RBF kernel\n",
        "  def forward_Gaussian(self, fp_input):\n",
        "    var1 = -np.sum((fp_input-self.center)**2, axis=1)/(2*self.sigma**2)\n",
        "    var2 = np.exp(var1)\n",
        "    var3 = np.where(var2<=self.min_data, self.min_data, var2)\n",
        "    self.out = var3\n",
        "\n",
        "  def forward_Multiquadratic(self, fp_input):\n",
        "    var1 = np.sqrt(np.sum((fp_input-self.center)**2, axis=1)+self.sigma**2)\n",
        "    self.out = var1\n",
        "\n",
        "  def forward_Inverse_Multiquadric(self, fp_input):\n",
        "    var1 = np.sqrt(np.sum((fp_input-self.center)**2, axis=1)+self.sigma**2)\n",
        "    self.out = 1/var1\n",
        "\n",
        "  def forward_Inverse_Quadratic(self, fp_input):\n",
        "    var1 = np.sum((fp_input-self.center)**2, axis=1)+self.sigma**2\n",
        "    self.out = 1/var1\n",
        "\n",
        "  # Different derivative of RBF kernel\n",
        "  def backward_Gaussian(self, bp_input, lr):\n",
        "    de_dz = bp_input\n",
        "\n",
        "    # Calculate center position change\n",
        "    d_center_var1 = de_dz * self.out\n",
        "    d_center_var2 = self.center - self.first_input\n",
        "    d_center = -1 * (d_center_var2.T * (d_center_var1 / self.sigma**2)).T\n",
        "    self.d_center = self.d_center - lr*self.c_lr*d_center\n",
        "\n",
        "    # Calculate sigma value change\n",
        "    d_sigma = d_center_var1 * np.sum((d_center_var2**2),axis=1) / (self.sigma**3)\n",
        "    self.d_sigma = self.d_sigma - lr*self.s_lr*d_sigma\n",
        "\n",
        "  def backward_Multiquadratic(self, bp_input, lr):\n",
        "    de_dz = bp_input\n",
        "\n",
        "    # Calculate center position change\n",
        "    d_center = ((self.center - self.first_input).T * (de_dz / self.out)).T\n",
        "    self.d_center = self.d_center - lr*self.c_lr*d_center\n",
        "\n",
        "    # Calculate sigma value change\n",
        "    d_sigma = de_dz * self.sigma / self.out\n",
        "    self.d_sigma = self.d_sigma - lr*self.s_lr*d_sigma\n",
        "\n",
        "  def backward_Inverse_Multiquadric(self, bp_input, lr):\n",
        "    de_dz = bp_input\n",
        "\n",
        "    # Calculate center position change\n",
        "    d_center = (-(self.center - self.first_input).T * (de_dz * self.out**3)).T\n",
        "    self.d_center = self.d_center - lr*self.c_lr*d_center\n",
        "\n",
        "    # Calculate sigma value change\n",
        "    d_sigma = de_dz * -self.sigma * self.out**3\n",
        "    self.d_sigma = self.d_sigma - lr*self.s_lr*d_sigma\n",
        "\n",
        "  def backward_Inverse_Quadratic(self, bp_input, lr):\n",
        "    de_dz = bp_input\n",
        "\n",
        "    # Calculate center position change\n",
        "    d_center = (-2 * (self.center - self.first_input).T * (de_dz * self.out**2)).T\n",
        "    self.d_center = self.d_center - lr*self.c_lr*d_center\n",
        "\n",
        "    # Calculate sigma value change\n",
        "    d_sigma = -2 * de_dz * self.sigma * self.out**2\n",
        "    self.d_sigma = self.d_sigma - lr*self.s_lr*d_sigma"
      ],
      "execution_count": null,
      "outputs": []
    },
    {
      "cell_type": "markdown",
      "metadata": {
        "id": "EeeHE_BD3gcs"
      },
      "source": [
        "## Model class"
      ]
    },
    {
      "cell_type": "code",
      "metadata": {
        "id": "qK50JD-W3k6g"
      },
      "source": [
        "class sequential():\n",
        "  def __init__(self):\n",
        "    self.n_layer = []\n",
        "\n",
        "  def add_fc(self, n_neuron, input_width=None, activation=\"relu\"):\n",
        "    \"\"\" Add fully connected layer into model \"\"\"\n",
        "    if len(self.n_layer) == 0:\n",
        "      if input_width is None:\n",
        "        raise RuntimeError(\"The input width of input layer must be provided\")\n",
        "      else:\n",
        "        tmp_layer = fc_layer(n_neuron, input_width, activation)\n",
        "    else:\n",
        "      if input_width is not None:\n",
        "        warnings.warn(\"The input width of hidden layer will not be used.\")\n",
        "      else:\n",
        "        tmp_layer = fc_layer(n_neuron, self.n_layer[-1].n_neuron, activation)\n",
        "    self.n_layer.append(tmp_layer)\n",
        "  \n",
        "  def add_rbf(self, RBF=\"gaussian\", center=None, sigma=None, c_lr=0.01, s_lr=0.01):\n",
        "    \"\"\" Add a RBF layer into model \"\"\"\n",
        "    if len(self.n_layer) != 0:\n",
        "      raise RuntimeError(\"The RBF layer must be the first layer.\")\n",
        "    else:\n",
        "      tmp_layer = rbf_Layer(RBF=RBF, center=center, sigma=sigma, c_lr=c_lr, s_lr=s_lr)\n",
        "    self.n_layer.append(tmp_layer)\n",
        "\n",
        "  def add_conv2d(self, n_filter, filter_size=(3,3), input_width=None, strides=(1,1), activation=\"relu\"):\n",
        "    if len(self.n_layer) == 0:\n",
        "      if input_width is None:\n",
        "        raise RuntimeError(\"The input width of input layer must be provided\")\n",
        "      else:\n",
        "        tmp_layer = conv2d_layer(input_shape=input_width, n_filter=n_filter, filter_size=filter_size, strides=strides, activation=activation)\n",
        "    else:\n",
        "      if input_width is not None:\n",
        "        pwarnings.warn(\"The input width of hidden layer will not be used.\")\n",
        "      else:\n",
        "        tmp_layer = conv2d_layer(input_shape=self.n_layer[-1].out.shape, n_filter=n_filter, filter_size=filter_size, strides=strides, activation=activation)\n",
        "    self.n_layer.append(tmp_layer)\n",
        "\n",
        "  def add_flattern(self, input_width=None):\n",
        "    if len(self.n_layer) == 0:\n",
        "      if input_width is None:\n",
        "        raise RuntimeError(\"The input width of input layer must be provided\")\n",
        "      else:\n",
        "        tmp_layer = flattern(input_shape=input_width)\n",
        "    else:\n",
        "      if input_width is not None:\n",
        "        warnings.warn(\"The input width of hidden layer will not be used.\")\n",
        "      else:\n",
        "        tmp_layer = flattern(input_shape=self.n_layer[-1].out.shape)\n",
        "    self.n_layer.append(tmp_layer)\n",
        "\n",
        "  def add_averagepooling2d(self, input_width=None, pool_size=(2,2), strides=(1,1)):\n",
        "    if len(self.n_layer) == 0:\n",
        "      if input_width is None:\n",
        "        raise RuntimeError(\"The input width of input layer must be provided\")\n",
        "      else:\n",
        "        tmp_layer = average_pooling2d(input_shape=input_width, pool_size=pool_size, strides=strides)\n",
        "    else:\n",
        "      if input_width is not None:\n",
        "        warnings.warn(\"The input width of hidden layer will not be used.\")\n",
        "      else:\n",
        "        tmp_layer = average_pooling2d(input_shape=self.n_layer[-1].out.shape, pool_size=pool_size, strides=strides)\n",
        "    self.n_layer.append(tmp_layer)\n",
        "\n",
        "  def forward_path(self, input):\n",
        "    \"\"\" Calculate forward path value \"\"\"\n",
        "    for i in range(len(self.n_layer)):\n",
        "      if i == 0:\n",
        "        self.n_layer[i].forward(input)\n",
        "      else:\n",
        "        self.n_layer[i].forward(self.n_layer[i-1].out)\n",
        "  \n",
        "  def backword_path(self, d_loss, learning_rate):\n",
        "    \"\"\" Back propagation path \"\"\"\n",
        "    for i in range(len(self.n_layer)-1, -1, -1):\n",
        "      if i != len(self.n_layer)-1:\n",
        "        self.n_layer[i].backward(self.n_layer[i+1].bp_z, lr=learning_rate)\n",
        "      else:\n",
        "        self.n_layer[i].backward(d_loss, lr=learning_rate)\n",
        "\n",
        "  def predict(self, input):\n",
        "    \"\"\" Predict output \"\"\"\n",
        "    predict = np.zeros((input.shape[0], self.n_layer[-1].n_neuron))\n",
        "    for idx,data in enumerate(input):\n",
        "      self.forward_path(data)\n",
        "      predict[idx] = self.n_layer[-1].out\n",
        "    return predict\n",
        "\n",
        "  def score(self, predict, target):\n",
        "    \"\"\" Scoring function \"\"\"\n",
        "    if predict.shape != target.shape:\n",
        "      raise RuntimeError(\"Predict shape and expected shape not match. {} v.s. {}\".format(predict.shape, target.shape))\n",
        "    else:\n",
        "      return np.mean(np.all(predict == target, axis=1))\n",
        "\n",
        "  def fit(self, input, target, max_iter=1000, learning_rate=0.01, batch_size=1, optimizer=None, loss=\"mean_squared_error\", accuracy=\"skip\"):\n",
        "\n",
        "    \"\"\" Decide loss function \"\"\"\n",
        "    assert loss in {'mean_squared_error', 'cross_entropy', 'softmax', 'binary_cross_entropy'}\n",
        "    if loss == \"mean_squared_error\":\n",
        "      self.loss_function = model_func.mean_squared_error\n",
        "    elif loss == \"cross_entropy\":\n",
        "      if self.n_layer[-1].n_neuron != target.shape[-1]:\n",
        "        raise RuntimeError(\"Target dimension doesn't match. Target:{} and Output layer neuron:{}\".format(target.shape[-1], self.n_layer[-1].n_neuron))\n",
        "      if self.n_layer[-1].activation == model_func.softmax:\n",
        "        self.n_layer[-1].bp_precal = True\n",
        "        self.loss_function = model_func.softmax_cross_entropy_derivative\n",
        "      else:\n",
        "        self.loss_function = model_func.cross_entropy\n",
        "    elif loss == \"binary_cross_entropy\":\n",
        "      if self.n_layer[-1].n_neuron != 1:\n",
        "        raise RuntimeError(\"Output dimension is not equal to 1. Output layer neuron:{}\".format(self.n_layer[-1].n_neuron))\n",
        "      self.loss_function = model_func.binary_cross_entropy\n",
        "\n",
        "    \"\"\" Decide accuracy function \"\"\"\n",
        "    output_dimension = self.n_layer[-1].n_neuron\n",
        "    assert accuracy in {'category', 'skip'}\n",
        "    if accuracy == \"category\":\n",
        "      if output_dimension == 1:\n",
        "        self.accuracy_function = model_func.binary_accuracy\n",
        "      else:\n",
        "        self.accuracy_function = model_func.categorical_accuracy\n",
        "    elif accuracy == \"skip\":\n",
        "      self.accuracy_function = None\n",
        "\n",
        "    self.history = np.zeros((max_iter,2))\n",
        "\n",
        "    for i in range(max_iter):\n",
        "      cnt = 0\n",
        "      epoch_accuracy = np.zeros(((input.shape[0]-1)//batch_size+1, 2))\n",
        "      batch_record_output = np.zeros((2,batch_size,output_dimension))\n",
        "      batch_record_loss = np.zeros((batch_size))\n",
        "      for idx,data in enumerate(input):\n",
        "        # Forward path\n",
        "        self.forward_path(data)\n",
        "        # Calculate loss\n",
        "        loss, d_loss = self.loss_function(self.n_layer[-1].out, target[idx])\n",
        "        # Backward path\n",
        "        self.backword_path(d_loss=d_loss, learning_rate=learning_rate)\n",
        "\n",
        "        # Append predict and expected value\n",
        "        batch_record_output[0,cnt] = self.n_layer[-1].out\n",
        "        batch_record_output[1,cnt] = target[idx]\n",
        "        batch_record_loss[cnt] = loss\n",
        "        cnt += 1 # Increment batch counter\n",
        "\n",
        "        # End of batch\n",
        "        if cnt == batch_size or idx == len(input)-1:\n",
        "          for layer in self.n_layer: layer.update_weight()  # Update all weight\n",
        "          if self.accuracy_function is not None:\n",
        "            epoch_accuracy[idx//batch_size, 0] = self.accuracy_function(batch_record_output[0,0:cnt], batch_record_output[1,0:cnt]) # Calculate precision\n",
        "          epoch_accuracy[idx//batch_size, 1] = np.mean(batch_record_loss[0:cnt]) # Calculate average loss over a batch\n",
        "          cnt = 0 # Reset counter\n",
        "      # End of epoch\n",
        "      self.history[i,0] = np.mean(epoch_accuracy[:,0])\n",
        "      self.history[i,1] = np.mean(epoch_accuracy[:,1])\n",
        "      print(\"Iteration:{}, Precision:{}, Loss:{}\".format(i,self.history[i,0],self.history[i,1]))\n",
        "\n",
        "  def get_weight(self):\n",
        "    weights = []\n",
        "    for idx,layer in enumerate(self.n_layer):\n",
        "      weights.append(layer.get_weight())\n",
        "    return weights\n",
        "  \n",
        "  def load_weight(self, weights):\n",
        "    if len(weights) != len(self.n_layer):\n",
        "      raise RuntimeError(\"Weight and model not match\")\n",
        "    for idx,layer in enumerate(self.n_layer):\n",
        "      weight = weights[idx]\n",
        "      if len(weight) == 1:\n",
        "        pass\n",
        "      else:\n",
        "        self.n_layer[idx].load_weight(weight[1:])"
      ],
      "execution_count": null,
      "outputs": []
    },
    {
      "cell_type": "markdown",
      "metadata": {
        "id": "d-rxCTMgRBFq"
      },
      "source": [
        "# Create model"
      ]
    },
    {
      "cell_type": "code",
      "metadata": {
        "id": "mjr7d5e5C0Py"
      },
      "source": [
        "!mkdir mnist_result"
      ],
      "execution_count": null,
      "outputs": []
    },
    {
      "cell_type": "markdown",
      "metadata": {
        "id": "WuCYanvtFUr7"
      },
      "source": [
        "## Training"
      ]
    },
    {
      "cell_type": "code",
      "metadata": {
        "id": "qTjDgDVxL6Zj",
        "colab": {
          "base_uri": "https://localhost:8080/"
        },
        "outputId": "72e3ce79-3fde-4ef3-9e1d-494cabc416f6"
      },
      "source": [
        "input_data = mnist_train_data\n",
        "input_data = input_data.reshape((input_data.shape[0],1,28,28))\n",
        "target = mnist_train_label\n",
        "\n",
        "cy_mnist_model = sequential()\n",
        "lr = 0.0001\n",
        "\n",
        "cy_mnist_model.add_conv2d(n_filter=2, filter_size=(4,4), input_width=(1,28,28), strides=(1,1), activation=\"sigmoid\")\n",
        "#cy_mnist_model.add_averagepooling2d(pool_size=(2,2), strides=(1,1))\n",
        "cy_mnist_model.add_flattern()\n",
        "cy_mnist_model.add_fc(n_neuron=128, activation=\"relu\")\n",
        "cy_mnist_model.add_fc(n_neuron=10, activation=\"softmax\")\n",
        "\n",
        "cy_mnist_model.fit(input_data[0:1000], target[0:1000], max_iter=15, learning_rate=lr, batch_size=64, loss=\"cross_entropy\",accuracy=\"category\")\n",
        "\n",
        "\n",
        "now = datetime.now() # current date and time\n",
        "date_time = now.strftime(\"%m-%d-%Y,%H:%M\")\n",
        "np.save('./mnist_result/history_'+date_time,cy_mnist_model.history)\n",
        "#files.download('./mnist_result/history_'+date_time+'.npy')\n",
        "\n",
        "weights = cy_mnist_model.get_weight()\n",
        "np.savez('./mnist_result/weights_'+date_time+'.npz', weight=weights)\n",
        "#files.download('./mnist_result/weights_'+date_time+'.npz')"
      ],
      "execution_count": null,
      "outputs": [
        {
          "output_type": "stream",
          "text": [
            "Iteration:0, Precision:0.1126953125, Loss:2.3273692164524453\n",
            "Iteration:1, Precision:0.1505859375, Loss:2.292453012937824\n",
            "Iteration:2, Precision:0.1822265625, Loss:2.2752722934814242\n",
            "Iteration:3, Precision:0.19609375, Loss:2.2622189622014512\n",
            "Iteration:4, Precision:0.2177734375, Loss:2.2503548371403364\n",
            "Iteration:5, Precision:0.249609375, Loss:2.238015116431196\n",
            "Iteration:6, Precision:0.294140625, Loss:2.224261585831045\n",
            "Iteration:7, Precision:0.333984375, Loss:2.2086275418458063\n",
            "Iteration:8, Precision:0.3740234375, Loss:2.190532026326541\n",
            "Iteration:9, Precision:0.4259765625, Loss:2.1694366045164095\n",
            "Iteration:10, Precision:0.46640625, Loss:2.145077356186297\n",
            "Iteration:11, Precision:0.4958984375, Loss:2.1171089349999948\n",
            "Iteration:12, Precision:0.5326171875, Loss:2.0850168617447675\n",
            "Iteration:13, Precision:0.5814453125, Loss:2.049264366050199\n",
            "Iteration:14, Precision:0.61328125, Loss:2.0101049569130396\n"
          ],
          "name": "stdout"
        }
      ]
    },
    {
      "cell_type": "markdown",
      "metadata": {
        "id": "Dt8qgLaUFSbE"
      },
      "source": [
        "## Testing"
      ]
    },
    {
      "cell_type": "code",
      "metadata": {
        "colab": {
          "base_uri": "https://localhost:8080/"
        },
        "id": "j2XEQbSwmq5h",
        "outputId": "2b7664bb-88c3-458d-dfd5-c51f9339fae3"
      },
      "source": [
        "input_data = mnist_test_data\n",
        "target = mnist_test_label\n",
        "\n",
        "# Create model\n",
        "cy_mnist_test_model = sequential()\n",
        "cy_mnist_test_model.add_conv2d(n_filter=6, filter_size=(3,3), input_width=(1,28,28), strides=(1,1), activation=\"relu\")\n",
        "cy_mnist_test_model.add_averagepooling2d(pool_size=(2,2), strides=(1,1))\n",
        "cy_mnist_test_model.add_flattern()\n",
        "cy_mnist_test_model.add_fc(n_neuron=64, activation=\"relu\")\n",
        "cy_mnist_test_model.add_fc(n_neuron=10, activation=\"softmax\")\n",
        "\n",
        "# Load weight\n",
        "weights = np.load('./mnist_result/weights_12-15-2020,02:45.npz',allow_pickle=True)['weight']\n",
        "cy_mnist_test_model.load_weight(weights)\n",
        "\n",
        "# Predict\n",
        "predict = cy_mnist_test_model.predict(input_data.reshape(10000,1,28,28))\n",
        "\n",
        "predict = (predict == predict.max(axis=1)[:,None]).astype(int)\n",
        "cy_mnist_test_model.score(predict, target)"
      ],
      "execution_count": null,
      "outputs": [
        {
          "output_type": "execute_result",
          "data": {
            "text/plain": [
              "0.5558"
            ]
          },
          "metadata": {
            "tags": []
          },
          "execution_count": 19
        }
      ]
    },
    {
      "cell_type": "markdown",
      "metadata": {
        "id": "Rlg-gsXBFP3L"
      },
      "source": [
        "## Plot curve"
      ]
    },
    {
      "cell_type": "code",
      "metadata": {
        "colab": {
          "base_uri": "https://localhost:8080/",
          "height": 294
        },
        "id": "z5J6mpTUBtGo",
        "outputId": "88662537-fa56-4b66-fa4c-b0296691db51"
      },
      "source": [
        "folder = \"./mnist_result/\"\n",
        "\n",
        "lr1 = np.load(folder+'history_12-14-2020,16:07.npy')\n",
        "lr2 = np.load(folder+'history_12-15-2020,02:45.npy')\n",
        "\n",
        "plt.plot(lr1[:,0], label=\"LR 0.001\")\n",
        "plt.plot(lr2[:,0], label=\"LR 0.0001\")\n",
        "\n",
        "plt.title(\"Different LR over mnist dataset\")\n",
        "plt.xlabel(\"Epoch\")\n",
        "plt.ylabel(\"Accuracy\")\n",
        "plt.legend()\n",
        "plt.show()"
      ],
      "execution_count": null,
      "outputs": [
        {
          "output_type": "display_data",
          "data": {
            "image/png": "[encoded data removed]",
            "text/plain": [
              "<Figure size 432x288 with 1 Axes>"
            ]
          },
          "metadata": {
            "tags": [],
            "needs_background": "light"
          }
        }
      ]
    },
    {
      "cell_type": "code",
      "metadata": {
        "colab": {
          "base_uri": "https://localhost:8080/",
          "height": 294
        },
        "id": "aRJV2-OQB3kP",
        "outputId": "e1a233f3-692c-42bd-fc74-849ba7f094a3"
      },
      "source": [
        "folder = \"./mnist_result/\"\n",
        "\n",
        "lr1 = np.load(folder+'history_12-14-2020,16:07.npy')\n",
        "lr2 = np.load(folder+'history_12-15-2020,02:45.npy')\n",
        "\n",
        "plt.plot(lr1[:,1], label=\"LR 0.001\")\n",
        "plt.plot(lr2[:,1], label=\"LR 0.0001\")\n",
        "\n",
        "plt.title(\"Different LR over mnist dataset\")\n",
        "plt.xlabel(\"Epoch\")\n",
        "plt.ylabel(\"Loss\")\n",
        "plt.legend()\n",
        "plt.show()"
      ],
      "execution_count": null,
      "outputs": [
        {
          "output_type": "display_data",
          "data": {
            "image/png": "[encoded data removed]",
            "text/plain": [
              "<Figure size 432x288 with 1 Axes>"
            ]
          },
          "metadata": {
            "tags": [],
            "needs_background": "light"
          }
        }
      ]
    },
    {
      "cell_type": "markdown",
      "metadata": {
        "id": "-r4FBO7T9BEC"
      },
      "source": [
        "# Create Feature Extraction Model\n",
        "Extract the convolutional layer from the CNN we just trained"
      ]
    },
    {
      "cell_type": "code",
      "metadata": {
        "id": "q226mV3nIWHg"
      },
      "source": [
        "lr_0001_weight = './mnist_result/weights_12-14-2020,16:07.npz'\n",
        "lr_00001_weight = './mnist_result/weights_12-15-2020,02:45.npz'\n",
        "\n",
        "weights = np.load(lr_00001_weight, allow_pickle=True)['weight']\n",
        "new_weights = np.delete(weights, [3,4])\n",
        "\n",
        "cy_mnist_feature_extractor = sequential()\n",
        "lr = 0.001\n",
        "cy_mnist_feature_extractor.add_conv2d(n_filter=6, filter_size=(3,3), input_width=(1,28,28), strides=(1,1), activation=\"relu\")\n",
        "cy_mnist_feature_extractor.add_averagepooling2d(pool_size=(2,2), strides=(1,1))\n",
        "cy_mnist_feature_extractor.add_flattern()\n",
        "cy_mnist_feature_extractor.load_weight(new_weights)"
      ],
      "execution_count": null,
      "outputs": []
    },
    {
      "cell_type": "code",
      "metadata": {
        "id": "bSm__rUw6DUT",
        "colab": {
          "base_uri": "https://localhost:8080/"
        },
        "outputId": "2698bbc7-33b0-40e3-b6ac-6edb240a66b2"
      },
      "source": [
        "feature = cy_mnist_feature_extractor.predict(mnist_train_data.reshape(60000,1,28,28))\n",
        "feature.shape"
      ],
      "execution_count": null,
      "outputs": [
        {
          "output_type": "execute_result",
          "data": {
            "text/plain": [
              "(60000, 3750)"
            ]
          },
          "metadata": {
            "tags": []
          },
          "execution_count": 44
        }
      ]
    },
    {
      "cell_type": "markdown",
      "metadata": {
        "id": "j1LENJ2zqRXf"
      },
      "source": [
        "## K-means"
      ]
    },
    {
      "cell_type": "code",
      "metadata": {
        "id": "CaM4lIzWqS1C"
      },
      "source": [
        "def k_means(input, max_k=None, max_iter=10, threshold=0.1, min_size=2):\n",
        "  if max_k is not None:\n",
        "    desired_k = max_k\n",
        "  else:\n",
        "    desired_k = int(input.shape[0]/10)+1\n",
        "  indices = np.random.choice(input.shape[0], desired_k) # Random sampling\n",
        "  kmeans_input = input.copy()\n",
        "  center = kmeans_input[indices]\n",
        "\n",
        "  belonging = np.zeros((input.shape[0]))\n",
        "  # K-means iteration\n",
        "  print(\"Start K-means, initial center: {}\".format(desired_k))\n",
        "  for i in range(max_iter):\n",
        "    agg_center_idx = np.zeros((center.shape[0]))\n",
        "    agg_d_center = np.zeros((center.shape))\n",
        "    for idx,d in enumerate(kmeans_input):\n",
        "      dist = np.linalg.norm(d-center,axis=1)\n",
        "      nearest_idx = np.argmin(dist)\n",
        "      agg_d_center[nearest_idx] += d\n",
        "      agg_center_idx[nearest_idx] += 1\n",
        "      belonging[idx] = nearest_idx\n",
        "\n",
        "    # Calculate update\n",
        "    n_center = np.zeros(center.shape)\n",
        "    for c in range(center.shape[0]):\n",
        "      if agg_center_idx[c] == 0:\n",
        "        n_center[c] = center[c]\n",
        "      else:\n",
        "        n_center[c] = agg_d_center[c]/agg_center_idx[c]\n",
        "\n",
        "    # Calculate difference\n",
        "    delta_dist = np.linalg.norm(n_center-center, axis=1)\n",
        "    print(\"Performing K-means Iteration {}\".format(i+1))\n",
        "    if (delta_dist <= threshold).all():\n",
        "      small_cluster_idx = np.where(agg_center_idx<min_size)\n",
        "      if agg_center_idx[small_cluster_idx].any():\n",
        "        n_tiny_cluster = np.count_nonzero(small_cluster_idx)\n",
        "        center = np.delete(center, small_cluster_idx, axis=0)\n",
        "        print(\"K-means converges at iter{}, tiny cluster detected, remain class:{}\".format(i+1, center.shape[0]))\n",
        "      else:\n",
        "        print(\"K-means converges at iter{}\".format(i+1))\n",
        "        break\n",
        "    else:\n",
        "      center = n_center\n",
        "\n",
        "  # Set new center and calculate standard deviation\n",
        "  sigma = np.zeros((center.shape[0]))\n",
        "  for idx,c in enumerate(center):\n",
        "    cluster_data = kmeans_input[np.where(belonging==idx)]\n",
        "    sigma[idx] = np.sqrt(np.sum((cluster_data - c)**2))\n",
        "  \n",
        "  # Remove zero sigma center\n",
        "  zero_sigma_cluster = np.where(sigma==0)\n",
        "  center = np.delete(center, zero_sigma_cluster,axis=0)\n",
        "  sigma = np.delete(sigma, zero_sigma_cluster,axis=0)\n",
        "  print(\"Remove zero sigma cluster, remaining cluster: {}\".format(center.shape[0]))\n",
        "\n",
        "  return center, sigma"
      ],
      "execution_count": null,
      "outputs": []
    },
    {
      "cell_type": "markdown",
      "metadata": {
        "id": "uYhFu1IN-c52"
      },
      "source": [
        "# CNN + RBF Classifier"
      ]
    },
    {
      "cell_type": "code",
      "metadata": {
        "colab": {
          "base_uri": "https://localhost:8080/"
        },
        "id": "-vW_mFxwFGnr",
        "outputId": "64f4cd42-5d2d-4c86-e86b-ccba943266d0"
      },
      "source": [
        "input_data = feature\n",
        "sample = np.random.randint(60000, size=2000)\n",
        "center, sigma = k_means(input=input_data[sample], max_k=300, max_iter=100, threshold=0.1, min_size=5)"
      ],
      "execution_count": null,
      "outputs": [
        {
          "output_type": "stream",
          "text": [
            "Start K-means, initial center: 300\n",
            "Performing K-means Iteration 1\n",
            "Performing K-means Iteration 2\n",
            "Performing K-means Iteration 3\n",
            "Performing K-means Iteration 4\n",
            "Performing K-means Iteration 5\n",
            "Performing K-means Iteration 6\n",
            "Performing K-means Iteration 7\n",
            "Performing K-means Iteration 8\n",
            "Performing K-means Iteration 9\n",
            "Performing K-means Iteration 10\n",
            "Performing K-means Iteration 11\n",
            "K-means converges at iter11, tiny cluster detected, remain class:191\n",
            "Performing K-means Iteration 12\n",
            "Performing K-means Iteration 13\n",
            "Performing K-means Iteration 14\n",
            "Performing K-means Iteration 15\n",
            "Performing K-means Iteration 16\n",
            "K-means converges at iter16, tiny cluster detected, remain class:190\n",
            "Performing K-means Iteration 17\n",
            "Performing K-means Iteration 18\n",
            "Performing K-means Iteration 19\n",
            "Performing K-means Iteration 20\n",
            "Performing K-means Iteration 21\n",
            "K-means converges at iter21\n",
            "Remove zero sigma cluster, remaining cluster: 190\n"
          ],
          "name": "stdout"
        }
      ]
    },
    {
      "cell_type": "code",
      "metadata": {
        "id": "UvUOaB0VxM6L"
      },
      "source": [
        "# Generate random sample\n",
        "sample = np.random.randint(60000, size=6000)"
      ],
      "execution_count": null,
      "outputs": []
    },
    {
      "cell_type": "code",
      "metadata": {
        "id": "RM_c8irU-cLl",
        "colab": {
          "base_uri": "https://localhost:8080/"
        },
        "outputId": "7195a6e6-12f6-40f3-d7a7-1e0e2cc9e63b"
      },
      "source": [
        "RBF = \"gaussian\"\n",
        "\n",
        "cy_mnist_rbfn_model = sequential()\n",
        "cy_mnist_rbfn_model.add_rbf(RBF=RBF, center=center, sigma=sigma, c_lr=50, s_lr=50);\n",
        "cy_mnist_rbfn_model.add_fc(n_neuron=10, activation=\"softmax\")\n",
        "lr = 0.001\n",
        "cy_mnist_rbfn_model.fit(input=feature[sample], target=mnist_train_label[sample], max_iter=50, learning_rate=lr, batch_size=64, \n",
        "                        loss=\"cross_entropy\",accuracy=\"category\")"
      ],
      "execution_count": null,
      "outputs": [
        {
          "output_type": "stream",
          "text": [
            "Iteration:0, Precision:0.146484375, Loss:2.295948368396325\n",
            "Iteration:1, Precision:0.220703125, Loss:2.2037468555823843\n",
            "Iteration:2, Precision:0.2705078125, Loss:2.1306588335611245\n",
            "Iteration:3, Precision:0.30029296875, Loss:2.0684018004780245\n",
            "Iteration:4, Precision:0.3232421875, Loss:2.0144658305135708\n",
            "Iteration:5, Precision:0.3466796875, Loss:1.9669736679551229\n",
            "Iteration:6, Precision:0.36474609375, Loss:1.9245516075770197\n",
            "Iteration:7, Precision:0.38037109375, Loss:1.8861940743534151\n",
            "Iteration:8, Precision:0.40576171875, Loss:1.8511564705259143\n",
            "Iteration:9, Precision:0.41796875, Loss:1.818878390419139\n",
            "Iteration:10, Precision:0.43115234375, Loss:1.7889305121729984\n",
            "Iteration:11, Precision:0.44677734375, Loss:1.7609781260544637\n",
            "Iteration:12, Precision:0.45849609375, Loss:1.7347559280614822\n",
            "Iteration:13, Precision:0.47119140625, Loss:1.7100503778450342\n",
            "Iteration:14, Precision:0.48388671875, Loss:1.6866871620501167\n",
            "Iteration:15, Precision:0.4990234375, Loss:1.664522143742873\n",
            "Iteration:16, Precision:0.50732421875, Loss:1.643434726820767\n",
            "Iteration:17, Precision:0.51708984375, Loss:1.6233229192015386\n",
            "Iteration:18, Precision:0.53076171875, Loss:1.6040996092260857\n",
            "Iteration:19, Precision:0.53515625, Loss:1.5856897211351382\n",
            "Iteration:20, Precision:0.54150390625, Loss:1.5680280162241547\n",
            "Iteration:21, Precision:0.5458984375, Loss:1.5510573742862883\n",
            "Iteration:22, Precision:0.5517578125, Loss:1.5347274365384833\n",
            "Iteration:23, Precision:0.5615234375, Loss:1.5189935235978234\n",
            "Iteration:24, Precision:0.5673828125, Loss:1.5038157648793327\n",
            "Iteration:25, Precision:0.57568359375, Loss:1.4891583920576195\n",
            "Iteration:26, Precision:0.580078125, Loss:1.4749891609842074\n",
            "Iteration:27, Precision:0.58349609375, Loss:1.4612788750315266\n",
            "Iteration:28, Precision:0.5908203125, Loss:1.448000989163849\n",
            "Iteration:29, Precision:0.5947265625, Loss:1.4351312787500237\n",
            "Iteration:30, Precision:0.6015625, Loss:1.4226475606762632\n",
            "Iteration:31, Precision:0.60595703125, Loss:1.4105294570027938\n",
            "Iteration:32, Precision:0.60595703125, Loss:1.3987581934596847\n",
            "Iteration:33, Precision:0.611328125, Loss:1.387316426655942\n",
            "Iteration:34, Precision:0.61572265625, Loss:1.3761880950995087\n",
            "Iteration:35, Precision:0.6171875, Loss:1.3653582900803993\n",
            "Iteration:36, Precision:0.62060546875, Loss:1.3548131432187032\n",
            "Iteration:37, Precision:0.6220703125, Loss:1.3445397280712599\n",
            "Iteration:38, Precision:0.62890625, Loss:1.3345259736612767\n",
            "Iteration:39, Precision:0.63232421875, Loss:1.3247605881710913\n",
            "Iteration:40, Precision:0.6357421875, Loss:1.3152329913403453\n",
            "Iteration:41, Precision:0.6396484375, Loss:1.3059332543558193\n",
            "Iteration:42, Precision:0.64208984375, Loss:1.2968520462172692\n",
            "Iteration:43, Precision:0.64501953125, Loss:1.2879805857252382\n",
            "Iteration:44, Precision:0.64794921875, Loss:1.2793105983693729\n",
            "Iteration:45, Precision:0.650390625, Loss:1.2708342775049557\n",
            "Iteration:46, Precision:0.65380859375, Loss:1.2625442492957601\n",
            "Iteration:47, Precision:0.65625, Loss:1.2544335409764913\n",
            "Iteration:48, Precision:0.658203125, Loss:1.246495552050841\n",
            "Iteration:49, Precision:0.662109375, Loss:1.2387240280938299\n"
          ],
          "name": "stdout"
        }
      ]
    },
    {
      "cell_type": "code",
      "metadata": {
        "colab": {
          "base_uri": "https://localhost:8080/"
        },
        "id": "7r29UttXvEBU",
        "outputId": "4c84b597-f34d-4c3b-9d1d-5e38102b4346"
      },
      "source": [
        "# Load test data\n",
        "input_data = mnist_test_data\n",
        "target = mnist_test_label\n",
        "\n",
        "# Extract feature\n",
        "feature = cy_mnist_feature_extractor.predict(input_data.reshape(10000,1,28,28))\n",
        "\n",
        "# Predict\n",
        "predict = cy_mnist_rbfn_model.predict(feature)\n",
        "predict = (predict == predict.max(axis=1)[:,None]).astype(int)\n",
        "cy_mnist_rbfn_model.score(predict, target)"
      ],
      "execution_count": null,
      "outputs": [
        {
          "output_type": "execute_result",
          "data": {
            "text/plain": [
              "0.7073"
            ]
          },
          "metadata": {
            "tags": []
          },
          "execution_count": 47
        }
      ]
    },
    {
      "cell_type": "code",
      "metadata": {
        "id": "OmH-8Ezmlwmd"
      },
      "source": [
        "# Save center, sigma, nn weight, history\n",
        "np.save('./mnist_result/'+\"0.0001center_\"+RBF,cy_mnist_rbfn_model.n_layer[0].center)\n",
        "np.save('./mnist_result/'+\"0.0001sigma_\"+RBF,cy_mnist_rbfn_model.n_layer[0].sigma)\n",
        "np.save('./mnist_result/'+\"0.0001nn_\"+RBF,cy_mnist_rbfn_model.n_layer[1].weight)\n",
        "np.save('./mnist_result/0.0001'+RBF,cy_mnist_rbfn_model.history)"
      ],
      "execution_count": null,
      "outputs": []
    },
    {
      "cell_type": "code",
      "metadata": {
        "id": "rvVDOdIZu-rH"
      },
      "source": [
        "# Download file\n",
        "files.download('./mnist_result/'+\"0.0001center_\"+RBF+'.npy')\n",
        "files.download('./mnist_result/'+\"0.0001sigma_\"+RBF+'.npy')\n",
        "files.download('./mnist_result/'+\"0.0001nn_\"+RBF+'.npy')\n",
        "files.download('./mnist_result/0.0001'+RBF+'.npy')"
      ],
      "execution_count": null,
      "outputs": []
    },
    {
      "cell_type": "markdown",
      "metadata": {
        "id": "fbVr23UGlTuk"
      },
      "source": [
        "## Plot curve"
      ]
    },
    {
      "cell_type": "code",
      "metadata": {
        "colab": {
          "base_uri": "https://localhost:8080/",
          "height": 295
        },
        "id": "jjwNvOFQlTun",
        "outputId": "b0717c95-20a1-4a7c-f3ef-b3257c063198"
      },
      "source": [
        "lr1 = np.load('./mnist_result/0.001'+RBF+'.npy')\n",
        "lr2 = np.load('./mnist_result/0.0001'+RBF+'.npy')\n",
        "\n",
        "plt.plot(lr1[:,0], label=\"CNN lr 0.001\")\n",
        "plt.plot(lr2[:,0], label=\"CNN lr 0.0001\")\n",
        "\n",
        "plt.title(\"Convolution + RBF classifier over mnist dataset\")\n",
        "plt.xlabel(\"Epoch\")\n",
        "plt.ylabel(\"Accuracy\")\n",
        "plt.legend()\n",
        "plt.show()"
      ],
      "execution_count": null,
      "outputs": [
        {
          "output_type": "display_data",
          "data": {
            "image/png": "[encoded data removed]",
            "text/plain": [
              "<Figure size 432x288 with 1 Axes>"
            ]
          },
          "metadata": {
            "tags": [],
            "needs_background": "light"
          }
        }
      ]
    },
    {
      "cell_type": "code",
      "metadata": {
        "colab": {
          "base_uri": "https://localhost:8080/",
          "height": 295
        },
        "id": "_PcLmTpMlTuo",
        "outputId": "8ed6f90f-8e22-4dfe-b069-d3243a98fdf5"
      },
      "source": [
        "lr1 = np.load('./mnist_result/0.001'+RBF+'.npy')\n",
        "lr2 = np.load('./mnist_result/0.0001'+RBF+'.npy')\n",
        "\n",
        "plt.plot(lr1[:,1], label=\"CNN lr 0.001\")\n",
        "plt.plot(lr2[:,1], label=\"CNN lr 0.0001\")\n",
        "\n",
        "plt.title(\"Convolution + RBF classifier over mnist dataset\")\n",
        "plt.xlabel(\"Epoch\")\n",
        "plt.ylabel(\"Loss\")\n",
        "plt.legend()\n",
        "plt.show()"
      ],
      "execution_count": null,
      "outputs": [
        {
          "output_type": "display_data",
          "data": {
            "image/png": "[encoded data removed]",
            "text/plain": [
              "<Figure size 432x288 with 1 Axes>"
            ]
          },
          "metadata": {
            "tags": [],
            "needs_background": "light"
          }
        }
      ]
    },
    {
      "cell_type": "markdown",
      "metadata": {
        "id": "HPb9bvvM4ZuO"
      },
      "source": [
        "# Appendix"
      ]
    },
    {
      "cell_type": "code",
      "metadata": {
        "id": "6jdx6V805IUm"
      },
      "source": [
        "from google.colab.patches import cv2_imshow\n",
        "import cv2"
      ],
      "execution_count": null,
      "outputs": []
    },
    {
      "cell_type": "code",
      "metadata": {
        "colab": {
          "base_uri": "https://localhost:8080/",
          "height": 117
        },
        "id": "r1X4MtF95pl8",
        "outputId": "60000984-2b5b-4f8f-ac5d-3a0122b838e0"
      },
      "source": [
        "test_image = mnist_test_data[1]\n",
        "\n",
        "norm_image = cv2.normalize(test_image, None, alpha = 0, beta = 255, norm_type = cv2.NORM_MINMAX, dtype = cv2.CV_32F)\n",
        "norm_image = cv2.resize(norm_image, (100,100), interpolation=cv2.INTER_NEAREST)\n",
        "cv2_imshow(norm_image)"
      ],
      "execution_count": null,
      "outputs": [
        {
          "output_type": "display_data",
          "data": {
            "image/png": "[encoded data removed]",
            "text/plain": [
              "<PIL.Image.Image image mode=L size=100x100 at 0x7FC83277CD68>"
            ]
          },
          "metadata": {
            "tags": []
          }
        }
      ]
    },
    {
      "cell_type": "code",
      "metadata": {
        "id": "pt3YqKqo4bSu"
      },
      "source": [
        "# Create model\n",
        "cy_mnist_test_model = sequential()\n",
        "cy_mnist_test_model.add_conv2d(n_filter=6, filter_size=(3,3), input_width=(1,28,28), strides=(1,1), activation=\"relu\")\n",
        "cy_mnist_test_model.add_averagepooling2d(pool_size=(2,2), strides=(1,1))\n",
        "cy_mnist_test_model.add_flattern()\n",
        "cy_mnist_test_model.add_fc(n_neuron=64, activation=\"relu\")\n",
        "cy_mnist_test_model.add_fc(n_neuron=10, activation=\"softmax\")\n",
        "\n",
        "# Load weight\n",
        "weights = np.load('./mnist_result/weights_12-14-2020,16:07.npz',allow_pickle=True)['weight']\n",
        "cy_mnist_test_model.load_weight(weights)\n",
        "\n",
        "# Predict\n",
        "predict = cy_mnist_test_model.predict(test_image.reshape(1,1,28,28))\n",
        "\n",
        "predict = (predict == predict.max(axis=1)[:,None]).astype(int)"
      ],
      "execution_count": null,
      "outputs": []
    },
    {
      "cell_type": "markdown",
      "metadata": {
        "id": "p1qMhXNMD2M8"
      },
      "source": [
        "### Filter"
      ]
    },
    {
      "cell_type": "code",
      "metadata": {
        "colab": {
          "base_uri": "https://localhost:8080/",
          "height": 726
        },
        "id": "DtfmDE6D59_6",
        "outputId": "97fe4a0a-7bbd-4512-fef0-d5eab764e110"
      },
      "source": [
        "# Normalize through all filter\n",
        "filter = cy_mnist_test_model.n_layer[0].weight.reshape(6,3,3)\n",
        "norm_filter = cv2.normalize(filter, None, alpha = 0, beta = 255, norm_type = cv2.NORM_MINMAX, dtype = cv2.CV_32F)\n",
        "for idx,img in enumerate(norm_filter):\n",
        "  norm_image = cv2.resize(img,(100,100), interpolation=cv2.INTER_NEAREST)\n",
        "  norm_image.astype(np.uint8)\n",
        "  cv2_imshow(norm_image)\n",
        "  cv2.imwrite(\"f\"+str(idx)+\".png\",norm_image)\n",
        "  files.download(\"f\"+str(idx)+\".png\")\n",
        "  print()"
      ],
      "execution_count": null,
      "outputs": [
        {
          "output_type": "display_data",
          "data": {
            "image/png": "[encoded data removed]",
            "text/plain": [
              "<PIL.Image.Image image mode=L size=100x100 at 0x7FC8327C3F28>"
            ]
          },
          "metadata": {
            "tags": []
          }
        },
        {
          "output_type": "display_data",
          "data": {
            "application/javascript": [
              "\n",
              "    async function download(id, filename, size) {\n",
              "      if (!google.colab.kernel.accessAllowed) {\n",
              "        return;\n",
              "      }\n",
              "      const div = document.createElement('div');\n",
              "      const label = document.createElement('label');\n",
              "      label.textContent = `Downloading \"${filename}\": `;\n",
              "      div.appendChild(label);\n",
              "      const progress = document.createElement('progress');\n",
              "      progress.max = size;\n",
              "      div.appendChild(progress);\n",
              "      document.body.appendChild(div);\n",
              "\n",
              "      const buffers = [];\n",
              "      let downloaded = 0;\n",
              "\n",
              "      const channel = await google.colab.kernel.comms.open(id);\n",
              "      // Send a message to notify the kernel that we're ready.\n",
              "      channel.send({})\n",
              "\n",
              "      for await (const message of channel.messages) {\n",
              "        // Send a message to notify the kernel that we're ready.\n",
              "        channel.send({})\n",
              "        if (message.buffers) {\n",
              "          for (const buffer of message.buffers) {\n",
              "            buffers.push(buffer);\n",
              "            downloaded += buffer.byteLength;\n",
              "            progress.value = downloaded;\n",
              "          }\n",
              "        }\n",
              "      }\n",
              "      const blob = new Blob(buffers, {type: 'application/binary'});\n",
              "      const a = document.createElement('a');\n",
              "      a.href = window.URL.createObjectURL(blob);\n",
              "      a.download = filename;\n",
              "      div.appendChild(a);\n",
              "      a.click();\n",
              "      div.remove();\n",
              "    }\n",
              "  "
            ],
            "text/plain": [
              "<IPython.core.display.Javascript object>"
            ]
          },
          "metadata": {
            "tags": []
          }
        },
        {
          "output_type": "display_data",
          "data": {
            "application/javascript": [
              "download(\"download_d1b4109f-62dc-45ce-b675-3352f6028ce7\", \"f0.png\", 567)"
            ],
            "text/plain": [
              "<IPython.core.display.Javascript object>"
            ]
          },
          "metadata": {
            "tags": []
          }
        },
        {
          "output_type": "stream",
          "text": [
            "\n"
          ],
          "name": "stdout"
        },
        {
          "output_type": "display_data",
          "data": {
            "image/png": "[encoded data removed]",
            "text/plain": [
              "<PIL.Image.Image image mode=L size=100x100 at 0x7FC8327C3710>"
            ]
          },
          "metadata": {
            "tags": []
          }
        },
        {
          "output_type": "display_data",
          "data": {
            "application/javascript": [
              "\n",
              "    async function download(id, filename, size) {\n",
              "      if (!google.colab.kernel.accessAllowed) {\n",
              "        return;\n",
              "      }\n",
              "      const div = document.createElement('div');\n",
              "      const label = document.createElement('label');\n",
              "      label.textContent = `Downloading \"${filename}\": `;\n",
              "      div.appendChild(label);\n",
              "      const progress = document.createElement('progress');\n",
              "      progress.max = size;\n",
              "      div.appendChild(progress);\n",
              "      document.body.appendChild(div);\n",
              "\n",
              "      const buffers = [];\n",
              "      let downloaded = 0;\n",
              "\n",
              "      const channel = await google.colab.kernel.comms.open(id);\n",
              "      // Send a message to notify the kernel that we're ready.\n",
              "      channel.send({})\n",
              "\n",
              "      for await (const message of channel.messages) {\n",
              "        // Send a message to notify the kernel that we're ready.\n",
              "        channel.send({})\n",
              "        if (message.buffers) {\n",
              "          for (const buffer of message.buffers) {\n",
              "            buffers.push(buffer);\n",
              "            downloaded += buffer.byteLength;\n",
              "            progress.value = downloaded;\n",
              "          }\n",
              "        }\n",
              "      }\n",
              "      const blob = new Blob(buffers, {type: 'application/binary'});\n",
              "      const a = document.createElement('a');\n",
              "      a.href = window.URL.createObjectURL(blob);\n",
              "      a.download = filename;\n",
              "      div.appendChild(a);\n",
              "      a.click();\n",
              "      div.remove();\n",
              "    }\n",
              "  "
            ],
            "text/plain": [
              "<IPython.core.display.Javascript object>"
            ]
          },
          "metadata": {
            "tags": []
          }
        },
        {
          "output_type": "display_data",
          "data": {
            "application/javascript": [
              "download(\"download_e31ac2ab-403a-4d80-bbb3-0e514fb55190\", \"f1.png\", 535)"
            ],
            "text/plain": [
              "<IPython.core.display.Javascript object>"
            ]
          },
          "metadata": {
            "tags": []
          }
        },
        {
          "output_type": "stream",
          "text": [
            "\n"
          ],
          "name": "stdout"
        },
        {
          "output_type": "display_data",
          "data": {
            "image/png": "[encoded data removed]",
            "text/plain": [
              "<PIL.Image.Image image mode=L size=100x100 at 0x7FC8327C3630>"
            ]
          },
          "metadata": {
            "tags": []
          }
        },
        {
          "output_type": "display_data",
          "data": {
            "application/javascript": [
              "\n",
              "    async function download(id, filename, size) {\n",
              "      if (!google.colab.kernel.accessAllowed) {\n",
              "        return;\n",
              "      }\n",
              "      const div = document.createElement('div');\n",
              "      const label = document.createElement('label');\n",
              "      label.textContent = `Downloading \"${filename}\": `;\n",
              "      div.appendChild(label);\n",
              "      const progress = document.createElement('progress');\n",
              "      progress.max = size;\n",
              "      div.appendChild(progress);\n",
              "      document.body.appendChild(div);\n",
              "\n",
              "      const buffers = [];\n",
              "      let downloaded = 0;\n",
              "\n",
              "      const channel = await google.colab.kernel.comms.open(id);\n",
              "      // Send a message to notify the kernel that we're ready.\n",
              "      channel.send({})\n",
              "\n",
              "      for await (const message of channel.messages) {\n",
              "        // Send a message to notify the kernel that we're ready.\n",
              "        channel.send({})\n",
              "        if (message.buffers) {\n",
              "          for (const buffer of message.buffers) {\n",
              "            buffers.push(buffer);\n",
              "            downloaded += buffer.byteLength;\n",
              "            progress.value = downloaded;\n",
              "          }\n",
              "        }\n",
              "      }\n",
              "      const blob = new Blob(buffers, {type: 'application/binary'});\n",
              "      const a = document.createElement('a');\n",
              "      a.href = window.URL.createObjectURL(blob);\n",
              "      a.download = filename;\n",
              "      div.appendChild(a);\n",
              "      a.click();\n",
              "      div.remove();\n",
              "    }\n",
              "  "
            ],
            "text/plain": [
              "<IPython.core.display.Javascript object>"
            ]
          },
          "metadata": {
            "tags": []
          }
        },
        {
          "output_type": "display_data",
          "data": {
            "application/javascript": [
              "download(\"download_6d5696a2-627a-4fa3-8e77-72dfbd78d114\", \"f2.png\", 544)"
            ],
            "text/plain": [
              "<IPython.core.display.Javascript object>"
            ]
          },
          "metadata": {
            "tags": []
          }
        },
        {
          "output_type": "stream",
          "text": [
            "\n"
          ],
          "name": "stdout"
        },
        {
          "output_type": "display_data",
          "data": {
            "image/png": "[encoded data removed]",
            "text/plain": [
              "<PIL.Image.Image image mode=L size=100x100 at 0x7FC8327C36A0>"
            ]
          },
          "metadata": {
            "tags": []
          }
        },
        {
          "output_type": "display_data",
          "data": {
            "application/javascript": [
              "\n",
              "    async function download(id, filename, size) {\n",
              "      if (!google.colab.kernel.accessAllowed) {\n",
              "        return;\n",
              "      }\n",
              "      const div = document.createElement('div');\n",
              "      const label = document.createElement('label');\n",
              "      label.textContent = `Downloading \"${filename}\": `;\n",
              "      div.appendChild(label);\n",
              "      const progress = document.createElement('progress');\n",
              "      progress.max = size;\n",
              "      div.appendChild(progress);\n",
              "      document.body.appendChild(div);\n",
              "\n",
              "      const buffers = [];\n",
              "      let downloaded = 0;\n",
              "\n",
              "      const channel = await google.colab.kernel.comms.open(id);\n",
              "      // Send a message to notify the kernel that we're ready.\n",
              "      channel.send({})\n",
              "\n",
              "      for await (const message of channel.messages) {\n",
              "        // Send a message to notify the kernel that we're ready.\n",
              "        channel.send({})\n",
              "        if (message.buffers) {\n",
              "          for (const buffer of message.buffers) {\n",
              "            buffers.push(buffer);\n",
              "            downloaded += buffer.byteLength;\n",
              "            progress.value = downloaded;\n",
              "          }\n",
              "        }\n",
              "      }\n",
              "      const blob = new Blob(buffers, {type: 'application/binary'});\n",
              "      const a = document.createElement('a');\n",
              "      a.href = window.URL.createObjectURL(blob);\n",
              "      a.download = filename;\n",
              "      div.appendChild(a);\n",
              "      a.click();\n",
              "      div.remove();\n",
              "    }\n",
              "  "
            ],
            "text/plain": [
              "<IPython.core.display.Javascript object>"
            ]
          },
          "metadata": {
            "tags": []
          }
        },
        {
          "output_type": "display_data",
          "data": {
            "application/javascript": [
              "download(\"download_fc478b8a-80f3-4386-8aa8-e73398704ece\", \"f3.png\", 567)"
            ],
            "text/plain": [
              "<IPython.core.display.Javascript object>"
            ]
          },
          "metadata": {
            "tags": []
          }
        },
        {
          "output_type": "stream",
          "text": [
            "\n"
          ],
          "name": "stdout"
        },
        {
          "output_type": "display_data",
          "data": {
            "image/png": "[encoded data removed]",
            "text/plain": [
              "<PIL.Image.Image image mode=L size=100x100 at 0x7FC8327C3BA8>"
            ]
          },
          "metadata": {
            "tags": []
          }
        },
        {
          "output_type": "display_data",
          "data": {
            "application/javascript": [
              "\n",
              "    async function download(id, filename, size) {\n",
              "      if (!google.colab.kernel.accessAllowed) {\n",
              "        return;\n",
              "      }\n",
              "      const div = document.createElement('div');\n",
              "      const label = document.createElement('label');\n",
              "      label.textContent = `Downloading \"${filename}\": `;\n",
              "      div.appendChild(label);\n",
              "      const progress = document.createElement('progress');\n",
              "      progress.max = size;\n",
              "      div.appendChild(progress);\n",
              "      document.body.appendChild(div);\n",
              "\n",
              "      const buffers = [];\n",
              "      let downloaded = 0;\n",
              "\n",
              "      const channel = await google.colab.kernel.comms.open(id);\n",
              "      // Send a message to notify the kernel that we're ready.\n",
              "      channel.send({})\n",
              "\n",
              "      for await (const message of channel.messages) {\n",
              "        // Send a message to notify the kernel that we're ready.\n",
              "        channel.send({})\n",
              "        if (message.buffers) {\n",
              "          for (const buffer of message.buffers) {\n",
              "            buffers.push(buffer);\n",
              "            downloaded += buffer.byteLength;\n",
              "            progress.value = downloaded;\n",
              "          }\n",
              "        }\n",
              "      }\n",
              "      const blob = new Blob(buffers, {type: 'application/binary'});\n",
              "      const a = document.createElement('a');\n",
              "      a.href = window.URL.createObjectURL(blob);\n",
              "      a.download = filename;\n",
              "      div.appendChild(a);\n",
              "      a.click();\n",
              "      div.remove();\n",
              "    }\n",
              "  "
            ],
            "text/plain": [
              "<IPython.core.display.Javascript object>"
            ]
          },
          "metadata": {
            "tags": []
          }
        },
        {
          "output_type": "display_data",
          "data": {
            "application/javascript": [
              "download(\"download_45f95752-2fb2-43f9-9d8f-76194e5824da\", \"f4.png\", 532)"
            ],
            "text/plain": [
              "<IPython.core.display.Javascript object>"
            ]
          },
          "metadata": {
            "tags": []
          }
        },
        {
          "output_type": "stream",
          "text": [
            "\n"
          ],
          "name": "stdout"
        },
        {
          "output_type": "display_data",
          "data": {
            "image/png": "[encoded data removed]",
            "text/plain": [
              "<PIL.Image.Image image mode=L size=100x100 at 0x7FC8327C3320>"
            ]
          },
          "metadata": {
            "tags": []
          }
        },
        {
          "output_type": "display_data",
          "data": {
            "application/javascript": [
              "\n",
              "    async function download(id, filename, size) {\n",
              "      if (!google.colab.kernel.accessAllowed) {\n",
              "        return;\n",
              "      }\n",
              "      const div = document.createElement('div');\n",
              "      const label = document.createElement('label');\n",
              "      label.textContent = `Downloading \"${filename}\": `;\n",
              "      div.appendChild(label);\n",
              "      const progress = document.createElement('progress');\n",
              "      progress.max = size;\n",
              "      div.appendChild(progress);\n",
              "      document.body.appendChild(div);\n",
              "\n",
              "      const buffers = [];\n",
              "      let downloaded = 0;\n",
              "\n",
              "      const channel = await google.colab.kernel.comms.open(id);\n",
              "      // Send a message to notify the kernel that we're ready.\n",
              "      channel.send({})\n",
              "\n",
              "      for await (const message of channel.messages) {\n",
              "        // Send a message to notify the kernel that we're ready.\n",
              "        channel.send({})\n",
              "        if (message.buffers) {\n",
              "          for (const buffer of message.buffers) {\n",
              "            buffers.push(buffer);\n",
              "            downloaded += buffer.byteLength;\n",
              "            progress.value = downloaded;\n",
              "          }\n",
              "        }\n",
              "      }\n",
              "      const blob = new Blob(buffers, {type: 'application/binary'});\n",
              "      const a = document.createElement('a');\n",
              "      a.href = window.URL.createObjectURL(blob);\n",
              "      a.download = filename;\n",
              "      div.appendChild(a);\n",
              "      a.click();\n",
              "      div.remove();\n",
              "    }\n",
              "  "
            ],
            "text/plain": [
              "<IPython.core.display.Javascript object>"
            ]
          },
          "metadata": {
            "tags": []
          }
        },
        {
          "output_type": "display_data",
          "data": {
            "application/javascript": [
              "download(\"download_2ea82651-5633-42c2-89f3-0f15c816760b\", \"f5.png\", 567)"
            ],
            "text/plain": [
              "<IPython.core.display.Javascript object>"
            ]
          },
          "metadata": {
            "tags": []
          }
        },
        {
          "output_type": "stream",
          "text": [
            "\n"
          ],
          "name": "stdout"
        }
      ]
    },
    {
      "cell_type": "markdown",
      "metadata": {
        "id": "f0SKmNpmD0kP"
      },
      "source": [
        "### Output after Conv2d"
      ]
    },
    {
      "cell_type": "code",
      "metadata": {
        "colab": {
          "base_uri": "https://localhost:8080/",
          "height": 726
        },
        "id": "rbc5OOI268kT",
        "outputId": "0d3b2fdd-5f42-4018-cb14-c59648ed1e90"
      },
      "source": [
        "# Normalize each feature map\n",
        "filtered = cy_mnist_test_model.n_layer[0].out\n",
        "for idx,img in enumerate(filtered):\n",
        "  norm_image = cv2.normalize(img, None, alpha = 0, beta = 255, norm_type = cv2.NORM_MINMAX, dtype = cv2.CV_32F)\n",
        "  norm_image = cv2.resize(norm_image,(100,100), interpolation=cv2.INTER_NEAREST)\n",
        "  norm_image.astype(np.uint8)\n",
        "  cv2_imshow(norm_image)\n",
        "  cv2.imwrite(\"2c\"+str(idx+1)+\".png\",norm_image)\n",
        "  files.download(\"2c\"+str(idx+1)+\".png\")\n",
        "  print()"
      ],
      "execution_count": null,
      "outputs": [
        {
          "output_type": "display_data",
          "data": {
            "image/png": "[encoded data removed]",
            "text/plain": [
              "<PIL.Image.Image image mode=L size=100x100 at 0x7FC8327C3748>"
            ]
          },
          "metadata": {
            "tags": []
          }
        },
        {
          "output_type": "display_data",
          "data": {
            "application/javascript": [
              "\n",
              "    async function download(id, filename, size) {\n",
              "      if (!google.colab.kernel.accessAllowed) {\n",
              "        return;\n",
              "      }\n",
              "      const div = document.createElement('div');\n",
              "      const label = document.createElement('label');\n",
              "      label.textContent = `Downloading \"${filename}\": `;\n",
              "      div.appendChild(label);\n",
              "      const progress = document.createElement('progress');\n",
              "      progress.max = size;\n",
              "      div.appendChild(progress);\n",
              "      document.body.appendChild(div);\n",
              "\n",
              "      const buffers = [];\n",
              "      let downloaded = 0;\n",
              "\n",
              "      const channel = await google.colab.kernel.comms.open(id);\n",
              "      // Send a message to notify the kernel that we're ready.\n",
              "      channel.send({})\n",
              "\n",
              "      for await (const message of channel.messages) {\n",
              "        // Send a message to notify the kernel that we're ready.\n",
              "        channel.send({})\n",
              "        if (message.buffers) {\n",
              "          for (const buffer of message.buffers) {\n",
              "            buffers.push(buffer);\n",
              "            downloaded += buffer.byteLength;\n",
              "            progress.value = downloaded;\n",
              "          }\n",
              "        }\n",
              "      }\n",
              "      const blob = new Blob(buffers, {type: 'application/binary'});\n",
              "      const a = document.createElement('a');\n",
              "      a.href = window.URL.createObjectURL(blob);\n",
              "      a.download = filename;\n",
              "      div.appendChild(a);\n",
              "      a.click();\n",
              "      div.remove();\n",
              "    }\n",
              "  "
            ],
            "text/plain": [
              "<IPython.core.display.Javascript object>"
            ]
          },
          "metadata": {
            "tags": []
          }
        },
        {
          "output_type": "display_data",
          "data": {
            "application/javascript": [
              "download(\"download_531c602b-2c4c-4875-9a50-a2f074945dc3\", \"2c1.png\", 1857)"
            ],
            "text/plain": [
              "<IPython.core.display.Javascript object>"
            ]
          },
          "metadata": {
            "tags": []
          }
        },
        {
          "output_type": "stream",
          "text": [
            "\n"
          ],
          "name": "stdout"
        },
        {
          "output_type": "display_data",
          "data": {
            "image/png": "[encoded data removed]",
            "text/plain": [
              "<PIL.Image.Image image mode=L size=100x100 at 0x7FC8327C33C8>"
            ]
          },
          "metadata": {
            "tags": []
          }
        },
        {
          "output_type": "display_data",
          "data": {
            "application/javascript": [
              "\n",
              "    async function download(id, filename, size) {\n",
              "      if (!google.colab.kernel.accessAllowed) {\n",
              "        return;\n",
              "      }\n",
              "      const div = document.createElement('div');\n",
              "      const label = document.createElement('label');\n",
              "      label.textContent = `Downloading \"${filename}\": `;\n",
              "      div.appendChild(label);\n",
              "      const progress = document.createElement('progress');\n",
              "      progress.max = size;\n",
              "      div.appendChild(progress);\n",
              "      document.body.appendChild(div);\n",
              "\n",
              "      const buffers = [];\n",
              "      let downloaded = 0;\n",
              "\n",
              "      const channel = await google.colab.kernel.comms.open(id);\n",
              "      // Send a message to notify the kernel that we're ready.\n",
              "      channel.send({})\n",
              "\n",
              "      for await (const message of channel.messages) {\n",
              "        // Send a message to notify the kernel that we're ready.\n",
              "        channel.send({})\n",
              "        if (message.buffers) {\n",
              "          for (const buffer of message.buffers) {\n",
              "            buffers.push(buffer);\n",
              "            downloaded += buffer.byteLength;\n",
              "            progress.value = downloaded;\n",
              "          }\n",
              "        }\n",
              "      }\n",
              "      const blob = new Blob(buffers, {type: 'application/binary'});\n",
              "      const a = document.createElement('a');\n",
              "      a.href = window.URL.createObjectURL(blob);\n",
              "      a.download = filename;\n",
              "      div.appendChild(a);\n",
              "      a.click();\n",
              "      div.remove();\n",
              "    }\n",
              "  "
            ],
            "text/plain": [
              "<IPython.core.display.Javascript object>"
            ]
          },
          "metadata": {
            "tags": []
          }
        },
        {
          "output_type": "display_data",
          "data": {
            "application/javascript": [
              "download(\"download_fe0179c0-3f33-4173-a17e-4cf56868493c\", \"2c2.png\", 214)"
            ],
            "text/plain": [
              "<IPython.core.display.Javascript object>"
            ]
          },
          "metadata": {
            "tags": []
          }
        },
        {
          "output_type": "stream",
          "text": [
            "\n"
          ],
          "name": "stdout"
        },
        {
          "output_type": "display_data",
          "data": {
            "image/png": "[encoded data removed]",
            "text/plain": [
              "<PIL.Image.Image image mode=L size=100x100 at 0x7FC8327C3DD8>"
            ]
          },
          "metadata": {
            "tags": []
          }
        },
        {
          "output_type": "display_data",
          "data": {
            "application/javascript": [
              "\n",
              "    async function download(id, filename, size) {\n",
              "      if (!google.colab.kernel.accessAllowed) {\n",
              "        return;\n",
              "      }\n",
              "      const div = document.createElement('div');\n",
              "      const label = document.createElement('label');\n",
              "      label.textContent = `Downloading \"${filename}\": `;\n",
              "      div.appendChild(label);\n",
              "      const progress = document.createElement('progress');\n",
              "      progress.max = size;\n",
              "      div.appendChild(progress);\n",
              "      document.body.appendChild(div);\n",
              "\n",
              "      const buffers = [];\n",
              "      let downloaded = 0;\n",
              "\n",
              "      const channel = await google.colab.kernel.comms.open(id);\n",
              "      // Send a message to notify the kernel that we're ready.\n",
              "      channel.send({})\n",
              "\n",
              "      for await (const message of channel.messages) {\n",
              "        // Send a message to notify the kernel that we're ready.\n",
              "        channel.send({})\n",
              "        if (message.buffers) {\n",
              "          for (const buffer of message.buffers) {\n",
              "            buffers.push(buffer);\n",
              "            downloaded += buffer.byteLength;\n",
              "            progress.value = downloaded;\n",
              "          }\n",
              "        }\n",
              "      }\n",
              "      const blob = new Blob(buffers, {type: 'application/binary'});\n",
              "      const a = document.createElement('a');\n",
              "      a.href = window.URL.createObjectURL(blob);\n",
              "      a.download = filename;\n",
              "      div.appendChild(a);\n",
              "      a.click();\n",
              "      div.remove();\n",
              "    }\n",
              "  "
            ],
            "text/plain": [
              "<IPython.core.display.Javascript object>"
            ]
          },
          "metadata": {
            "tags": []
          }
        },
        {
          "output_type": "display_data",
          "data": {
            "application/javascript": [
              "download(\"download_d955fd13-c2cf-44f7-a058-9b5f7a2f92d8\", \"2c3.png\", 995)"
            ],
            "text/plain": [
              "<IPython.core.display.Javascript object>"
            ]
          },
          "metadata": {
            "tags": []
          }
        },
        {
          "output_type": "stream",
          "text": [
            "\n"
          ],
          "name": "stdout"
        },
        {
          "output_type": "display_data",
          "data": {
            "image/png": "[encoded data removed]",
            "text/plain": [
              "<PIL.Image.Image image mode=L size=100x100 at 0x7FC8327C37F0>"
            ]
          },
          "metadata": {
            "tags": []
          }
        },
        {
          "output_type": "display_data",
          "data": {
            "application/javascript": [
              "\n",
              "    async function download(id, filename, size) {\n",
              "      if (!google.colab.kernel.accessAllowed) {\n",
              "        return;\n",
              "      }\n",
              "      const div = document.createElement('div');\n",
              "      const label = document.createElement('label');\n",
              "      label.textContent = `Downloading \"${filename}\": `;\n",
              "      div.appendChild(label);\n",
              "      const progress = document.createElement('progress');\n",
              "      progress.max = size;\n",
              "      div.appendChild(progress);\n",
              "      document.body.appendChild(div);\n",
              "\n",
              "      const buffers = [];\n",
              "      let downloaded = 0;\n",
              "\n",
              "      const channel = await google.colab.kernel.comms.open(id);\n",
              "      // Send a message to notify the kernel that we're ready.\n",
              "      channel.send({})\n",
              "\n",
              "      for await (const message of channel.messages) {\n",
              "        // Send a message to notify the kernel that we're ready.\n",
              "        channel.send({})\n",
              "        if (message.buffers) {\n",
              "          for (const buffer of message.buffers) {\n",
              "            buffers.push(buffer);\n",
              "            downloaded += buffer.byteLength;\n",
              "            progress.value = downloaded;\n",
              "          }\n",
              "        }\n",
              "      }\n",
              "      const blob = new Blob(buffers, {type: 'application/binary'});\n",
              "      const a = document.createElement('a');\n",
              "      a.href = window.URL.createObjectURL(blob);\n",
              "      a.download = filename;\n",
              "      div.appendChild(a);\n",
              "      a.click();\n",
              "      div.remove();\n",
              "    }\n",
              "  "
            ],
            "text/plain": [
              "<IPython.core.display.Javascript object>"
            ]
          },
          "metadata": {
            "tags": []
          }
        },
        {
          "output_type": "display_data",
          "data": {
            "application/javascript": [
              "download(\"download_7f4da8af-8cbf-4c3f-bf2c-79a1c2725bcc\", \"2c4.png\", 559)"
            ],
            "text/plain": [
              "<IPython.core.display.Javascript object>"
            ]
          },
          "metadata": {
            "tags": []
          }
        },
        {
          "output_type": "stream",
          "text": [
            "\n"
          ],
          "name": "stdout"
        },
        {
          "output_type": "display_data",
          "data": {
            "image/png": "[encoded data removed]",
            "text/plain": [
              "<PIL.Image.Image image mode=L size=100x100 at 0x7FC8327C32E8>"
            ]
          },
          "metadata": {
            "tags": []
          }
        },
        {
          "output_type": "display_data",
          "data": {
            "application/javascript": [
              "\n",
              "    async function download(id, filename, size) {\n",
              "      if (!google.colab.kernel.accessAllowed) {\n",
              "        return;\n",
              "      }\n",
              "      const div = document.createElement('div');\n",
              "      const label = document.createElement('label');\n",
              "      label.textContent = `Downloading \"${filename}\": `;\n",
              "      div.appendChild(label);\n",
              "      const progress = document.createElement('progress');\n",
              "      progress.max = size;\n",
              "      div.appendChild(progress);\n",
              "      document.body.appendChild(div);\n",
              "\n",
              "      const buffers = [];\n",
              "      let downloaded = 0;\n",
              "\n",
              "      const channel = await google.colab.kernel.comms.open(id);\n",
              "      // Send a message to notify the kernel that we're ready.\n",
              "      channel.send({})\n",
              "\n",
              "      for await (const message of channel.messages) {\n",
              "        // Send a message to notify the kernel that we're ready.\n",
              "        channel.send({})\n",
              "        if (message.buffers) {\n",
              "          for (const buffer of message.buffers) {\n",
              "            buffers.push(buffer);\n",
              "            downloaded += buffer.byteLength;\n",
              "            progress.value = downloaded;\n",
              "          }\n",
              "        }\n",
              "      }\n",
              "      const blob = new Blob(buffers, {type: 'application/binary'});\n",
              "      const a = document.createElement('a');\n",
              "      a.href = window.URL.createObjectURL(blob);\n",
              "      a.download = filename;\n",
              "      div.appendChild(a);\n",
              "      a.click();\n",
              "      div.remove();\n",
              "    }\n",
              "  "
            ],
            "text/plain": [
              "<IPython.core.display.Javascript object>"
            ]
          },
          "metadata": {
            "tags": []
          }
        },
        {
          "output_type": "display_data",
          "data": {
            "application/javascript": [
              "download(\"download_ee41ab21-fe84-4ce2-9727-ac310ac704c4\", \"2c5.png\", 2018)"
            ],
            "text/plain": [
              "<IPython.core.display.Javascript object>"
            ]
          },
          "metadata": {
            "tags": []
          }
        },
        {
          "output_type": "stream",
          "text": [
            "\n"
          ],
          "name": "stdout"
        },
        {
          "output_type": "display_data",
          "data": {
            "image/png": "[encoded data removed]",
            "text/plain": [
              "<PIL.Image.Image image mode=L size=100x100 at 0x7FC8327C3390>"
            ]
          },
          "metadata": {
            "tags": []
          }
        },
        {
          "output_type": "display_data",
          "data": {
            "application/javascript": [
              "\n",
              "    async function download(id, filename, size) {\n",
              "      if (!google.colab.kernel.accessAllowed) {\n",
              "        return;\n",
              "      }\n",
              "      const div = document.createElement('div');\n",
              "      const label = document.createElement('label');\n",
              "      label.textContent = `Downloading \"${filename}\": `;\n",
              "      div.appendChild(label);\n",
              "      const progress = document.createElement('progress');\n",
              "      progress.max = size;\n",
              "      div.appendChild(progress);\n",
              "      document.body.appendChild(div);\n",
              "\n",
              "      const buffers = [];\n",
              "      let downloaded = 0;\n",
              "\n",
              "      const channel = await google.colab.kernel.comms.open(id);\n",
              "      // Send a message to notify the kernel that we're ready.\n",
              "      channel.send({})\n",
              "\n",
              "      for await (const message of channel.messages) {\n",
              "        // Send a message to notify the kernel that we're ready.\n",
              "        channel.send({})\n",
              "        if (message.buffers) {\n",
              "          for (const buffer of message.buffers) {\n",
              "            buffers.push(buffer);\n",
              "            downloaded += buffer.byteLength;\n",
              "            progress.value = downloaded;\n",
              "          }\n",
              "        }\n",
              "      }\n",
              "      const blob = new Blob(buffers, {type: 'application/binary'});\n",
              "      const a = document.createElement('a');\n",
              "      a.href = window.URL.createObjectURL(blob);\n",
              "      a.download = filename;\n",
              "      div.appendChild(a);\n",
              "      a.click();\n",
              "      div.remove();\n",
              "    }\n",
              "  "
            ],
            "text/plain": [
              "<IPython.core.display.Javascript object>"
            ]
          },
          "metadata": {
            "tags": []
          }
        },
        {
          "output_type": "display_data",
          "data": {
            "application/javascript": [
              "download(\"download_1294df88-bfd7-4d66-8ee3-42b31a25b7d7\", \"2c6.png\", 501)"
            ],
            "text/plain": [
              "<IPython.core.display.Javascript object>"
            ]
          },
          "metadata": {
            "tags": []
          }
        },
        {
          "output_type": "stream",
          "text": [
            "\n"
          ],
          "name": "stdout"
        }
      ]
    },
    {
      "cell_type": "markdown",
      "metadata": {
        "id": "MrLFUqZ0DyBY"
      },
      "source": [
        "### Output after pooling"
      ]
    },
    {
      "cell_type": "code",
      "metadata": {
        "colab": {
          "base_uri": "https://localhost:8080/",
          "height": 726
        },
        "id": "iHcVbfB37Fh_",
        "outputId": "e44b6190-6103-4a3d-e269-305a4af4b834"
      },
      "source": [
        "filtered = cy_mnist_test_model.n_layer[1].out\n",
        "for idx,img in enumerate(filtered):\n",
        "  norm_image = cv2.normalize(img, None, alpha = 0, beta = 255, norm_type = cv2.NORM_MINMAX, dtype = cv2.CV_32F)\n",
        "  norm_image = cv2.resize(norm_image,(100,100), interpolation=cv2.INTER_NEAREST)\n",
        "  norm_image.astype(np.uint8)\n",
        "  cv2_imshow(norm_image)\n",
        "  cv2.imwrite(\"2p\"+str(idx+1)+\".png\",norm_image)\n",
        "  files.download(\"2p\"+str(idx+1)+\".png\")\n",
        "  print()"
      ],
      "execution_count": null,
      "outputs": [
        {
          "output_type": "display_data",
          "data": {
            "image/png": "[encoded data removed]",
            "text/plain": [
              "<PIL.Image.Image image mode=L size=100x100 at 0x7FC8327804A8>"
            ]
          },
          "metadata": {
            "tags": []
          }
        },
        {
          "output_type": "display_data",
          "data": {
            "application/javascript": [
              "\n",
              "    async function download(id, filename, size) {\n",
              "      if (!google.colab.kernel.accessAllowed) {\n",
              "        return;\n",
              "      }\n",
              "      const div = document.createElement('div');\n",
              "      const label = document.createElement('label');\n",
              "      label.textContent = `Downloading \"${filename}\": `;\n",
              "      div.appendChild(label);\n",
              "      const progress = document.createElement('progress');\n",
              "      progress.max = size;\n",
              "      div.appendChild(progress);\n",
              "      document.body.appendChild(div);\n",
              "\n",
              "      const buffers = [];\n",
              "      let downloaded = 0;\n",
              "\n",
              "      const channel = await google.colab.kernel.comms.open(id);\n",
              "      // Send a message to notify the kernel that we're ready.\n",
              "      channel.send({})\n",
              "\n",
              "      for await (const message of channel.messages) {\n",
              "        // Send a message to notify the kernel that we're ready.\n",
              "        channel.send({})\n",
              "        if (message.buffers) {\n",
              "          for (const buffer of message.buffers) {\n",
              "            buffers.push(buffer);\n",
              "            downloaded += buffer.byteLength;\n",
              "            progress.value = downloaded;\n",
              "          }\n",
              "        }\n",
              "      }\n",
              "      const blob = new Blob(buffers, {type: 'application/binary'});\n",
              "      const a = document.createElement('a');\n",
              "      a.href = window.URL.createObjectURL(blob);\n",
              "      a.download = filename;\n",
              "      div.appendChild(a);\n",
              "      a.click();\n",
              "      div.remove();\n",
              "    }\n",
              "  "
            ],
            "text/plain": [
              "<IPython.core.display.Javascript object>"
            ]
          },
          "metadata": {
            "tags": []
          }
        },
        {
          "output_type": "display_data",
          "data": {
            "application/javascript": [
              "download(\"download_b7603212-8fa3-4e6e-b8d6-26011469355d\", \"2p1.png\", 2195)"
            ],
            "text/plain": [
              "<IPython.core.display.Javascript object>"
            ]
          },
          "metadata": {
            "tags": []
          }
        },
        {
          "output_type": "stream",
          "text": [
            "\n"
          ],
          "name": "stdout"
        },
        {
          "output_type": "display_data",
          "data": {
            "image/png": "[encoded data removed]",
            "text/plain": [
              "<PIL.Image.Image image mode=L size=100x100 at 0x7FC832780550>"
            ]
          },
          "metadata": {
            "tags": []
          }
        },
        {
          "output_type": "display_data",
          "data": {
            "application/javascript": [
              "\n",
              "    async function download(id, filename, size) {\n",
              "      if (!google.colab.kernel.accessAllowed) {\n",
              "        return;\n",
              "      }\n",
              "      const div = document.createElement('div');\n",
              "      const label = document.createElement('label');\n",
              "      label.textContent = `Downloading \"${filename}\": `;\n",
              "      div.appendChild(label);\n",
              "      const progress = document.createElement('progress');\n",
              "      progress.max = size;\n",
              "      div.appendChild(progress);\n",
              "      document.body.appendChild(div);\n",
              "\n",
              "      const buffers = [];\n",
              "      let downloaded = 0;\n",
              "\n",
              "      const channel = await google.colab.kernel.comms.open(id);\n",
              "      // Send a message to notify the kernel that we're ready.\n",
              "      channel.send({})\n",
              "\n",
              "      for await (const message of channel.messages) {\n",
              "        // Send a message to notify the kernel that we're ready.\n",
              "        channel.send({})\n",
              "        if (message.buffers) {\n",
              "          for (const buffer of message.buffers) {\n",
              "            buffers.push(buffer);\n",
              "            downloaded += buffer.byteLength;\n",
              "            progress.value = downloaded;\n",
              "          }\n",
              "        }\n",
              "      }\n",
              "      const blob = new Blob(buffers, {type: 'application/binary'});\n",
              "      const a = document.createElement('a');\n",
              "      a.href = window.URL.createObjectURL(blob);\n",
              "      a.download = filename;\n",
              "      div.appendChild(a);\n",
              "      a.click();\n",
              "      div.remove();\n",
              "    }\n",
              "  "
            ],
            "text/plain": [
              "<IPython.core.display.Javascript object>"
            ]
          },
          "metadata": {
            "tags": []
          }
        },
        {
          "output_type": "display_data",
          "data": {
            "application/javascript": [
              "download(\"download_2db0ddb8-098d-41df-9cb5-ccd9b885e341\", \"2p2.png\", 214)"
            ],
            "text/plain": [
              "<IPython.core.display.Javascript object>"
            ]
          },
          "metadata": {
            "tags": []
          }
        },
        {
          "output_type": "stream",
          "text": [
            "\n"
          ],
          "name": "stdout"
        },
        {
          "output_type": "display_data",
          "data": {
            "image/png": "[encoded data removed]",
            "text/plain": [
              "<PIL.Image.Image image mode=L size=100x100 at 0x7FC832780630>"
            ]
          },
          "metadata": {
            "tags": []
          }
        },
        {
          "output_type": "display_data",
          "data": {
            "application/javascript": [
              "\n",
              "    async function download(id, filename, size) {\n",
              "      if (!google.colab.kernel.accessAllowed) {\n",
              "        return;\n",
              "      }\n",
              "      const div = document.createElement('div');\n",
              "      const label = document.createElement('label');\n",
              "      label.textContent = `Downloading \"${filename}\": `;\n",
              "      div.appendChild(label);\n",
              "      const progress = document.createElement('progress');\n",
              "      progress.max = size;\n",
              "      div.appendChild(progress);\n",
              "      document.body.appendChild(div);\n",
              "\n",
              "      const buffers = [];\n",
              "      let downloaded = 0;\n",
              "\n",
              "      const channel = await google.colab.kernel.comms.open(id);\n",
              "      // Send a message to notify the kernel that we're ready.\n",
              "      channel.send({})\n",
              "\n",
              "      for await (const message of channel.messages) {\n",
              "        // Send a message to notify the kernel that we're ready.\n",
              "        channel.send({})\n",
              "        if (message.buffers) {\n",
              "          for (const buffer of message.buffers) {\n",
              "            buffers.push(buffer);\n",
              "            downloaded += buffer.byteLength;\n",
              "            progress.value = downloaded;\n",
              "          }\n",
              "        }\n",
              "      }\n",
              "      const blob = new Blob(buffers, {type: 'application/binary'});\n",
              "      const a = document.createElement('a');\n",
              "      a.href = window.URL.createObjectURL(blob);\n",
              "      a.download = filename;\n",
              "      div.appendChild(a);\n",
              "      a.click();\n",
              "      div.remove();\n",
              "    }\n",
              "  "
            ],
            "text/plain": [
              "<IPython.core.display.Javascript object>"
            ]
          },
          "metadata": {
            "tags": []
          }
        },
        {
          "output_type": "display_data",
          "data": {
            "application/javascript": [
              "download(\"download_4ddb9e5b-60ce-4281-a86e-c81f52ea9aab\", \"2p3.png\", 1470)"
            ],
            "text/plain": [
              "<IPython.core.display.Javascript object>"
            ]
          },
          "metadata": {
            "tags": []
          }
        },
        {
          "output_type": "stream",
          "text": [
            "\n"
          ],
          "name": "stdout"
        },
        {
          "output_type": "display_data",
          "data": {
            "image/png": "[encoded data removed]",
            "text/plain": [
              "<PIL.Image.Image image mode=L size=100x100 at 0x7FC8327805F8>"
            ]
          },
          "metadata": {
            "tags": []
          }
        },
        {
          "output_type": "display_data",
          "data": {
            "application/javascript": [
              "\n",
              "    async function download(id, filename, size) {\n",
              "      if (!google.colab.kernel.accessAllowed) {\n",
              "        return;\n",
              "      }\n",
              "      const div = document.createElement('div');\n",
              "      const label = document.createElement('label');\n",
              "      label.textContent = `Downloading \"${filename}\": `;\n",
              "      div.appendChild(label);\n",
              "      const progress = document.createElement('progress');\n",
              "      progress.max = size;\n",
              "      div.appendChild(progress);\n",
              "      document.body.appendChild(div);\n",
              "\n",
              "      const buffers = [];\n",
              "      let downloaded = 0;\n",
              "\n",
              "      const channel = await google.colab.kernel.comms.open(id);\n",
              "      // Send a message to notify the kernel that we're ready.\n",
              "      channel.send({})\n",
              "\n",
              "      for await (const message of channel.messages) {\n",
              "        // Send a message to notify the kernel that we're ready.\n",
              "        channel.send({})\n",
              "        if (message.buffers) {\n",
              "          for (const buffer of message.buffers) {\n",
              "            buffers.push(buffer);\n",
              "            downloaded += buffer.byteLength;\n",
              "            progress.value = downloaded;\n",
              "          }\n",
              "        }\n",
              "      }\n",
              "      const blob = new Blob(buffers, {type: 'application/binary'});\n",
              "      const a = document.createElement('a');\n",
              "      a.href = window.URL.createObjectURL(blob);\n",
              "      a.download = filename;\n",
              "      div.appendChild(a);\n",
              "      a.click();\n",
              "      div.remove();\n",
              "    }\n",
              "  "
            ],
            "text/plain": [
              "<IPython.core.display.Javascript object>"
            ]
          },
          "metadata": {
            "tags": []
          }
        },
        {
          "output_type": "display_data",
          "data": {
            "application/javascript": [
              "download(\"download_5fc6ebce-193a-446a-a0f4-ef9c06a05b57\", \"2p4.png\", 945)"
            ],
            "text/plain": [
              "<IPython.core.display.Javascript object>"
            ]
          },
          "metadata": {
            "tags": []
          }
        },
        {
          "output_type": "stream",
          "text": [
            "\n"
          ],
          "name": "stdout"
        },
        {
          "output_type": "display_data",
          "data": {
            "image/png": "[encoded data removed]",
            "text/plain": [
              "<PIL.Image.Image image mode=L size=100x100 at 0x7FC832780668>"
            ]
          },
          "metadata": {
            "tags": []
          }
        },
        {
          "output_type": "display_data",
          "data": {
            "application/javascript": [
              "\n",
              "    async function download(id, filename, size) {\n",
              "      if (!google.colab.kernel.accessAllowed) {\n",
              "        return;\n",
              "      }\n",
              "      const div = document.createElement('div');\n",
              "      const label = document.createElement('label');\n",
              "      label.textContent = `Downloading \"${filename}\": `;\n",
              "      div.appendChild(label);\n",
              "      const progress = document.createElement('progress');\n",
              "      progress.max = size;\n",
              "      div.appendChild(progress);\n",
              "      document.body.appendChild(div);\n",
              "\n",
              "      const buffers = [];\n",
              "      let downloaded = 0;\n",
              "\n",
              "      const channel = await google.colab.kernel.comms.open(id);\n",
              "      // Send a message to notify the kernel that we're ready.\n",
              "      channel.send({})\n",
              "\n",
              "      for await (const message of channel.messages) {\n",
              "        // Send a message to notify the kernel that we're ready.\n",
              "        channel.send({})\n",
              "        if (message.buffers) {\n",
              "          for (const buffer of message.buffers) {\n",
              "            buffers.push(buffer);\n",
              "            downloaded += buffer.byteLength;\n",
              "            progress.value = downloaded;\n",
              "          }\n",
              "        }\n",
              "      }\n",
              "      const blob = new Blob(buffers, {type: 'application/binary'});\n",
              "      const a = document.createElement('a');\n",
              "      a.href = window.URL.createObjectURL(blob);\n",
              "      a.download = filename;\n",
              "      div.appendChild(a);\n",
              "      a.click();\n",
              "      div.remove();\n",
              "    }\n",
              "  "
            ],
            "text/plain": [
              "<IPython.core.display.Javascript object>"
            ]
          },
          "metadata": {
            "tags": []
          }
        },
        {
          "output_type": "display_data",
          "data": {
            "application/javascript": [
              "download(\"download_0d82dbad-f4f0-4ac7-982d-bc3fc41941a1\", \"2p5.png\", 2316)"
            ],
            "text/plain": [
              "<IPython.core.display.Javascript object>"
            ]
          },
          "metadata": {
            "tags": []
          }
        },
        {
          "output_type": "stream",
          "text": [
            "\n"
          ],
          "name": "stdout"
        },
        {
          "output_type": "display_data",
          "data": {
            "image/png": "[encoded data removed]",
            "text/plain": [
              "<PIL.Image.Image image mode=L size=100x100 at 0x7FC8327806D8>"
            ]
          },
          "metadata": {
            "tags": []
          }
        },
        {
          "output_type": "display_data",
          "data": {
            "application/javascript": [
              "\n",
              "    async function download(id, filename, size) {\n",
              "      if (!google.colab.kernel.accessAllowed) {\n",
              "        return;\n",
              "      }\n",
              "      const div = document.createElement('div');\n",
              "      const label = document.createElement('label');\n",
              "      label.textContent = `Downloading \"${filename}\": `;\n",
              "      div.appendChild(label);\n",
              "      const progress = document.createElement('progress');\n",
              "      progress.max = size;\n",
              "      div.appendChild(progress);\n",
              "      document.body.appendChild(div);\n",
              "\n",
              "      const buffers = [];\n",
              "      let downloaded = 0;\n",
              "\n",
              "      const channel = await google.colab.kernel.comms.open(id);\n",
              "      // Send a message to notify the kernel that we're ready.\n",
              "      channel.send({})\n",
              "\n",
              "      for await (const message of channel.messages) {\n",
              "        // Send a message to notify the kernel that we're ready.\n",
              "        channel.send({})\n",
              "        if (message.buffers) {\n",
              "          for (const buffer of message.buffers) {\n",
              "            buffers.push(buffer);\n",
              "            downloaded += buffer.byteLength;\n",
              "            progress.value = downloaded;\n",
              "          }\n",
              "        }\n",
              "      }\n",
              "      const blob = new Blob(buffers, {type: 'application/binary'});\n",
              "      const a = document.createElement('a');\n",
              "      a.href = window.URL.createObjectURL(blob);\n",
              "      a.download = filename;\n",
              "      div.appendChild(a);\n",
              "      a.click();\n",
              "      div.remove();\n",
              "    }\n",
              "  "
            ],
            "text/plain": [
              "<IPython.core.display.Javascript object>"
            ]
          },
          "metadata": {
            "tags": []
          }
        },
        {
          "output_type": "display_data",
          "data": {
            "application/javascript": [
              "download(\"download_1a2c6446-51fa-435c-9130-c5dacb1688ad\", \"2p6.png\", 857)"
            ],
            "text/plain": [
              "<IPython.core.display.Javascript object>"
            ]
          },
          "metadata": {
            "tags": []
          }
        },
        {
          "output_type": "stream",
          "text": [
            "\n"
          ],
          "name": "stdout"
        }
      ]
    }
  ]
}