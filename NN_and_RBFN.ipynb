{
  "nbformat": 4,
  "nbformat_minor": 0,
  "metadata": {
    "colab": {
      "name": "NN2020_HW2_續.ipynb",
      "provenance": [],
      "collapsed_sections": [
        "jx-t6SEEle_e",
        "vxkslJKbJ1eR",
        "7PXn1lavM-e9",
        "0Xm8HKN_NAnM",
        "UZ9uoigLWsVE",
        "3ppTEOSaePu6",
        "X0TaOXhnJ6Cm",
        "WzJmw73H_hDi",
        "KRosvfPk_jnf",
        "b30L0yalxk7W",
        "NYHJ_D0cxnUj",
        "EPTnhsW7xsHk",
        "RpDZmJZPGCyO",
        "gZHs1R3u2_4J",
        "0sWn5MUC3DL3",
        "EeeHE_BD3gcs",
        "PmxjV7i19osI",
        "j1LENJ2zqRXf",
        "MCfCX1ZUGjCD",
        "xTZYGdxhDuO7",
        "2z5_D7RT9xBY",
        "DOJp11d-9yrW",
        "Sky6wFskmB5G"
      ],
      "toc_visible": true
    },
    "kernelspec": {
      "display_name": "Python 3",
      "name": "python3"
    }
  },
  "cells": [
    {
      "cell_type": "markdown",
      "metadata": {
        "id": "jx-t6SEEle_e"
      },
      "source": [
        "# Import library"
      ]
    },
    {
      "cell_type": "code",
      "metadata": {
        "id": "aAHQNpYKldVZ",
        "colab": {
          "base_uri": "https://localhost:8080/"
        },
        "outputId": "009e7d71-10be-4011-b9ce-ee4275c7f269"
      },
      "source": [
        "import pandas as pd\n",
        "import numpy as np\n",
        "import time\n",
        "\n",
        "import seaborn as sns\n",
        "import matplotlib.pylab as plt\n",
        "\n",
        "# Keras is used for validating my own model\n",
        "import keras\n",
        "from keras.models import Sequential\n",
        "from keras.layers import Dense\n",
        "from keras import optimizers\n",
        "\n",
        "np.seterr(all='raise')"
      ],
      "execution_count": null,
      "outputs": [
        {
          "output_type": "execute_result",
          "data": {
            "text/plain": [
              "{'divide': 'warn', 'invalid': 'warn', 'over': 'warn', 'under': 'ignore'}"
            ]
          },
          "metadata": {
            "tags": []
          },
          "execution_count": 2
        }
      ]
    },
    {
      "cell_type": "markdown",
      "metadata": {
        "id": "vxkslJKbJ1eR"
      },
      "source": [
        "# Download Dataset and Preprocess\n",
        "Data:  \n",
        "{adult,mnist,bike}\\_{train,test}\\_{data,label}   "
      ]
    },
    {
      "cell_type": "markdown",
      "metadata": {
        "id": "IlEonmtbJ4Sp"
      },
      "source": [
        "## Adult dataset\n",
        "https://archive.ics.uci.edu/ml/datasets/Adult"
      ]
    },
    {
      "cell_type": "markdown",
      "metadata": {
        "id": "7PXn1lavM-e9"
      },
      "source": [
        "#### Download Dataset"
      ]
    },
    {
      "cell_type": "code",
      "metadata": {
        "id": "6N0HvRWeI4Yd",
        "colab": {
          "base_uri": "https://localhost:8080/"
        },
        "outputId": "3f602fa0-da2f-45ec-9153-8e400091cfed"
      },
      "source": [
        "!rm -r adult\n",
        "!mkdir adult\n",
        "!wget -O ./adult/adult.data https://archive.ics.uci.edu/ml/machine-learning-databases/adult/adult.data\n",
        "!wget -O ./adult/adult.names https://archive.ics.uci.edu/ml/machine-learning-databases/adult/adult.names\n",
        "!wget -O ./adult/adult.test https://archive.ics.uci.edu/ml/machine-learning-databases/adult/adult.test"
      ],
      "execution_count": null,
      "outputs": [
        {
          "output_type": "stream",
          "text": [
            "rm: cannot remove 'adult': No such file or directory\n",
            "--2020-11-18 07:07:46--  https://archive.ics.uci.edu/ml/machine-learning-databases/adult/adult.data\n",
            "Resolving archive.ics.uci.edu (archive.ics.uci.edu)... 128.195.10.252\n",
            "Connecting to archive.ics.uci.edu (archive.ics.uci.edu)|128.195.10.252|:443... connected.\n",
            "HTTP request sent, awaiting response... 200 OK\n",
            "Length: 3974305 (3.8M) [application/x-httpd-php]\n",
            "Saving to: ‘./adult/adult.data’\n",
            "\n",
            "./adult/adult.data  100%[===================>]   3.79M  3.60MB/s    in 1.1s    \n",
            "\n",
            "2020-11-18 07:07:48 (3.60 MB/s) - ‘./adult/adult.data’ saved [3974305/3974305]\n",
            "\n",
            "--2020-11-18 07:07:48--  https://archive.ics.uci.edu/ml/machine-learning-databases/adult/adult.names\n",
            "Resolving archive.ics.uci.edu (archive.ics.uci.edu)... 128.195.10.252\n",
            "Connecting to archive.ics.uci.edu (archive.ics.uci.edu)|128.195.10.252|:443... connected.\n",
            "HTTP request sent, awaiting response... 200 OK\n",
            "Length: 5229 (5.1K) [application/x-httpd-php]\n",
            "Saving to: ‘./adult/adult.names’\n",
            "\n",
            "./adult/adult.names 100%[===================>]   5.11K  --.-KB/s    in 0s      \n",
            "\n",
            "2020-11-18 07:07:49 (87.6 MB/s) - ‘./adult/adult.names’ saved [5229/5229]\n",
            "\n",
            "--2020-11-18 07:07:49--  https://archive.ics.uci.edu/ml/machine-learning-databases/adult/adult.test\n",
            "Resolving archive.ics.uci.edu (archive.ics.uci.edu)... 128.195.10.252\n",
            "Connecting to archive.ics.uci.edu (archive.ics.uci.edu)|128.195.10.252|:443... connected.\n",
            "HTTP request sent, awaiting response... 200 OK\n",
            "Length: 2003153 (1.9M) [application/x-httpd-php]\n",
            "Saving to: ‘./adult/adult.test’\n",
            "\n",
            "./adult/adult.test  100%[===================>]   1.91M  2.05MB/s    in 0.9s    \n",
            "\n",
            "2020-11-18 07:07:50 (2.05 MB/s) - ‘./adult/adult.test’ saved [2003153/2003153]\n",
            "\n"
          ],
          "name": "stdout"
        }
      ]
    },
    {
      "cell_type": "markdown",
      "metadata": {
        "id": "0Xm8HKN_NAnM"
      },
      "source": [
        "#### Dataset Description"
      ]
    },
    {
      "cell_type": "markdown",
      "metadata": {
        "id": "vF2rL0utMlRi"
      },
      "source": [
        "**1.age**: continuous.  \n",
        "**2.workclass**: Private, Self-emp-not-inc, Self-emp-inc, Federal-gov, Local-gov,   State-gov, Without-pay, Never-worked.  \n",
        "**3.fnlwgt**: continuous.  \n",
        "**4.education**: Bachelors, Some-college, 11th, HS-grad, Prof-school, Assoc-acdm, Assoc-voc, 9th, 7th-8th, 12th, Masters, 1st-4th, 10th, Doctorate, 5th-6th, Preschool.  \n",
        "**5.education-num**: continuous.  \n",
        "**6.marital-status**: Married-civ-spouse, Divorced, Never-married, Separated, Widowed, Married-spouse-absent, Married-AF-spouse.  \n",
        "**7.occupation**: Tech-support, Craft-repair, Other-service, Sales, Exec-managerial, Prof-specialty, Handlers-cleaners, Machine-op-inspct, Adm-clerical, Farming-fishing, Transport-moving, Priv-house-serv, Protective-serv, Armed-Forces.  \n",
        "**8.relationship**: Wife, Own-child, Husband, Not-in-family, Other-relative, Unmarried.  \n",
        "**9.race**: White, Asian-Pac-Islander, Amer-Indian-Eskimo, Other, Black.  \n",
        "**10.sex**: Female, Male.  \n",
        "**11.capital-gain**: continuous.  \n",
        "**12.capital-loss**: continuous.  \n",
        "**13.hours-per-week**: continuous.  \n",
        "**14.native-country**: United-States, Cambodia, England, Puerto-Rico, Canada, Germany, Outlying-US(Guam-USVI-etc), India, Japan, Greece, South, China, Cuba, Iran, Honduras, Philippines, Italy, Poland, Jamaica, Vietnam, Mexico, Portugal, Ireland, France, Dominican-Republic, Laos, Ecuador, Taiwan, Haiti, Columbia, Hungary, Guatemala, Nicaragua, Scotland, Thailand, Yugoslavia, El-Salvador, Trinadad&Tobago, Peru, Hong, Holand-Netherlands.  "
      ]
    },
    {
      "cell_type": "markdown",
      "metadata": {
        "id": "hdnO76RlNEAL"
      },
      "source": [
        "#### Preprocess"
      ]
    },
    {
      "cell_type": "code",
      "metadata": {
        "id": "xkMeautiLWNF",
        "colab": {
          "base_uri": "https://localhost:8080/",
          "height": 204
        },
        "outputId": "dc56d1d2-7fe8-48f0-9fbd-aa71823797fb"
      },
      "source": [
        "df = pd.read_csv(\"./adult/adult.data\", header=None)\n",
        "df.columns = ['age','workclass','fnlwgt','education','education-num','marital-status','occupation','relationship','race','sex','captial-gain','capital-loss','hours-per-week','native-country','label']\n",
        "adult_train_test_split = df.shape[0]\n",
        "\n",
        "df.label = df.label.replace(\" <=50K\",0)\n",
        "df.label = df.label.replace(\" >50K\",1)\n",
        "df.label = df.label.astype(int)\n",
        "\n",
        "df.sex = df.sex.replace(\" Male\",0)\n",
        "df.sex = df.sex.replace(\" Female\",1)\n",
        "df.sex = df.sex.astype(int)\n",
        "\n",
        "df.head(5)"
      ],
      "execution_count": null,
      "outputs": [
        {
          "output_type": "execute_result",
          "data": {
            "text/html": [
              "<div>\n",
              "<style scoped>\n",
              "    .dataframe tbody tr th:only-of-type {\n",
              "        vertical-align: middle;\n",
              "    }\n",
              "\n",
              "    .dataframe tbody tr th {\n",
              "        vertical-align: top;\n",
              "    }\n",
              "\n",
              "    .dataframe thead th {\n",
              "        text-align: right;\n",
              "    }\n",
              "</style>\n",
              "<table border=\"1\" class=\"dataframe\">\n",
              "  <thead>\n",
              "    <tr style=\"text-align: right;\">\n",
              "      <th></th>\n",
              "      <th>age</th>\n",
              "      <th>workclass</th>\n",
              "      <th>fnlwgt</th>\n",
              "      <th>education</th>\n",
              "      <th>education-num</th>\n",
              "      <th>marital-status</th>\n",
              "      <th>occupation</th>\n",
              "      <th>relationship</th>\n",
              "      <th>race</th>\n",
              "      <th>sex</th>\n",
              "      <th>captial-gain</th>\n",
              "      <th>capital-loss</th>\n",
              "      <th>hours-per-week</th>\n",
              "      <th>native-country</th>\n",
              "      <th>label</th>\n",
              "    </tr>\n",
              "  </thead>\n",
              "  <tbody>\n",
              "    <tr>\n",
              "      <th>0</th>\n",
              "      <td>39</td>\n",
              "      <td>State-gov</td>\n",
              "      <td>77516</td>\n",
              "      <td>Bachelors</td>\n",
              "      <td>13</td>\n",
              "      <td>Never-married</td>\n",
              "      <td>Adm-clerical</td>\n",
              "      <td>Not-in-family</td>\n",
              "      <td>White</td>\n",
              "      <td>0</td>\n",
              "      <td>2174</td>\n",
              "      <td>0</td>\n",
              "      <td>40</td>\n",
              "      <td>United-States</td>\n",
              "      <td>0</td>\n",
              "    </tr>\n",
              "    <tr>\n",
              "      <th>1</th>\n",
              "      <td>50</td>\n",
              "      <td>Self-emp-not-inc</td>\n",
              "      <td>83311</td>\n",
              "      <td>Bachelors</td>\n",
              "      <td>13</td>\n",
              "      <td>Married-civ-spouse</td>\n",
              "      <td>Exec-managerial</td>\n",
              "      <td>Husband</td>\n",
              "      <td>White</td>\n",
              "      <td>0</td>\n",
              "      <td>0</td>\n",
              "      <td>0</td>\n",
              "      <td>13</td>\n",
              "      <td>United-States</td>\n",
              "      <td>0</td>\n",
              "    </tr>\n",
              "    <tr>\n",
              "      <th>2</th>\n",
              "      <td>38</td>\n",
              "      <td>Private</td>\n",
              "      <td>215646</td>\n",
              "      <td>HS-grad</td>\n",
              "      <td>9</td>\n",
              "      <td>Divorced</td>\n",
              "      <td>Handlers-cleaners</td>\n",
              "      <td>Not-in-family</td>\n",
              "      <td>White</td>\n",
              "      <td>0</td>\n",
              "      <td>0</td>\n",
              "      <td>0</td>\n",
              "      <td>40</td>\n",
              "      <td>United-States</td>\n",
              "      <td>0</td>\n",
              "    </tr>\n",
              "    <tr>\n",
              "      <th>3</th>\n",
              "      <td>53</td>\n",
              "      <td>Private</td>\n",
              "      <td>234721</td>\n",
              "      <td>11th</td>\n",
              "      <td>7</td>\n",
              "      <td>Married-civ-spouse</td>\n",
              "      <td>Handlers-cleaners</td>\n",
              "      <td>Husband</td>\n",
              "      <td>Black</td>\n",
              "      <td>0</td>\n",
              "      <td>0</td>\n",
              "      <td>0</td>\n",
              "      <td>40</td>\n",
              "      <td>United-States</td>\n",
              "      <td>0</td>\n",
              "    </tr>\n",
              "    <tr>\n",
              "      <th>4</th>\n",
              "      <td>28</td>\n",
              "      <td>Private</td>\n",
              "      <td>338409</td>\n",
              "      <td>Bachelors</td>\n",
              "      <td>13</td>\n",
              "      <td>Married-civ-spouse</td>\n",
              "      <td>Prof-specialty</td>\n",
              "      <td>Wife</td>\n",
              "      <td>Black</td>\n",
              "      <td>1</td>\n",
              "      <td>0</td>\n",
              "      <td>0</td>\n",
              "      <td>40</td>\n",
              "      <td>Cuba</td>\n",
              "      <td>0</td>\n",
              "    </tr>\n",
              "  </tbody>\n",
              "</table>\n",
              "</div>"
            ],
            "text/plain": [
              "   age          workclass  fnlwgt  ... hours-per-week  native-country label\n",
              "0   39          State-gov   77516  ...             40   United-States     0\n",
              "1   50   Self-emp-not-inc   83311  ...             13   United-States     0\n",
              "2   38            Private  215646  ...             40   United-States     0\n",
              "3   53            Private  234721  ...             40   United-States     0\n",
              "4   28            Private  338409  ...             40            Cuba     0\n",
              "\n",
              "[5 rows x 15 columns]"
            ]
          },
          "metadata": {
            "tags": []
          },
          "execution_count": 4
        }
      ]
    },
    {
      "cell_type": "markdown",
      "metadata": {
        "id": "UZ9uoigLWsVE"
      },
      "source": [
        "##### Before"
      ]
    },
    {
      "cell_type": "code",
      "metadata": {
        "id": "FZVIml_CWHxo",
        "colab": {
          "base_uri": "https://localhost:8080/"
        },
        "outputId": "348b95f3-bbd4-49ba-a41c-0365fcfa96b0"
      },
      "source": [
        "num_feature = len(df.columns)\n",
        "ncols = 5\n",
        "nrows = (num_feature-1)//ncols+1\n",
        "\n",
        "fig, axes = plt.subplots(nrows=nrows, ncols=ncols, figsize=(20,20))\n",
        "\n",
        "col_cnt = 0\n",
        "row_cnt = 0\n",
        "for index,feature in enumerate(df):\n",
        "  sns.histplot(df, x=feature, hue='label', ax=axes[row_cnt][col_cnt])\n",
        "  col_cnt += 1\n",
        "  if col_cnt == ncols:\n",
        "    row_cnt += 1\n",
        "    col_cnt = 0\n",
        "plt.show()"
      ],
      "execution_count": null,
      "outputs": [
        {
          "output_type": "display_data",
          "data": {
            "image/png": "[encoded data removed]",
            "text/plain": [
              "<Figure size 1440x1440 with 15 Axes>"
            ]
          },
          "metadata": {
            "tags": [],
            "needs_background": "light"
          }
        }
      ]
    },
    {
      "cell_type": "markdown",
      "metadata": {
        "id": "3ppTEOSaePu6"
      },
      "source": [
        "##### Process"
      ]
    },
    {
      "cell_type": "code",
      "metadata": {
        "id": "TTVBN7P5kXtp"
      },
      "source": [
        "df['native-country'] = df['native-country'].where(df['native-country'] == \" United-States\",0)\n",
        "df['native-country'] = df['native-country'].where(df['native-country'] != \" United-States\",1)\n",
        "df['native-country'] = df['native-country'].astype(int)\n",
        "df.age = df.age//10\n",
        "df['hours-per-week'] = df['hours-per-week']//10"
      ],
      "execution_count": null,
      "outputs": []
    },
    {
      "cell_type": "code",
      "metadata": {
        "id": "IVJhStgJ9YdP",
        "colab": {
          "base_uri": "https://localhost:8080/"
        },
        "outputId": "fbb7c59d-c937-4daf-ccbb-e8ec307b86f2"
      },
      "source": [
        "plt.figure(figsize=(15,15))\n",
        "# Compare heatmap of numerical feature of drop and not drop\n",
        "\n",
        "numerical = ['age','fnlwgt','capital-loss','captial-gain','education-num','hours-per-week','label']\n",
        "heat = df[numerical].corr()\n",
        "sns.heatmap(heat, linewidth=0.3, cmap=\"YlGn\" ,annot=True)"
      ],
      "execution_count": null,
      "outputs": [
        {
          "output_type": "execute_result",
          "data": {
            "text/plain": [
              "<matplotlib.axes._subplots.AxesSubplot at 0x7f2297bc8518>"
            ]
          },
          "metadata": {
            "tags": []
          },
          "execution_count": 7
        },
        {
          "output_type": "display_data",
          "data": {
            "image/png": "[encoded data removed]",
            "text/plain": [
              "<Figure size 1080x1080 with 2 Axes>"
            ]
          },
          "metadata": {
            "tags": [],
            "needs_background": "light"
          }
        }
      ]
    },
    {
      "cell_type": "code",
      "metadata": {
        "id": "09DT5t-Yj3ag"
      },
      "source": [
        "df = df.drop([\"fnlwgt\",\"workclass\",\"race\",\"native-country\"],axis=1)"
      ],
      "execution_count": null,
      "outputs": []
    },
    {
      "cell_type": "code",
      "metadata": {
        "id": "DpcTxJg0W0tS",
        "colab": {
          "base_uri": "https://localhost:8080/"
        },
        "outputId": "58a85ad9-6258-470b-f31d-9dafdc513663"
      },
      "source": [
        "num_feature = len(df.columns)\n",
        "ncols = 6\n",
        "nrows = (num_feature-1)//ncols+1\n",
        "\n",
        "fig, axes = plt.subplots(nrows=nrows, ncols=ncols, figsize=(20,10))\n",
        "\n",
        "col_cnt = 0\n",
        "row_cnt = 0\n",
        "for index,feature in enumerate(df):\n",
        "  sns.histplot(df, x=feature, hue='label', ax=axes[row_cnt][col_cnt])\n",
        "  col_cnt += 1\n",
        "  if col_cnt == ncols:\n",
        "    row_cnt += 1\n",
        "    col_cnt = 0\n",
        "plt.show()"
      ],
      "execution_count": null,
      "outputs": [
        {
          "output_type": "display_data",
          "data": {
            "image/png": "[encoded data removed]",
            "text/plain": [
              "<Figure size 1440x720 with 12 Axes>"
            ]
          },
          "metadata": {
            "tags": [],
            "needs_background": "light"
          }
        }
      ]
    },
    {
      "cell_type": "code",
      "metadata": {
        "id": "Y9Gq2chy79A9",
        "colab": {
          "base_uri": "https://localhost:8080/"
        },
        "outputId": "b06dd47e-1ad0-483d-fdb9-1aec38be73ca"
      },
      "source": [
        "df_test = pd.read_csv(\"./adult/adult.test\", skiprows=1, header=None)\n",
        "df_test.columns = ['age','workclass','fnlwgt','education','education-num','marital-status','occupation','relationship','race','sex','captial-gain','capital-loss','hours-per-week','native-country','label']\n",
        "df_test.label = df_test.label.replace(\" <=50K.\",0)\n",
        "df_test.label = df_test.label.replace(\" >50K.\",1)\n",
        "df_test.label = df_test.label.astype(int)\n",
        "\n",
        "df_test.sex = df_test.sex.replace(\" Male\",0)\n",
        "df_test.sex = df_test.sex.replace(\" Female\",1)\n",
        "df_test.sex = df_test.sex.astype(int)\n",
        "\n",
        "df_test['native-country'] = df_test['native-country'].where(df_test['native-country'] == \" United-States\",0)\n",
        "df_test['native-country'] = df_test['native-country'].where(df_test['native-country'] != \" United-States\",1)\n",
        "df_test.age = df_test.age//10\n",
        "df_test['hours-per-week'] = df_test['hours-per-week']//10\n",
        "\n",
        "df_test = df_test.drop([\"fnlwgt\",\"workclass\",\"race\",\"native-country\"],axis=1)\n",
        "\n",
        "df_test.head(5)"
      ],
      "execution_count": null,
      "outputs": [
        {
          "output_type": "execute_result",
          "data": {
            "text/html": [
              "<div>\n",
              "<style scoped>\n",
              "    .dataframe tbody tr th:only-of-type {\n",
              "        vertical-align: middle;\n",
              "    }\n",
              "\n",
              "    .dataframe tbody tr th {\n",
              "        vertical-align: top;\n",
              "    }\n",
              "\n",
              "    .dataframe thead th {\n",
              "        text-align: right;\n",
              "    }\n",
              "</style>\n",
              "<table border=\"1\" class=\"dataframe\">\n",
              "  <thead>\n",
              "    <tr style=\"text-align: right;\">\n",
              "      <th></th>\n",
              "      <th>age</th>\n",
              "      <th>education</th>\n",
              "      <th>education-num</th>\n",
              "      <th>marital-status</th>\n",
              "      <th>occupation</th>\n",
              "      <th>relationship</th>\n",
              "      <th>sex</th>\n",
              "      <th>captial-gain</th>\n",
              "      <th>capital-loss</th>\n",
              "      <th>hours-per-week</th>\n",
              "      <th>label</th>\n",
              "    </tr>\n",
              "  </thead>\n",
              "  <tbody>\n",
              "    <tr>\n",
              "      <th>0</th>\n",
              "      <td>2</td>\n",
              "      <td>11th</td>\n",
              "      <td>7</td>\n",
              "      <td>Never-married</td>\n",
              "      <td>Machine-op-inspct</td>\n",
              "      <td>Own-child</td>\n",
              "      <td>0</td>\n",
              "      <td>0</td>\n",
              "      <td>0</td>\n",
              "      <td>4</td>\n",
              "      <td>0</td>\n",
              "    </tr>\n",
              "    <tr>\n",
              "      <th>1</th>\n",
              "      <td>3</td>\n",
              "      <td>HS-grad</td>\n",
              "      <td>9</td>\n",
              "      <td>Married-civ-spouse</td>\n",
              "      <td>Farming-fishing</td>\n",
              "      <td>Husband</td>\n",
              "      <td>0</td>\n",
              "      <td>0</td>\n",
              "      <td>0</td>\n",
              "      <td>5</td>\n",
              "      <td>0</td>\n",
              "    </tr>\n",
              "    <tr>\n",
              "      <th>2</th>\n",
              "      <td>2</td>\n",
              "      <td>Assoc-acdm</td>\n",
              "      <td>12</td>\n",
              "      <td>Married-civ-spouse</td>\n",
              "      <td>Protective-serv</td>\n",
              "      <td>Husband</td>\n",
              "      <td>0</td>\n",
              "      <td>0</td>\n",
              "      <td>0</td>\n",
              "      <td>4</td>\n",
              "      <td>1</td>\n",
              "    </tr>\n",
              "    <tr>\n",
              "      <th>3</th>\n",
              "      <td>4</td>\n",
              "      <td>Some-college</td>\n",
              "      <td>10</td>\n",
              "      <td>Married-civ-spouse</td>\n",
              "      <td>Machine-op-inspct</td>\n",
              "      <td>Husband</td>\n",
              "      <td>0</td>\n",
              "      <td>7688</td>\n",
              "      <td>0</td>\n",
              "      <td>4</td>\n",
              "      <td>1</td>\n",
              "    </tr>\n",
              "    <tr>\n",
              "      <th>4</th>\n",
              "      <td>1</td>\n",
              "      <td>Some-college</td>\n",
              "      <td>10</td>\n",
              "      <td>Never-married</td>\n",
              "      <td>?</td>\n",
              "      <td>Own-child</td>\n",
              "      <td>1</td>\n",
              "      <td>0</td>\n",
              "      <td>0</td>\n",
              "      <td>3</td>\n",
              "      <td>0</td>\n",
              "    </tr>\n",
              "  </tbody>\n",
              "</table>\n",
              "</div>"
            ],
            "text/plain": [
              "   age      education  education-num  ... capital-loss hours-per-week label\n",
              "0    2           11th              7  ...            0              4     0\n",
              "1    3        HS-grad              9  ...            0              5     0\n",
              "2    2     Assoc-acdm             12  ...            0              4     1\n",
              "3    4   Some-college             10  ...            0              4     1\n",
              "4    1   Some-college             10  ...            0              3     0\n",
              "\n",
              "[5 rows x 11 columns]"
            ]
          },
          "metadata": {
            "tags": []
          },
          "execution_count": 10
        }
      ]
    },
    {
      "cell_type": "code",
      "metadata": {
        "id": "BesQvnl-0apP"
      },
      "source": [
        "df = df.append(df_test)\n",
        "\n",
        "one_hot_data = pd.get_dummies(df)\n",
        "\n",
        "cols = one_hot_data.columns.tolist()\n",
        "cols.insert(0, cols.pop(cols.index('label')))\n",
        "one_hot_data = one_hot_data.reindex(columns= cols)"
      ],
      "execution_count": null,
      "outputs": []
    },
    {
      "cell_type": "code",
      "metadata": {
        "id": "uuhmYxD-25oI"
      },
      "source": [
        "whole_data = np.array(one_hot_data)\n",
        "\n",
        "# Split combined data back to train and test, shuffle the training set\n",
        "adult_train = whole_data[0:adult_train_test_split,:]\n",
        "np.random.shuffle(adult_train)\n",
        "adult_train_data = adult_train[:,1:]\n",
        "adult_train_label = adult_train[:,0]\n",
        "\n",
        "adult_test = whole_data[adult_train_test_split:-1]\n",
        "adult_test_data = adult_test[:,1:]\n",
        "adult_test_label = adult_test[:,0]"
      ],
      "execution_count": null,
      "outputs": []
    },
    {
      "cell_type": "code",
      "metadata": {
        "id": "_WUutuTdfSUS"
      },
      "source": [
        "mean = np.mean(adult_train_data,axis=0)\n",
        "standard = np.std(adult_train_data, axis=0)\n",
        "\n",
        "adult_train_data = (adult_train_data - mean)/standard\n",
        "adult_test_data = (adult_test_data - mean)/standard"
      ],
      "execution_count": null,
      "outputs": []
    },
    {
      "cell_type": "markdown",
      "metadata": {
        "id": "X0TaOXhnJ6Cm"
      },
      "source": [
        "## Mnist Dataset\n",
        "http://yann.lecun.com/exdb/mnist/"
      ]
    },
    {
      "cell_type": "markdown",
      "metadata": {
        "id": "WzJmw73H_hDi"
      },
      "source": [
        "#### Download Dataset"
      ]
    },
    {
      "cell_type": "code",
      "metadata": {
        "id": "yLDWfXuIJ9PS",
        "colab": {
          "base_uri": "https://localhost:8080/"
        },
        "outputId": "e0f3dcd5-17ff-4b34-cfc6-b44eae42df9f"
      },
      "source": [
        "!rm -r mnist\n",
        "!mkdir mnist\n",
        "!wget -O ./mnist/training_images.gz http://yann.lecun.com/exdb/mnist/train-images-idx3-ubyte.gz\n",
        "!wget -O ./mnist/training_labels.gz http://yann.lecun.com/exdb/mnist/train-labels-idx1-ubyte.gz\n",
        "!wget -O ./mnist/testing_images.gz http://yann.lecun.com/exdb/mnist/t10k-images-idx3-ubyte.gz\n",
        "!wget -O ./mnist/testing_labels.gz http://yann.lecun.com/exdb/mnist/t10k-labels-idx1-ubyte.gz"
      ],
      "execution_count": null,
      "outputs": [
        {
          "output_type": "stream",
          "text": [
            "rm: cannot remove 'mnist': No such file or directory\n",
            "--2020-11-18 07:08:01--  http://yann.lecun.com/exdb/mnist/train-images-idx3-ubyte.gz\n",
            "Resolving yann.lecun.com (yann.lecun.com)... 104.28.6.204, 172.67.171.76, 104.28.7.204, ...\n",
            "Connecting to yann.lecun.com (yann.lecun.com)|104.28.6.204|:80... connected.\n",
            "HTTP request sent, awaiting response... 200 OK\n",
            "Length: 9912422 (9.5M) [application/x-gzip]\n",
            "Saving to: ‘./mnist/training_images.gz’\n",
            "\n",
            "./mnist/training_im 100%[===================>]   9.45M  4.76MB/s    in 2.0s    \n",
            "\n",
            "2020-11-18 07:08:04 (4.76 MB/s) - ‘./mnist/training_images.gz’ saved [9912422/9912422]\n",
            "\n",
            "--2020-11-18 07:08:04--  http://yann.lecun.com/exdb/mnist/train-labels-idx1-ubyte.gz\n",
            "Resolving yann.lecun.com (yann.lecun.com)... 104.28.6.204, 172.67.171.76, 104.28.7.204, ...\n",
            "Connecting to yann.lecun.com (yann.lecun.com)|104.28.6.204|:80... connected.\n",
            "HTTP request sent, awaiting response... 200 OK\n",
            "Length: 28881 (28K) [application/x-gzip]\n",
            "Saving to: ‘./mnist/training_labels.gz’\n",
            "\n",
            "./mnist/training_la 100%[===================>]  28.20K   152KB/s    in 0.2s    \n",
            "\n",
            "2020-11-18 07:08:05 (152 KB/s) - ‘./mnist/training_labels.gz’ saved [28881/28881]\n",
            "\n",
            "--2020-11-18 07:08:05--  http://yann.lecun.com/exdb/mnist/t10k-images-idx3-ubyte.gz\n",
            "Resolving yann.lecun.com (yann.lecun.com)... 104.28.6.204, 172.67.171.76, 104.28.7.204, ...\n",
            "Connecting to yann.lecun.com (yann.lecun.com)|104.28.6.204|:80... connected.\n",
            "HTTP request sent, awaiting response... 200 OK\n",
            "Length: 1648877 (1.6M) [application/x-gzip]\n",
            "Saving to: ‘./mnist/testing_images.gz’\n",
            "\n",
            "./mnist/testing_ima 100%[===================>]   1.57M  1.34MB/s    in 1.2s    \n",
            "\n",
            "2020-11-18 07:08:06 (1.34 MB/s) - ‘./mnist/testing_images.gz’ saved [1648877/1648877]\n",
            "\n",
            "--2020-11-18 07:08:06--  http://yann.lecun.com/exdb/mnist/t10k-labels-idx1-ubyte.gz\n",
            "Resolving yann.lecun.com (yann.lecun.com)... 104.28.6.204, 104.28.7.204, 172.67.171.76, ...\n",
            "Connecting to yann.lecun.com (yann.lecun.com)|104.28.6.204|:80... connected.\n",
            "HTTP request sent, awaiting response... 200 OK\n",
            "Length: 4542 (4.4K) [application/x-gzip]\n",
            "Saving to: ‘./mnist/testing_labels.gz’\n",
            "\n",
            "./mnist/testing_lab 100%[===================>]   4.44K  --.-KB/s    in 0s      \n",
            "\n",
            "2020-11-18 07:08:07 (308 MB/s) - ‘./mnist/testing_labels.gz’ saved [4542/4542]\n",
            "\n"
          ],
          "name": "stdout"
        }
      ]
    },
    {
      "cell_type": "markdown",
      "metadata": {
        "id": "KRosvfPk_jnf"
      },
      "source": [
        "#### Preprocess"
      ]
    },
    {
      "cell_type": "code",
      "metadata": {
        "id": "uDPSfXSB_foz"
      },
      "source": [
        "import gzip\n",
        "\n",
        "train_img = gzip.open('./mnist/training_images.gz','r')\n",
        "test_img = gzip.open('./mnist/testing_images.gz','r')\n",
        "train_label = gzip.open('./mnist/training_labels.gz','r')\n",
        "test_label = gzip.open('./mnist/testing_labels.gz','r')\n",
        "\n",
        "image_size = 28\n",
        "train_num = 60000\n",
        "test_num = 10000\n",
        "\n",
        "\"\"\" Format training images \"\"\"\n",
        "train_img.read(16)\n",
        "buf = train_img.read(image_size * image_size * train_num)\n",
        "train_data = np.frombuffer(buf, dtype=np.uint8).astype(np.float32)\n",
        "train_data = train_data.reshape(train_num, image_size, image_size, 1)\n",
        "train_data = np.asarray(train_data).squeeze()\n",
        "\n",
        "\"\"\" Format testing images \"\"\"\n",
        "test_img.read(16)\n",
        "buf = test_img.read(image_size * image_size * test_num)\n",
        "test_data = np.frombuffer(buf, dtype=np.uint8).astype(np.float32)\n",
        "test_data = test_data.reshape(test_num, image_size, image_size, 1)\n",
        "test_data = np.asarray(test_data).squeeze()\n",
        "\n",
        "\"\"\" Flattern images \"\"\"\n",
        "mnist_train_data = train_data.reshape(train_num,image_size**2)\n",
        "mnist_test_data = test_data.reshape(test_num,image_size**2)\n",
        "\n",
        "\"\"\" Bound to 0 and 1 \"\"\"\n",
        "mnist_train_data /= 255\n",
        "mnist_test_data /= 255\n",
        "\n",
        "\"\"\" Format training labels \"\"\"\n",
        "train_label.read(8)\n",
        "train_target = np.zeros((train_num))\n",
        "for i in range(0,train_num):   \n",
        "    buf = train_label.read(1)\n",
        "    train_target[i] = int.from_bytes(buf, \"big\")\n",
        "\n",
        "test_label.read(8)\n",
        "test_target = np.zeros((test_num))\n",
        "for i in range(0,test_num):   \n",
        "    buf = test_label.read(1)\n",
        "    test_target[i] = int.from_bytes(buf, \"big\")\n",
        "\n",
        "\"\"\" Label One hot encoding \"\"\"\n",
        "mnist_train_label = np.zeros((train_num, 10))\n",
        "for i in range(train_target.shape[0]):\n",
        "  num = int(train_target[i])\n",
        "  mnist_train_label[i,num] = 1\n",
        "\n",
        "mnist_test_label = np.zeros((test_num, 10))\n",
        "for i in range(test_target.shape[0]):\n",
        "  num = int(test_target[i])\n",
        "  mnist_test_label[i,num] = 1"
      ],
      "execution_count": null,
      "outputs": []
    },
    {
      "cell_type": "markdown",
      "metadata": {
        "id": "sOCU5hsKKmOJ"
      },
      "source": [
        "## Bike Sharing Dataset\n",
        "https://archive.ics.uci.edu/ml/datasets/Bike+Sharing+Dataset"
      ]
    },
    {
      "cell_type": "markdown",
      "metadata": {
        "id": "b30L0yalxk7W"
      },
      "source": [
        "#### Download Dataset"
      ]
    },
    {
      "cell_type": "code",
      "metadata": {
        "id": "N8pjyFZlKpp0",
        "colab": {
          "base_uri": "https://localhost:8080/"
        },
        "outputId": "0a5d7cc1-5b88-43e5-b966-e9c23c398419"
      },
      "source": [
        "!rm -r bike_sharing\n",
        "!mkdir bike_sharing\n",
        "!wget -O ./bike_sharing/bike_sharing.zip https://archive.ics.uci.edu/ml/machine-learning-databases/00275/Bike-Sharing-Dataset.zip"
      ],
      "execution_count": null,
      "outputs": [
        {
          "output_type": "stream",
          "text": [
            "rm: cannot remove 'bike_sharing': No such file or directory\n",
            "--2020-11-18 07:08:08--  https://archive.ics.uci.edu/ml/machine-learning-databases/00275/Bike-Sharing-Dataset.zip\n",
            "Resolving archive.ics.uci.edu (archive.ics.uci.edu)... 128.195.10.252\n",
            "Connecting to archive.ics.uci.edu (archive.ics.uci.edu)|128.195.10.252|:443... connected.\n",
            "HTTP request sent, awaiting response... 200 OK\n",
            "Length: 279992 (273K) [application/x-httpd-php]\n",
            "Saving to: ‘./bike_sharing/bike_sharing.zip’\n",
            "\n",
            "./bike_sharing/bike 100%[===================>] 273.43K   528KB/s    in 0.5s    \n",
            "\n",
            "2020-11-18 07:08:09 (528 KB/s) - ‘./bike_sharing/bike_sharing.zip’ saved [279992/279992]\n",
            "\n"
          ],
          "name": "stdout"
        }
      ]
    },
    {
      "cell_type": "code",
      "metadata": {
        "id": "gmBsEOTEOC0V",
        "colab": {
          "base_uri": "https://localhost:8080/"
        },
        "outputId": "8b2123e1-b69e-45e1-ac16-c03f7104b963"
      },
      "source": [
        "!unzip ./bike_sharing/bike_sharing.zip -d ./bike_sharing/"
      ],
      "execution_count": null,
      "outputs": [
        {
          "output_type": "stream",
          "text": [
            "Archive:  ./bike_sharing/bike_sharing.zip\n",
            "  inflating: ./bike_sharing/Readme.txt  \n",
            "  inflating: ./bike_sharing/day.csv  \n",
            "  inflating: ./bike_sharing/hour.csv  \n"
          ],
          "name": "stdout"
        }
      ]
    },
    {
      "cell_type": "markdown",
      "metadata": {
        "id": "NYHJ_D0cxnUj"
      },
      "source": [
        "#### Dataset Description"
      ]
    },
    {
      "cell_type": "markdown",
      "metadata": {
        "id": "bnBYOc79xpqp"
      },
      "source": [
        "1. instant: record index\n",
        "2. dteday : date\n",
        "3. season : season (1:winter, 2:spring, 3:summer, 4:fall)\n",
        "4. yr : year (0: 2011, 1:2012)\n",
        "5. mnth : month ( 1 to 12)\n",
        "6. hr : hour (0 to 23)\n",
        "7. holiday : weather day is holiday or not (extracted from [Web Link])\n",
        "8. weekday : day of the week\n",
        "9. workingday : if day is neither weekend nor holiday is 1, otherwise is 0.\n",
        "10. weathersit :\n",
        " - 1: Clear, Few clouds, Partly cloudy, Partly cloudy\n",
        " - 2: Mist + Cloudy, Mist + Broken clouds, Mist + Few clouds, Mist\n",
        " - 3: Light Snow, Light Rain + Thunderstorm + Scattered clouds, Light Rain + Scattered clouds\n",
        " - 4: Heavy Rain + Ice Pallets + Thunderstorm + Mist, Snow + Fog\n",
        "11. temp : Normalized temperature in Celsius. The values are derived via (t-t_min)/(t_max-t_min), t_min=-8, t_max=+39 (only in hourly scale)\n",
        "12. atemp: Normalized feeling temperature in Celsius. The values are derived via (t-t_min)/(t_max-t_min), t_min=-16, t_max=+50 (only in hourly scale)\n",
        "13. hum: Normalized humidity. The values are divided to 100 (max)\n",
        "14. windspeed: Normalized wind speed. The values are divided to 67 (max)\n",
        "15. casual: count of casual users\n",
        "16. registered: count of registered users\n",
        "17. cnt: count of total rental bikes including both casual and registered"
      ]
    },
    {
      "cell_type": "markdown",
      "metadata": {
        "id": "EPTnhsW7xsHk"
      },
      "source": [
        "#### Preprocess"
      ]
    },
    {
      "cell_type": "code",
      "metadata": {
        "id": "739wFaCkwymL",
        "colab": {
          "base_uri": "https://localhost:8080/"
        },
        "outputId": "fd71fa31-b7c8-4e1a-e2ac-06d57aaaaa4d"
      },
      "source": [
        "df = pd.read_csv(\"./bike_sharing/hour.csv\")\n",
        "df = df.drop(['instant','dteday','yr'],axis=1)\n",
        "\n",
        "df.head()"
      ],
      "execution_count": null,
      "outputs": [
        {
          "output_type": "execute_result",
          "data": {
            "text/html": [
              "<div>\n",
              "<style scoped>\n",
              "    .dataframe tbody tr th:only-of-type {\n",
              "        vertical-align: middle;\n",
              "    }\n",
              "\n",
              "    .dataframe tbody tr th {\n",
              "        vertical-align: top;\n",
              "    }\n",
              "\n",
              "    .dataframe thead th {\n",
              "        text-align: right;\n",
              "    }\n",
              "</style>\n",
              "<table border=\"1\" class=\"dataframe\">\n",
              "  <thead>\n",
              "    <tr style=\"text-align: right;\">\n",
              "      <th></th>\n",
              "      <th>season</th>\n",
              "      <th>mnth</th>\n",
              "      <th>hr</th>\n",
              "      <th>holiday</th>\n",
              "      <th>weekday</th>\n",
              "      <th>workingday</th>\n",
              "      <th>weathersit</th>\n",
              "      <th>temp</th>\n",
              "      <th>atemp</th>\n",
              "      <th>hum</th>\n",
              "      <th>windspeed</th>\n",
              "      <th>casual</th>\n",
              "      <th>registered</th>\n",
              "      <th>cnt</th>\n",
              "    </tr>\n",
              "  </thead>\n",
              "  <tbody>\n",
              "    <tr>\n",
              "      <th>0</th>\n",
              "      <td>1</td>\n",
              "      <td>1</td>\n",
              "      <td>0</td>\n",
              "      <td>0</td>\n",
              "      <td>6</td>\n",
              "      <td>0</td>\n",
              "      <td>1</td>\n",
              "      <td>0.24</td>\n",
              "      <td>0.2879</td>\n",
              "      <td>0.81</td>\n",
              "      <td>0.0</td>\n",
              "      <td>3</td>\n",
              "      <td>13</td>\n",
              "      <td>16</td>\n",
              "    </tr>\n",
              "    <tr>\n",
              "      <th>1</th>\n",
              "      <td>1</td>\n",
              "      <td>1</td>\n",
              "      <td>1</td>\n",
              "      <td>0</td>\n",
              "      <td>6</td>\n",
              "      <td>0</td>\n",
              "      <td>1</td>\n",
              "      <td>0.22</td>\n",
              "      <td>0.2727</td>\n",
              "      <td>0.80</td>\n",
              "      <td>0.0</td>\n",
              "      <td>8</td>\n",
              "      <td>32</td>\n",
              "      <td>40</td>\n",
              "    </tr>\n",
              "    <tr>\n",
              "      <th>2</th>\n",
              "      <td>1</td>\n",
              "      <td>1</td>\n",
              "      <td>2</td>\n",
              "      <td>0</td>\n",
              "      <td>6</td>\n",
              "      <td>0</td>\n",
              "      <td>1</td>\n",
              "      <td>0.22</td>\n",
              "      <td>0.2727</td>\n",
              "      <td>0.80</td>\n",
              "      <td>0.0</td>\n",
              "      <td>5</td>\n",
              "      <td>27</td>\n",
              "      <td>32</td>\n",
              "    </tr>\n",
              "    <tr>\n",
              "      <th>3</th>\n",
              "      <td>1</td>\n",
              "      <td>1</td>\n",
              "      <td>3</td>\n",
              "      <td>0</td>\n",
              "      <td>6</td>\n",
              "      <td>0</td>\n",
              "      <td>1</td>\n",
              "      <td>0.24</td>\n",
              "      <td>0.2879</td>\n",
              "      <td>0.75</td>\n",
              "      <td>0.0</td>\n",
              "      <td>3</td>\n",
              "      <td>10</td>\n",
              "      <td>13</td>\n",
              "    </tr>\n",
              "    <tr>\n",
              "      <th>4</th>\n",
              "      <td>1</td>\n",
              "      <td>1</td>\n",
              "      <td>4</td>\n",
              "      <td>0</td>\n",
              "      <td>6</td>\n",
              "      <td>0</td>\n",
              "      <td>1</td>\n",
              "      <td>0.24</td>\n",
              "      <td>0.2879</td>\n",
              "      <td>0.75</td>\n",
              "      <td>0.0</td>\n",
              "      <td>0</td>\n",
              "      <td>1</td>\n",
              "      <td>1</td>\n",
              "    </tr>\n",
              "  </tbody>\n",
              "</table>\n",
              "</div>"
            ],
            "text/plain": [
              "   season  mnth  hr  holiday  weekday  ...   hum  windspeed  casual  registered  cnt\n",
              "0       1     1   0        0        6  ...  0.81        0.0       3          13   16\n",
              "1       1     1   1        0        6  ...  0.80        0.0       8          32   40\n",
              "2       1     1   2        0        6  ...  0.80        0.0       5          27   32\n",
              "3       1     1   3        0        6  ...  0.75        0.0       3          10   13\n",
              "4       1     1   4        0        6  ...  0.75        0.0       0           1    1\n",
              "\n",
              "[5 rows x 14 columns]"
            ]
          },
          "metadata": {
            "tags": []
          },
          "execution_count": 18
        }
      ]
    },
    {
      "cell_type": "code",
      "metadata": {
        "id": "Ygp7ojbinlzI"
      },
      "source": [
        "# Change workday to: weekend 0, workday 1, holiday 2\n",
        "df['workingday'] = df['workingday'].where(df['holiday']!=1,2)\n",
        "df['workingday'] = df['workingday'].astype(object)\n",
        "df = df.drop(['holiday','weekday'], axis=1)"
      ],
      "execution_count": null,
      "outputs": []
    },
    {
      "cell_type": "markdown",
      "metadata": {
        "id": "RpDZmJZPGCyO"
      },
      "source": [
        "##### Feature Engineering"
      ]
    },
    {
      "cell_type": "code",
      "metadata": {
        "id": "UyN5mIC-03vb",
        "colab": {
          "base_uri": "https://localhost:8080/"
        },
        "outputId": "bf1714a2-5f4b-48c9-97e0-5016927d3c1c"
      },
      "source": [
        "fig, axes = plt.subplots(nrows=1,ncols=2,figsize=(25,10))\n",
        "\n",
        "# Heat map before drop\n",
        "heat = df.corr()\n",
        "sns.heatmap(heat, linewidth=0.3, ax=axes[0], cmap=\"YlGn\" ,annot=True)\n",
        "\n",
        "# Heat map after drop by hand\n",
        "df = df.drop(['mnth','registered','casual','atemp'],axis=1)\n",
        "heat2 = df.corr()\n",
        "sns.heatmap(heat2, linewidth=0.3, ax=axes[1], cmap=\"YlGn\" ,annot=True)\n",
        "\n",
        "plt.show()"
      ],
      "execution_count": null,
      "outputs": [
        {
          "output_type": "display_data",
          "data": {
            "image/png": "[encoded data removed]",
            "text/plain": [
              "<Figure size 1800x720 with 4 Axes>"
            ]
          },
          "metadata": {
            "tags": [],
            "needs_background": "light"
          }
        }
      ]
    },
    {
      "cell_type": "code",
      "metadata": {
        "id": "RsE93BpcsG0a",
        "colab": {
          "base_uri": "https://localhost:8080/"
        },
        "outputId": "3f19b164-fd95-47a3-b023-6e59a5af6c4e"
      },
      "source": [
        "df = pd.get_dummies(df)\n",
        "\n",
        "cols = df.columns.tolist()\n",
        "cols.append(cols.pop(cols.index('cnt')))\n",
        "df = df.reindex(columns= cols)\n",
        "df"
      ],
      "execution_count": null,
      "outputs": [
        {
          "output_type": "execute_result",
          "data": {
            "text/html": [
              "<div>\n",
              "<style scoped>\n",
              "    .dataframe tbody tr th:only-of-type {\n",
              "        vertical-align: middle;\n",
              "    }\n",
              "\n",
              "    .dataframe tbody tr th {\n",
              "        vertical-align: top;\n",
              "    }\n",
              "\n",
              "    .dataframe thead th {\n",
              "        text-align: right;\n",
              "    }\n",
              "</style>\n",
              "<table border=\"1\" class=\"dataframe\">\n",
              "  <thead>\n",
              "    <tr style=\"text-align: right;\">\n",
              "      <th></th>\n",
              "      <th>season</th>\n",
              "      <th>hr</th>\n",
              "      <th>weathersit</th>\n",
              "      <th>temp</th>\n",
              "      <th>hum</th>\n",
              "      <th>windspeed</th>\n",
              "      <th>workingday_0</th>\n",
              "      <th>workingday_1</th>\n",
              "      <th>workingday_2</th>\n",
              "      <th>cnt</th>\n",
              "    </tr>\n",
              "  </thead>\n",
              "  <tbody>\n",
              "    <tr>\n",
              "      <th>0</th>\n",
              "      <td>1</td>\n",
              "      <td>0</td>\n",
              "      <td>1</td>\n",
              "      <td>0.24</td>\n",
              "      <td>0.81</td>\n",
              "      <td>0.0000</td>\n",
              "      <td>1</td>\n",
              "      <td>0</td>\n",
              "      <td>0</td>\n",
              "      <td>16</td>\n",
              "    </tr>\n",
              "    <tr>\n",
              "      <th>1</th>\n",
              "      <td>1</td>\n",
              "      <td>1</td>\n",
              "      <td>1</td>\n",
              "      <td>0.22</td>\n",
              "      <td>0.80</td>\n",
              "      <td>0.0000</td>\n",
              "      <td>1</td>\n",
              "      <td>0</td>\n",
              "      <td>0</td>\n",
              "      <td>40</td>\n",
              "    </tr>\n",
              "    <tr>\n",
              "      <th>2</th>\n",
              "      <td>1</td>\n",
              "      <td>2</td>\n",
              "      <td>1</td>\n",
              "      <td>0.22</td>\n",
              "      <td>0.80</td>\n",
              "      <td>0.0000</td>\n",
              "      <td>1</td>\n",
              "      <td>0</td>\n",
              "      <td>0</td>\n",
              "      <td>32</td>\n",
              "    </tr>\n",
              "    <tr>\n",
              "      <th>3</th>\n",
              "      <td>1</td>\n",
              "      <td>3</td>\n",
              "      <td>1</td>\n",
              "      <td>0.24</td>\n",
              "      <td>0.75</td>\n",
              "      <td>0.0000</td>\n",
              "      <td>1</td>\n",
              "      <td>0</td>\n",
              "      <td>0</td>\n",
              "      <td>13</td>\n",
              "    </tr>\n",
              "    <tr>\n",
              "      <th>4</th>\n",
              "      <td>1</td>\n",
              "      <td>4</td>\n",
              "      <td>1</td>\n",
              "      <td>0.24</td>\n",
              "      <td>0.75</td>\n",
              "      <td>0.0000</td>\n",
              "      <td>1</td>\n",
              "      <td>0</td>\n",
              "      <td>0</td>\n",
              "      <td>1</td>\n",
              "    </tr>\n",
              "    <tr>\n",
              "      <th>...</th>\n",
              "      <td>...</td>\n",
              "      <td>...</td>\n",
              "      <td>...</td>\n",
              "      <td>...</td>\n",
              "      <td>...</td>\n",
              "      <td>...</td>\n",
              "      <td>...</td>\n",
              "      <td>...</td>\n",
              "      <td>...</td>\n",
              "      <td>...</td>\n",
              "    </tr>\n",
              "    <tr>\n",
              "      <th>17374</th>\n",
              "      <td>1</td>\n",
              "      <td>19</td>\n",
              "      <td>2</td>\n",
              "      <td>0.26</td>\n",
              "      <td>0.60</td>\n",
              "      <td>0.1642</td>\n",
              "      <td>0</td>\n",
              "      <td>1</td>\n",
              "      <td>0</td>\n",
              "      <td>119</td>\n",
              "    </tr>\n",
              "    <tr>\n",
              "      <th>17375</th>\n",
              "      <td>1</td>\n",
              "      <td>20</td>\n",
              "      <td>2</td>\n",
              "      <td>0.26</td>\n",
              "      <td>0.60</td>\n",
              "      <td>0.1642</td>\n",
              "      <td>0</td>\n",
              "      <td>1</td>\n",
              "      <td>0</td>\n",
              "      <td>89</td>\n",
              "    </tr>\n",
              "    <tr>\n",
              "      <th>17376</th>\n",
              "      <td>1</td>\n",
              "      <td>21</td>\n",
              "      <td>1</td>\n",
              "      <td>0.26</td>\n",
              "      <td>0.60</td>\n",
              "      <td>0.1642</td>\n",
              "      <td>0</td>\n",
              "      <td>1</td>\n",
              "      <td>0</td>\n",
              "      <td>90</td>\n",
              "    </tr>\n",
              "    <tr>\n",
              "      <th>17377</th>\n",
              "      <td>1</td>\n",
              "      <td>22</td>\n",
              "      <td>1</td>\n",
              "      <td>0.26</td>\n",
              "      <td>0.56</td>\n",
              "      <td>0.1343</td>\n",
              "      <td>0</td>\n",
              "      <td>1</td>\n",
              "      <td>0</td>\n",
              "      <td>61</td>\n",
              "    </tr>\n",
              "    <tr>\n",
              "      <th>17378</th>\n",
              "      <td>1</td>\n",
              "      <td>23</td>\n",
              "      <td>1</td>\n",
              "      <td>0.26</td>\n",
              "      <td>0.65</td>\n",
              "      <td>0.1343</td>\n",
              "      <td>0</td>\n",
              "      <td>1</td>\n",
              "      <td>0</td>\n",
              "      <td>49</td>\n",
              "    </tr>\n",
              "  </tbody>\n",
              "</table>\n",
              "<p>17379 rows × 10 columns</p>\n",
              "</div>"
            ],
            "text/plain": [
              "       season  hr  weathersit  ...  workingday_1  workingday_2  cnt\n",
              "0           1   0           1  ...             0             0   16\n",
              "1           1   1           1  ...             0             0   40\n",
              "2           1   2           1  ...             0             0   32\n",
              "3           1   3           1  ...             0             0   13\n",
              "4           1   4           1  ...             0             0    1\n",
              "...       ...  ..         ...  ...           ...           ...  ...\n",
              "17374       1  19           2  ...             1             0  119\n",
              "17375       1  20           2  ...             1             0   89\n",
              "17376       1  21           1  ...             1             0   90\n",
              "17377       1  22           1  ...             1             0   61\n",
              "17378       1  23           1  ...             1             0   49\n",
              "\n",
              "[17379 rows x 10 columns]"
            ]
          },
          "metadata": {
            "tags": []
          },
          "execution_count": 21
        }
      ]
    },
    {
      "cell_type": "markdown",
      "metadata": {
        "id": "9hN6jv0YGL4M"
      },
      "source": [
        "##### Format"
      ]
    },
    {
      "cell_type": "code",
      "metadata": {
        "id": "uG44G-dP6tXD"
      },
      "source": [
        "whole_data = np.array(df)\n",
        "np.random.shuffle(whole_data)\n",
        "\n",
        "# Train-test split\n",
        "train_test_split = int(whole_data.shape[0]*0.8)\n",
        "bike_train = whole_data[0:train_test_split,:]\n",
        "bike_test = whole_data[train_test_split:-1]\n",
        "\n",
        "# Normalization, in this case, output value is also normalized\n",
        "bike_mean = np.mean(bike_train,axis=0)\n",
        "bike_standard = np.std(bike_train, axis=0)\n",
        "\n",
        "# Both data and label of training set are normalized\n",
        "bike_train = (bike_train - bike_mean)/bike_standard\n",
        "bike_train_data = bike_train[:,0:-1]\n",
        "bike_train_label = bike_train[:,-1]\n",
        "bike_test_data = bike_test[:,0:-1]\n",
        "\n",
        "# Only the data of testing set is normalized\n",
        "bike_test_data = bike_test[:,0:-1]\n",
        "bike_test_label = bike_test[:,-1]\n",
        "bike_test_data = (bike_test_data - bike_mean[0:-1])/bike_standard[0:-1]"
      ],
      "execution_count": null,
      "outputs": []
    },
    {
      "cell_type": "markdown",
      "metadata": {
        "id": "W35byTAi2yCw"
      },
      "source": [
        "# NN,RBF v2\n"
      ]
    },
    {
      "cell_type": "markdown",
      "metadata": {
        "id": "JOvCfbcU74tu"
      },
      "source": [
        "## Function class"
      ]
    },
    {
      "cell_type": "code",
      "metadata": {
        "id": "XGTuTF9p74Yk"
      },
      "source": [
        "class model_func():\n",
        "  epsilon = 1e-9  # Deal with unstable value\n",
        "  clip_exp = 700\n",
        "  \"\"\" Activation function \"\"\"\n",
        "  @classmethod\n",
        "  def relu(cls, z):\n",
        "    return np.maximum(0,z)\n",
        "\n",
        "  @classmethod\n",
        "  def d_relu(cls, z):\n",
        "    return np.where(z<=0, 0, 1)\n",
        "\n",
        "  @classmethod\n",
        "  def sigmoid(cls, z):\n",
        "    z = np.clip(z, -cls.clip_exp, cls.clip_exp)\n",
        "    return 1/(1+np.exp(-z))\n",
        "\n",
        "  @classmethod\n",
        "  def d_sigmoid(cls, z):\n",
        "    z = np.clip(z, -cls.clip_exp, cls.clip_exp)\n",
        "    s = 1/(1+np.exp(-z))\n",
        "    return s*(1-s)\n",
        "\n",
        "  @classmethod\n",
        "  def softmax(cls, z):\n",
        "    tmp_z = z - max(z)\n",
        "    numerator = np.exp(tmp_z)\n",
        "    return numerator/np.sum(numerator)\n",
        "\n",
        "  @classmethod\n",
        "  def d_softmax(cls, z):\n",
        "    d_z = np.diag(z)\n",
        "    for i in range(len(d_z)):\n",
        "      for j in range(len(d_z)):\n",
        "        if i == j:\n",
        "          d_z[i][j] = z[i] * (1-z[i])\n",
        "        else: \n",
        "          d_z[i][j] = -z[i]*z[j]\n",
        "    return d_z\n",
        "\n",
        "  @classmethod\n",
        "  def linear(cls, z):\n",
        "    return z\n",
        "  \n",
        "  @classmethod\n",
        "  def d_linear(cls, z):\n",
        "    return 1\n",
        "\n",
        "  \"\"\" Loss function \"\"\"\n",
        "  @classmethod\n",
        "  def mean_squared_error(cls, z, target):\n",
        "    loss = 0.5*(z - target)**2\n",
        "    d_loss = z - target\n",
        "    return loss, d_loss\n",
        "\n",
        "  @classmethod\n",
        "  def binary_cross_entropy(cls, z, target):\n",
        "    z = np.clip(z, cls.epsilon, 1-cls.epsilon)\n",
        "    if target == 1:\n",
        "      loss = -np.log(z)\n",
        "    else:\n",
        "      loss = -np.log(1-z)\n",
        "    d_loss = (z-target)/(z*(1-z))\n",
        "    return loss, d_loss\n",
        "\n",
        "  @classmethod\n",
        "  def cross_entropy(cls, z, target):\n",
        "    z = np.clip(z, cls.epsilon, 1-cls.epsilon)\n",
        "    loss = -np.sum(target*np.log(z))\n",
        "    d_loss = -target/z\n",
        "    return loss, d_loss\n",
        "\n",
        "  @classmethod\n",
        "  def softmax_cross_entropy_derivative(cls, z, target):\n",
        "    z = np.clip(z, cls.epsilon, 1-cls.epsilon)\n",
        "    loss = -np.sum(target*np.log(z))\n",
        "    d_loss = z - target\n",
        "    return loss, d_loss\n",
        "\n",
        "  \"\"\" Accuracy calculation \"\"\"\n",
        "  @classmethod\n",
        "  def binary_accuracy(cls, z, target):\n",
        "    predict = np.where(z >= 0.5, 1, 0)\n",
        "    return np.mean(predict==target)\n",
        "\n",
        "  @classmethod\n",
        "  def categorical_accuracy(cls, z, target):\n",
        "    predict = (z == z.max(axis=1)[:,None]).astype(int)\n",
        "    return np.mean(np.all(predict == target, axis=1)) "
      ],
      "execution_count": null,
      "outputs": []
    },
    {
      "cell_type": "markdown",
      "metadata": {
        "id": "gZHs1R3u2_4J"
      },
      "source": [
        "## Full connected layer"
      ]
    },
    {
      "cell_type": "code",
      "metadata": {
        "id": "nXNhoxEa26Ha"
      },
      "source": [
        "class fc_layer():\n",
        "  def __init__(self, n_neuron, n_input, activation=\"relu\"):\n",
        "    self.n_neuron = n_neuron                    # Number of neuron in this FC layer\n",
        "    self.n_input = n_input+1                    # Number of previous layer neuron, plus 1 bias\n",
        "    self.z = np.zeros(self.n_neuron)            # Output of each neuron before activation\n",
        "    self.out = np.zeros(self.n_neuron)           #　Output of each neuron after activation\n",
        "    self.d_out = np.zeros(self.n_neuron)         #　Derivative of activation\n",
        "    self.weight = (np.random.randn(self.n_input, self.n_neuron) / np.sqrt(self.n_input)).T # Xavier weight initialization\n",
        "    self.d_weight = np.zeros((self.n_neuron, self.n_input)) # Delta of weights\n",
        "    self.bp_z = np.zeros(n_input)               # The output value to next layer during backward path\n",
        "    self.fp_input = np.zeros(self.n_input)      # The input of layer during fordward path\n",
        "    self.fp_input[-1] = 1                       # Set bias to constant 1\n",
        "    self.bp_precal = False\n",
        "\n",
        "    # Set up activation function\n",
        "    if activation == \"relu\":\n",
        "      self.activation = model_func.relu\n",
        "      self.d_activation = model_func.d_relu\n",
        "    elif activation == \"sigmoid\":\n",
        "      self.activation = model_func.sigmoid\n",
        "      self.d_activation = model_func.d_sigmoid\n",
        "    elif activation == \"softmax\":\n",
        "      self.activation = model_func.softmax\n",
        "      self.d_activation = model_func.d_softmax\n",
        "    elif activation == \"linear\":\n",
        "      self.activation = model_func.linear\n",
        "      self.d_activation = model_func.d_linear\n",
        "    else:\n",
        "      raise RuntimeError(\"Unknown Activation function {}\".format(activation))\n",
        "\n",
        "  def update_weight(self):\n",
        "    \"\"\" Update weight \"\"\"\n",
        "    self.weight = self.weight + self.d_weight\n",
        "    self.d_weight = np.zeros((self.n_neuron, self.n_input))\n",
        "\n",
        "  def forward(self, fp_input):\n",
        "    \"\"\" Calculate weight*input value, namely z \"\"\"\n",
        "    self.fp_input[0:-1] = fp_input\n",
        "    self.z = np.dot(self.weight, self.fp_input)\n",
        "    self.out = self.activation(self.z)\n",
        "    self.d_out = self.d_activation(self.z)\n",
        "\n",
        "  def backward(self, bp_input, lr):\n",
        "    \"\"\" Calculate the increment value of weight and the output to next layer during bp \"\"\"\n",
        "    if self.bp_precal == False:\n",
        "      de_dz = bp_input * self.d_out\n",
        "    else:\n",
        "      de_dz = bp_input\n",
        "    self.bp_z = np.dot(self.weight[:,0:-1].T, de_dz)\n",
        "    d_weight = np.outer(de_dz, self.fp_input)\n",
        "    self.d_weight = self.d_weight - lr * d_weight"
      ],
      "execution_count": null,
      "outputs": []
    },
    {
      "cell_type": "markdown",
      "metadata": {
        "id": "0sWn5MUC3DL3"
      },
      "source": [
        "## RBF Layer"
      ]
    },
    {
      "cell_type": "code",
      "metadata": {
        "id": "93imh4u1Gl7l"
      },
      "source": [
        "class rbf_Layer():\n",
        "  def __init__(self, RBF=\"gaussian\", center=None, sigma=None, c_lr=0.001, s_lr=0.001):\n",
        "    # Parameter attribute\n",
        "    if RBF == \"gaussian\":\n",
        "      self.RBF = self.forward_Gaussian;\n",
        "      self.backward = self.backward_Gaussian\n",
        "    elif RBF == \"multiquadratic\":\n",
        "      self.RBF = self.forward_Multiquadratic\n",
        "      self.backward = self.backward_Multiquadratic\n",
        "    elif RBF == \"inverse_multiquadric\":\n",
        "      self.RBF = self.forward_Inverse_Multiquadric\n",
        "      self.backward = self.backward_Inverse_Multiquadric\n",
        "    elif RBF == \"inverse_quadratic\":\n",
        "      self.RBF = self.forward_Inverse_Quadratic\n",
        "      self.backward = self.backward_Inverse_Quadratic\n",
        "    else:\n",
        "      raise RuntimeError(\"Unknown RBF kernel {}\".format(RBF))\n",
        "    \n",
        "    self.c_lr = c_lr\n",
        "    self.s_lr = s_lr\n",
        "\n",
        "    if center is not None:\n",
        "      self.center = center\n",
        "      self.sigma = sigma\n",
        "      self.n_neuron = center.shape[0]   # Output shape, prepared for next layer\n",
        "    \n",
        "    self.d_center = np.zeros(center.shape) # Accumulated Center change\n",
        "    self.d_sigma = np.zeros(sigma.shape)  # Accumulated Sigma change\n",
        "    self.min_data = 1e-9           # Minimum accepted value of RBF\n",
        "    self.first_input = None         # The previous input\n",
        "    self.out = np.zeros(center.shape[0])  # Output of the RBF kernel        \n",
        "\n",
        "  # Update the weight with accumulated value\n",
        "  def update_weight(self):\n",
        "    self.center = self.center + self.d_center\n",
        "    self.d_center = np.zeros(self.center.shape)\n",
        "\n",
        "    self.sigma = self.sigma + self.d_sigma\n",
        "    self.d_sigma = np.zeros(self.sigma.shape)\n",
        "\n",
        "  def forward(self, input):\n",
        "    self.first_input = input\n",
        "    self.RBF(input)\n",
        "\n",
        "  # Different forward RBF kernel\n",
        "  def forward_Gaussian(self, fp_input):\n",
        "    var1 = -np.sum((fp_input-self.center)**2, axis=1)/(2*self.sigma**2)\n",
        "    var2 = np.exp(var1)\n",
        "    var3 = np.where(var2<=self.min_data, self.min_data, var2)\n",
        "    self.out = var3\n",
        "\n",
        "  def forward_Multiquadratic(self, fp_input):\n",
        "    var1 = np.sqrt(np.sum((fp_input-self.center)**2, axis=1)+self.sigma**2)\n",
        "    self.out = var1\n",
        "\n",
        "  def forward_Inverse_Multiquadric(self, fp_input):\n",
        "    var1 = np.sqrt(np.sum((fp_input-self.center)**2, axis=1)+self.sigma**2)\n",
        "    self.out = 1/var1\n",
        "\n",
        "  def forward_Inverse_Quadratic(self, fp_input):\n",
        "    var1 = np.sum((fp_input-self.center)**2, axis=1)+self.sigma**2\n",
        "    self.out = 1/var1\n",
        "\n",
        "  # Different derivative of RBF kernel\n",
        "  def backward_Gaussian(self, bp_input, lr):\n",
        "    de_dz = bp_input\n",
        "\n",
        "    # Calculate center position change\n",
        "    d_center_var1 = de_dz * self.out\n",
        "    d_center_var2 = self.center - self.first_input\n",
        "    d_center = -1 * (d_center_var2.T * (d_center_var1 / self.sigma**2)).T\n",
        "    self.d_center = self.d_center - lr*self.c_lr*d_center\n",
        "\n",
        "    # Calculate sigma value change\n",
        "    d_sigma = d_center_var1 * np.sum((d_center_var2**2),axis=1) / (self.sigma**3)\n",
        "    self.d_sigma = self.d_sigma - lr*self.s_lr*d_sigma\n",
        "\n",
        "  def backward_Multiquadratic(self, bp_input, lr):\n",
        "    de_dz = bp_input\n",
        "\n",
        "    # Calculate center position change\n",
        "    d_center = ((self.center - self.first_input).T * (de_dz / self.out)).T\n",
        "    self.d_center = self.d_center - lr*self.c_lr*d_center\n",
        "\n",
        "    # Calculate sigma value change\n",
        "    d_sigma = de_dz * self.sigma / self.out\n",
        "    self.d_sigma = self.d_sigma - lr*self.s_lr*d_sigma\n",
        "\n",
        "  def backward_Inverse_Multiquadric(self, bp_input, lr):\n",
        "    de_dz = bp_input\n",
        "\n",
        "    # Calculate center position change\n",
        "    d_center = (-(self.center - self.first_input).T * (de_dz * self.out**3)).T\n",
        "    self.d_center = self.d_center - lr*self.c_lr*d_center\n",
        "\n",
        "    # Calculate sigma value change\n",
        "    d_sigma = de_dz * -self.sigma * self.out**3\n",
        "    self.d_sigma = self.d_sigma - lr*self.s_lr*d_sigma\n",
        "\n",
        "  def backward_Inverse_Quadratic(self, bp_input, lr):\n",
        "    de_dz = bp_input\n",
        "\n",
        "    # Calculate center position change\n",
        "    d_center = (-2 * (self.center - self.first_input).T * (de_dz * self.out**2)).T\n",
        "    self.d_center = self.d_center - lr*self.c_lr*d_center\n",
        "\n",
        "    # Calculate sigma value change\n",
        "    d_sigma = -2 * de_dz * self.sigma * self.out**2\n",
        "    self.d_sigma = self.d_sigma - lr*self.s_lr*d_sigma"
      ],
      "execution_count": null,
      "outputs": []
    },
    {
      "cell_type": "markdown",
      "metadata": {
        "id": "EeeHE_BD3gcs"
      },
      "source": [
        "## Model class"
      ]
    },
    {
      "cell_type": "code",
      "metadata": {
        "id": "qK50JD-W3k6g"
      },
      "source": [
        "class sequential():\n",
        "  def __init__(self):\n",
        "    self.n_layer = []\n",
        "\n",
        "  def add_fc(self, n_neuron, input_width=None, activation=\"relu\"):\n",
        "    \"\"\" Add fully connected layer into model \"\"\"\n",
        "    if len(self.n_layer) == 0:\n",
        "      if input_width is None:\n",
        "        raise RuntimeError(\"The input width of input layer must be provided\")\n",
        "      else:\n",
        "        tmp_layer = fc_layer(n_neuron, input_width, activation)\n",
        "    else:\n",
        "      if input_width is not None:\n",
        "        print(\"Warning, The input width of hidden layer will not be used.\")\n",
        "      else:\n",
        "        tmp_layer = fc_layer(n_neuron, self.n_layer[-1].n_neuron, activation)\n",
        "    self.n_layer.append(tmp_layer)\n",
        "  \n",
        "  def add_rbf(self, RBF=\"gaussian\", center=None, sigma=None, c_lr=0.01, s_lr=0.01):\n",
        "    \"\"\" Add a RBF layer into model \"\"\"\n",
        "    if len(self.n_layer) != 0:\n",
        "      raise RuntimeError(\"The RBF layer must be the first layer.\")\n",
        "    else:\n",
        "      tmp_layer = rbf_Layer(RBF=RBF, center=center, sigma=sigma, c_lr=c_lr, s_lr=s_lr)\n",
        "      self.n_layer.append(tmp_layer)\n",
        "\n",
        "  def forward_path(self, input):\n",
        "    \"\"\" Calculate forward path value \"\"\"\n",
        "    for i in range(len(self.n_layer)):\n",
        "      if i == 0:\n",
        "        self.n_layer[i].forward(input)\n",
        "      else:\n",
        "        self.n_layer[i].forward(self.n_layer[i-1].out)\n",
        "  \n",
        "  def backword_path(self, d_loss, learning_rate):\n",
        "    \"\"\" Back propagation path \"\"\"\n",
        "    for i in range(len(self.n_layer)-1, -1, -1):\n",
        "      if i != len(self.n_layer)-1:\n",
        "        self.n_layer[i].backward(self.n_layer[i+1].bp_z, lr=learning_rate)\n",
        "      else:\n",
        "        self.n_layer[i].backward(d_loss, lr=learning_rate)\n",
        "\n",
        "  def predict(self, input):\n",
        "    \"\"\" Predict output \"\"\"\n",
        "    predict = np.zeros((input.shape[0], self.n_layer[-1].n_neuron))\n",
        "    for idx,data in enumerate(input):\n",
        "      self.forward_path(data)\n",
        "      predict[idx] = self.n_layer[-1].out\n",
        "    return predict\n",
        "\n",
        "  def score(self, predict, target):\n",
        "    \"\"\" Scoring function \"\"\"\n",
        "    if predict.shape != target.shape:\n",
        "      raise RuntimeError(\"Predict shape and expected shape not match. {} v.s. {}\".format(predict.shape, target.shape))\n",
        "    else:\n",
        "      return np.mean(np.all(predict == target, axis=1))\n",
        "\n",
        "  def fit(self, input, target, max_iter=1000, learning_rate=0.01, batch_size=1, optimizer=None, loss=\"mean_squared_error\", accuracy=\"skip\"):\n",
        "\n",
        "    \"\"\" Decide loss function \"\"\"\n",
        "    if loss == \"mean_squared_error\":\n",
        "      self.loss_function = model_func.mean_squared_error\n",
        "    elif loss == \"cross_entropy\":\n",
        "      if self.n_layer[-1].n_neuron != target.shape[-1]:\n",
        "        raise RuntimeError(\"Target dimension doesn't match. Target:{} and Output layer neuron:{}\".format(target.shape[-1], self.n_layer[-1].n_neuron))\n",
        "      if self.n_layer[-1].activation == model_func.softmax:\n",
        "        self.n_layer[-1].bp_precal = True\n",
        "        self.loss_function = model_func.softmax_cross_entropy_derivative\n",
        "      else:\n",
        "        self.loss_function = model_func.cross_entropy\n",
        "    elif loss == \"binary_cross_entropy\":\n",
        "      if self.n_layer[-1].n_neuron != 1:\n",
        "        raise RuntimeError(\"Output dimension is not equal to 1. Output layer neuron:{}\".format(self.n_layer[-1].n_neuron))\n",
        "      self.loss_function = model_func.binary_cross_entropy\n",
        "    else:\n",
        "      raise RuntimeError(\"Specific loss function not exist\")\n",
        "\n",
        "    \"\"\" Decide accuracy function \"\"\"\n",
        "    output_dimension = self.n_layer[-1].n_neuron\n",
        "    if accuracy == \"category\":\n",
        "      if output_dimension == 1:\n",
        "        self.accuracy_function = model_func.binary_accuracy\n",
        "      else:\n",
        "        self.accuracy_function = model_func.categorical_accuracy\n",
        "    elif accuracy == \"skip\":\n",
        "      self.accuracy_function = None\n",
        "    else:\n",
        "      raise RuntimeError(\"Unknown accuracy!\")\n",
        "\n",
        "    self.history = np.zeros((max_iter,2))\n",
        "\n",
        "    for i in range(max_iter):\n",
        "      cnt = 0\n",
        "      epoch_accuracy = np.zeros(((input.shape[0]-1)//batch_size+1, 2))\n",
        "      batch_record_output = np.zeros((2,batch_size,output_dimension))\n",
        "      batch_record_loss = np.zeros((batch_size))\n",
        "      for idx,data in enumerate(input):\n",
        "        # Forward path\n",
        "        self.forward_path(data)\n",
        "        # Calculate loss\n",
        "        loss, d_loss = self.loss_function(self.n_layer[-1].out, target[idx])\n",
        "        # Backward path\n",
        "        self.backword_path(d_loss=d_loss, learning_rate=learning_rate)\n",
        "\n",
        "        # Append predict and expected value\n",
        "        batch_record_output[0,cnt] = self.n_layer[-1].out\n",
        "        batch_record_output[1,cnt] = target[idx]\n",
        "        batch_record_loss[cnt] = loss\n",
        "        cnt += 1 # Increment batch counter\n",
        "\n",
        "        # End of batch\n",
        "        if cnt == batch_size or idx == len(input)-1:\n",
        "          for layer in self.n_layer: layer.update_weight()  # Update all weight\n",
        "          if self.accuracy_function is not None:\n",
        "            epoch_accuracy[idx//batch_size, 0] = self.accuracy_function(batch_record_output[0,0:cnt], batch_record_output[1,0:cnt]) # Calculate precision\n",
        "          epoch_accuracy[idx//batch_size, 1] = np.mean(batch_record_loss[0:cnt]) # Calculate average loss over a batch\n",
        "          cnt = 0 # Reset counter\n",
        "      # End of epoch\n",
        "      self.history[i,0] = np.mean(epoch_accuracy[:,0])\n",
        "      self.history[i,1] = np.mean(epoch_accuracy[:,1])\n",
        "      print(\"Iteration:{}, Precision:{}, Loss:{}\".format(i,self.history[i,0],self.history[i,1]))"
      ],
      "execution_count": null,
      "outputs": []
    },
    {
      "cell_type": "markdown",
      "metadata": {
        "id": "PmxjV7i19osI"
      },
      "source": [
        "## RMSLE"
      ]
    },
    {
      "cell_type": "code",
      "metadata": {
        "id": "KJmno4J89mRk"
      },
      "source": [
        "def rmsle(predict, target):\n",
        "  log_pre = np.nan_to_num(np.log1p(predict))\n",
        "  log_tar = np.nan_to_num(np.log1p(target))\n",
        "  e = (log_pre - log_tar) ** 2\n",
        "  return np.sqrt(np.mean(e))"
      ],
      "execution_count": null,
      "outputs": []
    },
    {
      "cell_type": "markdown",
      "metadata": {
        "id": "j1LENJ2zqRXf"
      },
      "source": [
        "## K-means"
      ]
    },
    {
      "cell_type": "code",
      "metadata": {
        "id": "CaM4lIzWqS1C"
      },
      "source": [
        "def k_means(input, max_k=None, max_iter=10, threshold=0.1, min_size=2):\n",
        "  if max_k is not None:\n",
        "    desired_k = max_k\n",
        "  else:\n",
        "    desired_k = int(input.shape[0]/10)+1\n",
        "  indices = np.random.choice(input.shape[0], desired_k) # Random sampling\n",
        "  kmeans_input = input.copy()\n",
        "  center = kmeans_input[indices]\n",
        "\n",
        "  belonging = np.zeros((input.shape[0]))\n",
        "  # K-means iteration\n",
        "  print(\"Start K-means, initial center: {}\".format(desired_k))\n",
        "  for i in range(max_iter):\n",
        "    agg_center_idx = np.zeros((center.shape[0]))\n",
        "    agg_d_center = np.zeros((center.shape))\n",
        "    for idx,d in enumerate(kmeans_input):\n",
        "      dist = np.linalg.norm(d-center,axis=1)\n",
        "      nearest_idx = np.argmin(dist)\n",
        "      agg_d_center[nearest_idx] += d\n",
        "      agg_center_idx[nearest_idx] += 1\n",
        "      belonging[idx] = nearest_idx\n",
        "\n",
        "    # Calculate update\n",
        "    n_center = np.zeros(center.shape)\n",
        "    for c in range(center.shape[0]):\n",
        "      if agg_center_idx[c] == 0:\n",
        "        n_center[c] = center[c]\n",
        "      else:\n",
        "        n_center[c] = agg_d_center[c]/agg_center_idx[c]\n",
        "\n",
        "    # Calculate difference\n",
        "    delta_dist = np.linalg.norm(n_center-center, axis=1)\n",
        "    print(\"Performing K-means Iteration {}\".format(i+1))\n",
        "    if (delta_dist <= threshold).all():\n",
        "      small_cluster_idx = np.where(agg_center_idx<min_size)\n",
        "      if agg_center_idx[small_cluster_idx].any():\n",
        "        n_tiny_cluster = np.count_nonzero(small_cluster_idx)\n",
        "        center = np.delete(center, small_cluster_idx, axis=0)\n",
        "        print(\"K-means converges at iter{}, tiny cluster detected, remain class:{}\".format(i+1, center.shape[0]))\n",
        "      else:\n",
        "        print(\"K-means converges at iter{}\".format(i+1))\n",
        "        break\n",
        "    else:\n",
        "      center = n_center\n",
        "\n",
        "  # Set new center and calculate standard deviation\n",
        "  sigma = np.zeros((center.shape[0]))\n",
        "  for idx,c in enumerate(center):\n",
        "    cluster_data = kmeans_input[np.where(belonging==idx)]\n",
        "    sigma[idx] = np.sqrt(np.sum((cluster_data - c)**2))\n",
        "  \n",
        "  # Remove zero sigma center\n",
        "  zero_sigma_cluster = np.where(sigma==0)\n",
        "  center = np.delete(center, zero_sigma_cluster,axis=0)\n",
        "  sigma = np.delete(sigma, zero_sigma_cluster,axis=0)\n",
        "  print(\"Remove zero sigma cluster, remaining cluster: {}\".format(center.shape[0]))\n",
        "\n",
        "  return center, sigma"
      ],
      "execution_count": null,
      "outputs": []
    },
    {
      "cell_type": "markdown",
      "metadata": {
        "id": "d-rxCTMgRBFq"
      },
      "source": [
        "# Create model"
      ]
    },
    {
      "cell_type": "markdown",
      "metadata": {
        "id": "XCQsp3pZ9smd"
      },
      "source": [
        "### Adult"
      ]
    },
    {
      "cell_type": "code",
      "metadata": {
        "id": "hmXW8DEUGwO6"
      },
      "source": [
        "!mkdir ./adult_result"
      ],
      "execution_count": null,
      "outputs": []
    },
    {
      "cell_type": "markdown",
      "metadata": {
        "id": "MCfCX1ZUGjCD"
      },
      "source": [
        "###### CY NN model"
      ]
    },
    {
      "cell_type": "code",
      "metadata": {
        "id": "9OSvQJZ4Gq-C",
        "colab": {
          "base_uri": "https://localhost:8080/"
        },
        "outputId": "e18d8e33-4e3b-42f1-af6e-3fc04cd55be2"
      },
      "source": [
        "input_data = adult_train_data\n",
        "target = adult_train_label\n",
        "\n",
        "input_width = input_data.shape[1]\n",
        "\n",
        "cy_adult_nn_model = sequential()\n",
        "lr = 0.004\n",
        "cy_adult_nn_model.add_fc(n_neuron=20, input_width=input_width, activation=\"relu\")\n",
        "cy_adult_nn_model.add_fc(n_neuron=10, activation=\"relu\")\n",
        "cy_adult_nn_model.add_fc(n_neuron=10, activation=\"relu\")\n",
        "cy_adult_nn_model.add_fc(n_neuron=1, activation=\"sigmoid\")\n",
        "\n",
        "cy_adult_nn_model.fit(input_data, target, max_iter=50, learning_rate=lr, batch_size=128, loss=\"binary_cross_entropy\",accuracy=\"category\")\n",
        "\n",
        "np.save('./adult_result/lr-'+str(lr),cy_adult_nn_model.history)"
      ],
      "execution_count": null,
      "outputs": [
        {
          "output_type": "stream",
          "text": [
            "Iteration:0, Precision:0.8354435524209683, Loss:0.3463713621880094\n",
            "Iteration:1, Precision:0.8497323929571828, Loss:0.3208593284119388\n",
            "Iteration:2, Precision:0.8517919667867146, Loss:0.3155748047822514\n",
            "Iteration:3, Precision:0.8540897609043617, Loss:0.3127198498314071\n",
            "Iteration:4, Precision:0.8552846138455381, Loss:0.3109308382507903\n",
            "Iteration:5, Precision:0.855407162865146, Loss:0.30946536326681123\n",
            "Iteration:6, Precision:0.8566939275710284, Loss:0.30831557184273856\n",
            "Iteration:7, Precision:0.8570428171268507, Loss:0.30737982856786633\n",
            "Iteration:8, Precision:0.8575330132052821, Loss:0.30655838231563504\n",
            "Iteration:9, Precision:0.8580232092837135, Loss:0.30591207294443823\n",
            "Iteration:10, Precision:0.858360219087635, Loss:0.30533292824632935\n",
            "Iteration:11, Precision:0.8585628001200479, Loss:0.3048219305885202\n",
            "Iteration:12, Precision:0.8590223589435774, Loss:0.3042434978101436\n",
            "Iteration:13, Precision:0.859267456982793, Loss:0.3037329127926169\n",
            "Iteration:14, Precision:0.8595125550220087, Loss:0.3031118597980769\n",
            "Iteration:15, Precision:0.8599414765906362, Loss:0.3026335450085634\n",
            "Iteration:16, Precision:0.8601559373749499, Loss:0.3022670431400945\n",
            "Iteration:17, Precision:0.8596044667867146, Loss:0.3017429903484823\n",
            "Iteration:18, Precision:0.8600027511004401, Loss:0.30112132102032924\n",
            "Iteration:19, Precision:0.8599295968387355, Loss:0.30057944079031756\n",
            "Iteration:20, Precision:0.8607074079631852, Loss:0.3001229509197943\n",
            "Iteration:21, Precision:0.8609525060024009, Loss:0.2997420388206926\n",
            "Iteration:22, Precision:0.861185724289716, Loss:0.2999992077971866\n",
            "Iteration:23, Precision:0.8613201530612244, Loss:0.299197933330304\n",
            "Iteration:24, Precision:0.8609525060024009, Loss:0.2989278293382883\n",
            "Iteration:25, Precision:0.8609406262505003, Loss:0.2986855304160165\n",
            "Iteration:26, Precision:0.860921868747499, Loss:0.2986588253224571\n",
            "Iteration:27, Precision:0.8614001850740296, Loss:0.2982758916501299\n",
            "Iteration:28, Precision:0.861951655662265, Loss:0.29845287253807934\n",
            "Iteration:29, Precision:0.8615652511004401, Loss:0.29777627784948096\n",
            "Iteration:30, Precision:0.8612588785514205, Loss:0.2980972251123181\n",
            "Iteration:31, Precision:0.8612588785514205, Loss:0.2973425707208162\n",
            "Iteration:32, Precision:0.8613389105642257, Loss:0.29767194542757874\n",
            "Iteration:33, Precision:0.8620554471788715, Loss:0.29702209843461336\n",
            "Iteration:34, Precision:0.862281787715086, Loss:0.297350985122523\n",
            "Iteration:35, Precision:0.8620248099239696, Loss:0.29679784193535846\n",
            "Iteration:36, Precision:0.8613814275710283, Loss:0.2966553870225602\n",
            "Iteration:37, Precision:0.8624843687474989, Loss:0.296373423694614\n",
            "Iteration:38, Precision:0.8628213785514205, Loss:0.2961386891067068\n",
            "Iteration:39, Precision:0.8626375550220088, Loss:0.29612716023080016\n",
            "Iteration:40, Precision:0.8626988295318126, Loss:0.2960044320271689\n",
            "Iteration:41, Precision:0.8625762805122048, Loss:0.2954851770935992\n",
            "Iteration:42, Precision:0.8625762805122048, Loss:0.2950858831541076\n",
            "Iteration:43, Precision:0.8625762805122048, Loss:0.2954522347207007\n",
            "Iteration:44, Precision:0.8625456432573029, Loss:0.2952406380115331\n",
            "Iteration:45, Precision:0.8624843687474989, Loss:0.2961617290631764\n",
            "Iteration:46, Precision:0.8624843687474989, Loss:0.2948345858319925\n",
            "Iteration:47, Precision:0.8630052020808323, Loss:0.2948528276165739\n",
            "Iteration:48, Precision:0.8628213785514205, Loss:0.294961177538893\n",
            "Iteration:49, Precision:0.8630052020808323, Loss:0.2945356496106494\n"
          ],
          "name": "stdout"
        }
      ]
    },
    {
      "cell_type": "code",
      "metadata": {
        "id": "81_xGa31olgF"
      },
      "source": [
        "input_data = adult_test_data\n",
        "target = adult_test_label\n",
        "\n",
        "predict = cy_adult_nn_model.predict(input_data)\n",
        "\n",
        "predict = np.where(predict>=0.5,1,0)\n",
        "target = target.reshape(predict.shape)\n",
        "cy_adult_nn_model.score(predict, target)"
      ],
      "execution_count": null,
      "outputs": []
    },
    {
      "cell_type": "markdown",
      "metadata": {
        "id": "3P6TXGD6GoqV"
      },
      "source": [
        "###### CY RBFN model"
      ]
    },
    {
      "cell_type": "code",
      "metadata": {
        "id": "e5GUGB6gpDqm"
      },
      "source": [
        "input_data = adult_train_data\n",
        "target = adult_train_label"
      ],
      "execution_count": null,
      "outputs": []
    },
    {
      "cell_type": "code",
      "metadata": {
        "id": "Qr8GKxtGpBLp",
        "colab": {
          "base_uri": "https://localhost:8080/"
        },
        "outputId": "c260a3bf-4169-43b4-d2be-56dce8553e88"
      },
      "source": [
        "center, sigma = k_means(input=input_data, max_k=100, max_iter=100, threshold=0.1, min_size=5)"
      ],
      "execution_count": null,
      "outputs": [
        {
          "output_type": "stream",
          "text": [
            "Start K-means, initial center: 100\n",
            "Performing K-means Iteration 1\n",
            "Performing K-means Iteration 2\n",
            "Performing K-means Iteration 3\n",
            "Performing K-means Iteration 4\n",
            "Performing K-means Iteration 5\n",
            "Performing K-means Iteration 6\n",
            "Performing K-means Iteration 7\n",
            "Performing K-means Iteration 8\n",
            "Performing K-means Iteration 9\n",
            "Performing K-means Iteration 10\n",
            "Performing K-means Iteration 11\n",
            "Performing K-means Iteration 12\n",
            "Performing K-means Iteration 13\n",
            "Performing K-means Iteration 14\n",
            "K-means converges at iter14\n",
            "Remove zero sigma cluster, remaining cluster: 100\n"
          ],
          "name": "stdout"
        }
      ]
    },
    {
      "cell_type": "code",
      "metadata": {
        "id": "QXmg7IcHpHN0",
        "colab": {
          "base_uri": "https://localhost:8080/"
        },
        "outputId": "f5a8b971-e149-49e4-805d-497c3f5b4e32"
      },
      "source": [
        "RBF = \"gaussian\"\n",
        "\n",
        "cy_adult_rbfn_model = sequential()\n",
        "cy_adult_rbfn_model.add_rbf(RBF=RBF, center=center, sigma=sigma, c_lr=50, s_lr=50);\n",
        "cy_adult_rbfn_model.add_fc(n_neuron=1, activation=\"sigmoid\")\n",
        "lr = 0.001\n",
        "cy_adult_rbfn_model.fit(input_data, target, max_iter=50, learning_rate=lr, batch_size=128, \n",
        "                        loss=\"binary_cross_entropy\",accuracy=\"category\")\n",
        "\n",
        "np.save('./adult_result/'+RBF,cy_adult_rbfn_model.history)"
      ],
      "execution_count": null,
      "outputs": [
        {
          "output_type": "stream",
          "text": [
            "Iteration:0, Precision:0.7425326380552221, Loss:0.6199262984027034\n",
            "Iteration:1, Precision:0.7430841086434573, Loss:0.6186421104813178\n",
            "Iteration:2, Precision:0.7440951380552221, Loss:0.6163105792351559\n",
            "Iteration:3, Precision:0.7431760204081632, Loss:0.6104974193762757\n",
            "Iteration:4, Precision:0.7455044517807122, Loss:0.5984500788284417\n",
            "Iteration:5, Precision:0.7517544517807122, Loss:0.580617479036465\n",
            "Iteration:6, Precision:0.7575448929571829, Loss:0.5616246415121214\n",
            "Iteration:7, Precision:0.7626613145258103, Loss:0.5457086518877955\n",
            "Iteration:8, Precision:0.7672569027611044, Loss:0.529034353356511\n",
            "Iteration:9, Precision:0.7730167066826731, Loss:0.5090086797425706\n",
            "Iteration:10, Precision:0.7791135204081633, Loss:0.4858085384977745\n",
            "Iteration:11, Precision:0.7862213635454182, Loss:0.4626468394786129\n",
            "Iteration:12, Precision:0.7934823929571828, Loss:0.4430601667163406\n",
            "Iteration:13, Precision:0.7998855792316927, Loss:0.4277918894519151\n",
            "Iteration:14, Precision:0.8054190426170468, Loss:0.4163089183854716\n",
            "Iteration:15, Precision:0.8092486994797918, Loss:0.4078119815029599\n",
            "Iteration:16, Precision:0.8118716236494598, Loss:0.40148896364693165\n",
            "Iteration:17, Precision:0.81421881252501, Loss:0.3966850506059262\n",
            "Iteration:18, Precision:0.8153711484593837, Loss:0.3929240822810299\n",
            "Iteration:19, Precision:0.8161983543417367, Loss:0.3898784723450547\n",
            "Iteration:20, Precision:0.8177608543417367, Loss:0.38733838978957574\n",
            "Iteration:21, Precision:0.8185880602240897, Loss:0.3851756335950635\n",
            "Iteration:22, Precision:0.8196484843937575, Loss:0.3833095463036866\n",
            "Iteration:23, Precision:0.8203343837535014, Loss:0.3816844771009993\n",
            "Iteration:24, Precision:0.8211003151260504, Loss:0.3802582267301004\n",
            "Iteration:25, Precision:0.821437324929972, Loss:0.37899688149357613\n",
            "Iteration:26, Precision:0.8218049719887955, Loss:0.3778725279881874\n",
            "Iteration:27, Precision:0.8219887955182072, Loss:0.376862086939779\n",
            "Iteration:28, Precision:0.8228466386554621, Loss:0.375946547128925\n",
            "Iteration:29, Precision:0.8233368347338935, Loss:0.3751103443582509\n",
            "Iteration:30, Precision:0.8235819327731092, Loss:0.3743408088390209\n",
            "Iteration:31, Precision:0.8239802170868348, Loss:0.3736276660987318\n",
            "Iteration:32, Precision:0.8241027661064426, Loss:0.37296259424099826\n",
            "Iteration:33, Precision:0.8243478641456583, Loss:0.3723388422112213\n",
            "Iteration:34, Precision:0.8248686974789916, Loss:0.3717509103833427\n",
            "Iteration:35, Precision:0.8250831582633054, Loss:0.37119429060057346\n",
            "Iteration:36, Precision:0.8255427170868348, Loss:0.37066525951583285\n",
            "Iteration:37, Precision:0.8259716386554622, Loss:0.3701607172203898\n",
            "Iteration:38, Precision:0.8265231092436975, Loss:0.369678062646442\n",
            "Iteration:39, Precision:0.826749449779912, Loss:0.3692150977318094\n",
            "Iteration:40, Precision:0.8268532412965185, Loss:0.3687699534298215\n",
            "Iteration:41, Precision:0.8270983393357343, Loss:0.36834103197692214\n",
            "Iteration:42, Precision:0.82734343737495, Loss:0.3679269611408267\n",
            "Iteration:43, Precision:0.8275578981592636, Loss:0.36752655731276124\n",
            "Iteration:44, Precision:0.8276191726690676, Loss:0.36713879522081483\n",
            "Iteration:45, Precision:0.8278642707082833, Loss:0.36676278272227625\n",
            "Iteration:46, Precision:0.8282012805122049, Loss:0.3663977396130746\n",
            "Iteration:47, Precision:0.8283544667867146, Loss:0.3660429797137483\n",
            "Iteration:48, Precision:0.8283238295318127, Loss:0.36569789569794925\n",
            "Iteration:49, Precision:0.8284463785514206, Loss:0.36536194625831153\n"
          ],
          "name": "stdout"
        }
      ]
    },
    {
      "cell_type": "code",
      "metadata": {
        "colab": {
          "base_uri": "https://localhost:8080/"
        },
        "id": "wB9Q3BxYZxaG",
        "outputId": "57b48787-81ac-46a8-b6b8-f76e990d8643"
      },
      "source": [
        "input_data = adult_train_data\n",
        "target = adult_train_label\n",
        "\n",
        "predict = cy_adult_rbfn_model.predict(input_data)\n",
        "\n",
        "predict = np.where(predict>=0.5,1,0)\n",
        "target = target.reshape(predict.shape)\n",
        "cy_adult_rbfn_model.score(predict, target)"
      ],
      "execution_count": null,
      "outputs": [
        {
          "output_type": "execute_result",
          "data": {
            "text/plain": [
              "0.84165105494303"
            ]
          },
          "metadata": {
            "tags": []
          },
          "execution_count": 146
        }
      ]
    },
    {
      "cell_type": "code",
      "metadata": {
        "id": "cCo9rfESdWKA",
        "colab": {
          "base_uri": "https://localhost:8080/"
        },
        "outputId": "586aa469-f304-4901-bf90-fd6adf91b34f"
      },
      "source": [
        "input_data = adult_test_data\n",
        "target = adult_test_label\n",
        "\n",
        "predict = cy_adult_rbfn_model.predict(input_data)\n",
        "\n",
        "predict = np.where(predict>=0.5,1,0)\n",
        "target = target.reshape(predict.shape)\n",
        "cy_adult_rbfn_model.score(predict, target)"
      ],
      "execution_count": null,
      "outputs": [
        {
          "output_type": "execute_result",
          "data": {
            "text/plain": [
              "0.8449017199017199"
            ]
          },
          "metadata": {
            "tags": []
          },
          "execution_count": 147
        }
      ]
    },
    {
      "cell_type": "code",
      "metadata": {
        "id": "D01ctsl7xhSG",
        "colab": {
          "base_uri": "https://localhost:8080/",
          "height": 295
        },
        "outputId": "47450768-9e44-4e57-b28d-5625a13c19f6"
      },
      "source": [
        "folder = \"./adult_result/\"\n",
        "fname = [\"gaussian\", \"inverse_multiquadric\",\"inverse_quadratic\"]\n",
        "\n",
        "folder = \"./adult_result/\"\n",
        "lr1 = np.load(folder+'gaussian.npy')\n",
        "lr2 = np.load(folder+'inverse_multiquadric.npy')\n",
        "lr3 = np.load(folder+'inverse_quadratic.npy')\n",
        "lr4 = np.load(folder+'multiquadratic.npy')\n",
        "\n",
        "plt.plot(lr1[1:,1], label=\"Gaussian\")\n",
        "plt.plot(lr2[1:,1], label=\"Inverse Multiquadric\")\n",
        "plt.plot(lr3[1:,1], label=\"Inverse Quadratic\")\n",
        "plt.plot(lr4[1:,1], label=\"Multiquadratic\")\n",
        "\n",
        "plt.title(\"Different RBF over adult dataset\")\n",
        "plt.xlabel(\"Epoch\")\n",
        "plt.ylabel(\"Loss\")\n",
        "plt.legend()\n",
        "plt.show()"
      ],
      "execution_count": null,
      "outputs": [
        {
          "output_type": "display_data",
          "data": {
            "image/png": "[encoded data removed]",
            "text/plain": [
              "<Figure size 432x288 with 1 Axes>"
            ]
          },
          "metadata": {
            "tags": [],
            "needs_background": "light"
          }
        }
      ]
    },
    {
      "cell_type": "code",
      "metadata": {
        "colab": {
          "base_uri": "https://localhost:8080/",
          "height": 295
        },
        "id": "lwGbtCeujKUN",
        "outputId": "42c744b8-f1d3-4484-ec6d-ef796dbd1409"
      },
      "source": [
        "folder = \"./adult_result/\"\n",
        "fname = [\"gaussian\", \"inverse_multiquadric\",\"inverse_quadratic\"]\n",
        "\n",
        "folder = \"./adult_result/\"\n",
        "lr1 = np.load(folder+'gaussian.npy')\n",
        "lr2 = np.load(folder+'inverse_multiquadric.npy')\n",
        "lr3 = np.load(folder+'inverse_quadratic.npy')\n",
        "lr4 = np.load(folder+'multiquadratic.npy')\n",
        "\n",
        "plt.plot(lr1[1:,0], label=\"Gaussian\")\n",
        "plt.plot(lr2[1:,0], label=\"Inverse Multiquadric\")\n",
        "plt.plot(lr3[1:,0], label=\"Inverse Quadratic\")\n",
        "plt.plot(lr4[1:,0], label=\"Multiquadratic\")\n",
        "\n",
        "plt.title(\"Different RBF over adult dataset\")\n",
        "plt.xlabel(\"Epoch\")\n",
        "plt.ylabel(\"Accuracy\")\n",
        "plt.legend()\n",
        "plt.show()"
      ],
      "execution_count": null,
      "outputs": [
        {
          "output_type": "display_data",
          "data": {
            "image/png": "[encoded data removed]",
            "text/plain": [
              "<Figure size 432x288 with 1 Axes>"
            ]
          },
          "metadata": {
            "tags": [],
            "needs_background": "light"
          }
        }
      ]
    },
    {
      "cell_type": "markdown",
      "metadata": {
        "id": "xTZYGdxhDuO7"
      },
      "source": [
        "###### Keras"
      ]
    },
    {
      "cell_type": "code",
      "metadata": {
        "id": "IKxGdDmcDxDi",
        "colab": {
          "base_uri": "https://localhost:8080/"
        },
        "outputId": "556e5318-3c92-4865-b873-dc6534a0acce"
      },
      "source": [
        "x_train = adult_train_data\n",
        "y_train = adult_train_label\n",
        "x_test = adult_test_data\n",
        "y_test = adult_test_label\n",
        "\n",
        "model = Sequential()\n",
        "model.add(Dense(20, activation='relu', input_shape=(x_train.shape[-1],)))\n",
        "model.add(Dense(10, activation='relu'))\n",
        "model.add(Dense(10, activation='relu'))\n",
        "model.add(Dense(1, activation='sigmoid'))\n",
        "\n",
        "sgd = optimizers.SGD(lr=0.001, decay=0, momentum=0)\n",
        "adam = optimizers.Adam(lr=0.01)\n",
        "model.compile(loss='binary_crossentropy', optimizer=adam, metrics=['accuracy'])\n",
        "\n",
        "batch_size = 16\n",
        "epochs = 1000\n",
        "history = model.fit(x_train, y_train, batch_size=batch_size, epochs=epochs,validation_data=(x_test, y_test))"
      ],
      "execution_count": null,
      "outputs": [
        {
          "output_type": "stream",
          "text": [
            "Epoch 1/1000\n",
            "2036/2036 [==============================] - 4s 2ms/step - loss: 0.3387 - accuracy: 0.8390 - val_loss: 0.4997 - val_accuracy: 0.7326\n",
            "Epoch 2/1000\n",
            "2036/2036 [==============================] - 3s 2ms/step - loss: 0.3214 - accuracy: 0.8492 - val_loss: 0.5082 - val_accuracy: 0.7113\n",
            "Epoch 3/1000\n",
            "2036/2036 [==============================] - 4s 2ms/step - loss: 0.3186 - accuracy: 0.8509 - val_loss: 0.5411 - val_accuracy: 0.7183\n",
            "Epoch 4/1000\n",
            "2036/2036 [==============================] - 3s 2ms/step - loss: 0.3160 - accuracy: 0.8537 - val_loss: 0.4769 - val_accuracy: 0.7354\n",
            "Epoch 5/1000\n",
            "2036/2036 [==============================] - 3s 2ms/step - loss: 0.3132 - accuracy: 0.8532 - val_loss: 0.5300 - val_accuracy: 0.7303\n",
            "Epoch 6/1000\n",
            "2036/2036 [==============================] - 4s 2ms/step - loss: 0.3117 - accuracy: 0.8534 - val_loss: 0.5207 - val_accuracy: 0.7342\n",
            "Epoch 7/1000\n",
            "2036/2036 [==============================] - 4s 2ms/step - loss: 0.3116 - accuracy: 0.8538 - val_loss: 0.5236 - val_accuracy: 0.7372\n",
            "Epoch 8/1000\n",
            "2036/2036 [==============================] - 4s 2ms/step - loss: 0.3104 - accuracy: 0.8554 - val_loss: 0.5022 - val_accuracy: 0.7615\n",
            "Epoch 9/1000\n",
            "2036/2036 [==============================] - 3s 2ms/step - loss: 0.3103 - accuracy: 0.8545 - val_loss: 0.5667 - val_accuracy: 0.7159\n",
            "Epoch 10/1000\n",
            "2036/2036 [==============================] - 3s 2ms/step - loss: 0.3098 - accuracy: 0.8548 - val_loss: 0.5166 - val_accuracy: 0.7146\n",
            "Epoch 11/1000\n",
            "2036/2036 [==============================] - 3s 2ms/step - loss: 0.3081 - accuracy: 0.8553 - val_loss: 0.5295 - val_accuracy: 0.7203\n",
            "Epoch 12/1000\n",
            "2036/2036 [==============================] - 3s 2ms/step - loss: 0.3087 - accuracy: 0.8554 - val_loss: 0.5147 - val_accuracy: 0.7313\n",
            "Epoch 13/1000\n",
            "2036/2036 [==============================] - 4s 2ms/step - loss: 0.3075 - accuracy: 0.8562 - val_loss: 0.4868 - val_accuracy: 0.7415\n",
            "Epoch 14/1000\n",
            "2036/2036 [==============================] - 4s 2ms/step - loss: 0.3053 - accuracy: 0.8561 - val_loss: 0.4840 - val_accuracy: 0.7477\n",
            "Epoch 15/1000\n",
            "2036/2036 [==============================] - 3s 2ms/step - loss: 0.3066 - accuracy: 0.8565 - val_loss: 0.4662 - val_accuracy: 0.7573\n",
            "Epoch 16/1000\n",
            "2036/2036 [==============================] - 4s 2ms/step - loss: 0.3043 - accuracy: 0.8556 - val_loss: 0.4724 - val_accuracy: 0.7380\n",
            "Epoch 17/1000\n",
            "2036/2036 [==============================] - 3s 2ms/step - loss: 0.3050 - accuracy: 0.8550 - val_loss: 0.5275 - val_accuracy: 0.7359\n",
            "Epoch 18/1000\n",
            "2036/2036 [==============================] - 4s 2ms/step - loss: 0.3040 - accuracy: 0.8564 - val_loss: 0.5519 - val_accuracy: 0.7274\n",
            "Epoch 19/1000\n",
            "2036/2036 [==============================] - 3s 2ms/step - loss: 0.3034 - accuracy: 0.8560 - val_loss: 0.5673 - val_accuracy: 0.6920\n",
            "Epoch 20/1000\n",
            "2036/2036 [==============================] - 3s 2ms/step - loss: 0.3038 - accuracy: 0.8576 - val_loss: 0.4555 - val_accuracy: 0.7480\n",
            "Epoch 21/1000\n",
            "2036/2036 [==============================] - 4s 2ms/step - loss: 0.3029 - accuracy: 0.8576 - val_loss: 0.5934 - val_accuracy: 0.7155\n",
            "Epoch 22/1000\n",
            "2036/2036 [==============================] - 3s 2ms/step - loss: 0.3038 - accuracy: 0.8588 - val_loss: 0.6082 - val_accuracy: 0.7451\n",
            "Epoch 23/1000\n",
            "2036/2036 [==============================] - 4s 2ms/step - loss: 0.3023 - accuracy: 0.8577 - val_loss: 0.5545 - val_accuracy: 0.7298\n",
            "Epoch 24/1000\n",
            "2036/2036 [==============================] - 3s 2ms/step - loss: 0.3019 - accuracy: 0.8564 - val_loss: 0.5149 - val_accuracy: 0.7359\n",
            "Epoch 25/1000\n",
            "2036/2036 [==============================] - 3s 2ms/step - loss: 0.3030 - accuracy: 0.8561 - val_loss: 0.4970 - val_accuracy: 0.7228\n",
            "Epoch 26/1000\n",
            "2036/2036 [==============================] - 3s 2ms/step - loss: 0.3023 - accuracy: 0.8577 - val_loss: 0.5991 - val_accuracy: 0.7018\n",
            "Epoch 27/1000\n",
            "2036/2036 [==============================] - 3s 2ms/step - loss: 0.3020 - accuracy: 0.8578 - val_loss: 0.4673 - val_accuracy: 0.7375\n",
            "Epoch 28/1000\n",
            "2036/2036 [==============================] - 4s 2ms/step - loss: 0.3015 - accuracy: 0.8573 - val_loss: 0.5647 - val_accuracy: 0.7118\n",
            "Epoch 29/1000\n",
            "2036/2036 [==============================] - 3s 2ms/step - loss: 0.3018 - accuracy: 0.8551 - val_loss: 0.4849 - val_accuracy: 0.6924\n",
            "Epoch 30/1000\n",
            "2036/2036 [==============================] - 3s 2ms/step - loss: 0.3014 - accuracy: 0.8572 - val_loss: 0.5557 - val_accuracy: 0.7188\n",
            "Epoch 31/1000\n",
            "2036/2036 [==============================] - 3s 2ms/step - loss: 0.3001 - accuracy: 0.8569 - val_loss: 0.5086 - val_accuracy: 0.7082\n",
            "Epoch 32/1000\n",
            "2036/2036 [==============================] - 3s 2ms/step - loss: 0.3001 - accuracy: 0.8560 - val_loss: 0.4827 - val_accuracy: 0.7116\n",
            "Epoch 33/1000\n",
            "2036/2036 [==============================] - 3s 2ms/step - loss: 0.2996 - accuracy: 0.8581 - val_loss: 0.4813 - val_accuracy: 0.7447\n",
            "Epoch 34/1000\n",
            "2036/2036 [==============================] - 3s 2ms/step - loss: 0.3022 - accuracy: 0.8564 - val_loss: 0.5664 - val_accuracy: 0.7396\n",
            "Epoch 35/1000\n",
            "2036/2036 [==============================] - 3s 2ms/step - loss: 0.3013 - accuracy: 0.8568 - val_loss: 0.4607 - val_accuracy: 0.7533\n",
            "Epoch 36/1000\n",
            "1566/2036 [======================>.......] - ETA: 0s - loss: 0.2993 - accuracy: 0.8572"
          ],
          "name": "stdout"
        }
      ]
    },
    {
      "cell_type": "markdown",
      "metadata": {
        "id": "DOJp11d-9yrW"
      },
      "source": [
        "### Bike"
      ]
    },
    {
      "cell_type": "code",
      "metadata": {
        "id": "RetFzXW_Jz8v"
      },
      "source": [
        "!mkdir bike_result"
      ],
      "execution_count": null,
      "outputs": []
    },
    {
      "cell_type": "markdown",
      "metadata": {
        "id": "Sky6wFskmB5G"
      },
      "source": [
        "#### NN"
      ]
    },
    {
      "cell_type": "code",
      "metadata": {
        "id": "pSObGV2IJ32t",
        "colab": {
          "base_uri": "https://localhost:8080/"
        },
        "outputId": "82ef9ecc-3c2d-40e1-deb0-ac68c34effd6"
      },
      "source": [
        "input_data = bike_train_data\n",
        "target = bike_train_label\n",
        "\n",
        "input_width = input_data.shape[1]\n",
        "\n",
        "cy_bike_nn_model = sequential()\n",
        "lr = 0.002\n",
        "cy_bike_nn_model.add_fc(n_neuron=20, input_width=input_width, activation=\"relu\")\n",
        "cy_bike_nn_model.add_fc(n_neuron=10, activation=\"relu\")\n",
        "cy_bike_nn_model.add_fc(n_neuron=1, activation=\"linear\")\n",
        "\n",
        "cy_bike_nn_model.fit(input_data, target, max_iter=50, learning_rate=lr, batch_size=128, loss=\"mean_squared_error\")\n",
        "\n",
        "np.save('./bike_result/act_relu_'+str(lr),cy_bike_nn_model.history)"
      ],
      "execution_count": null,
      "outputs": [
        {
          "output_type": "stream",
          "text": [
            "Iteration:0, Precision:0.0, Loss:0.29253205586152853\n",
            "Iteration:1, Precision:0.0, Loss:0.2421774478587506\n",
            "Iteration:2, Precision:0.0, Loss:0.22164439118824\n",
            "Iteration:3, Precision:0.0, Loss:0.2070812253062254\n",
            "Iteration:4, Precision:0.0, Loss:0.19545475698511647\n",
            "Iteration:5, Precision:0.0, Loss:0.18548523410438975\n",
            "Iteration:6, Precision:0.0, Loss:0.1782043196220378\n",
            "Iteration:7, Precision:0.0, Loss:0.17232932650552873\n",
            "Iteration:8, Precision:0.0, Loss:0.16328990871177554\n",
            "Iteration:9, Precision:0.0, Loss:0.1569790681228704\n",
            "Iteration:10, Precision:0.0, Loss:0.14976143704121067\n",
            "Iteration:11, Precision:0.0, Loss:0.13979366802563017\n",
            "Iteration:12, Precision:0.0, Loss:0.13178732765345363\n",
            "Iteration:13, Precision:0.0, Loss:0.12264511713644749\n",
            "Iteration:14, Precision:0.0, Loss:0.11776759560440712\n",
            "Iteration:15, Precision:0.0, Loss:0.11356754521235682\n",
            "Iteration:16, Precision:0.0, Loss:0.10987061699267361\n",
            "Iteration:17, Precision:0.0, Loss:0.10767567761934503\n",
            "Iteration:18, Precision:0.0, Loss:0.104408157686754\n",
            "Iteration:19, Precision:0.0, Loss:0.10288014952510352\n",
            "Iteration:20, Precision:0.0, Loss:0.10139956333636226\n",
            "Iteration:21, Precision:0.0, Loss:0.10029733433024396\n",
            "Iteration:22, Precision:0.0, Loss:0.09947444738694863\n",
            "Iteration:23, Precision:0.0, Loss:0.09812815079820202\n",
            "Iteration:24, Precision:0.0, Loss:0.09667187818929161\n",
            "Iteration:25, Precision:0.0, Loss:0.09563230577169314\n",
            "Iteration:26, Precision:0.0, Loss:0.09513786248469197\n",
            "Iteration:27, Precision:0.0, Loss:0.09406789620169112\n",
            "Iteration:28, Precision:0.0, Loss:0.09362777936704798\n",
            "Iteration:29, Precision:0.0, Loss:0.09327126593959059\n",
            "Iteration:30, Precision:0.0, Loss:0.09212120555066076\n",
            "Iteration:31, Precision:0.0, Loss:0.09239318328619266\n",
            "Iteration:32, Precision:0.0, Loss:0.09216288615178082\n",
            "Iteration:33, Precision:0.0, Loss:0.09140012645450918\n",
            "Iteration:34, Precision:0.0, Loss:0.09123918338430365\n",
            "Iteration:35, Precision:0.0, Loss:0.0910887705477286\n",
            "Iteration:36, Precision:0.0, Loss:0.0902607804783453\n",
            "Iteration:37, Precision:0.0, Loss:0.09036705034831954\n",
            "Iteration:38, Precision:0.0, Loss:0.08998547439778522\n",
            "Iteration:39, Precision:0.0, Loss:0.08971033911184792\n",
            "Iteration:40, Precision:0.0, Loss:0.08971327534186267\n",
            "Iteration:41, Precision:0.0, Loss:0.08928093761188781\n",
            "Iteration:42, Precision:0.0, Loss:0.08874057117956807\n",
            "Iteration:43, Precision:0.0, Loss:0.08916570830629414\n",
            "Iteration:44, Precision:0.0, Loss:0.08867956043869887\n",
            "Iteration:45, Precision:0.0, Loss:0.08848188315746819\n",
            "Iteration:46, Precision:0.0, Loss:0.08786968610043636\n",
            "Iteration:47, Precision:0.0, Loss:0.08763910688189971\n",
            "Iteration:48, Precision:0.0, Loss:0.08763116744025301\n",
            "Iteration:49, Precision:0.0, Loss:0.08710637032423076\n"
          ],
          "name": "stdout"
        }
      ]
    },
    {
      "cell_type": "code",
      "metadata": {
        "id": "DB5rdv2IKxZC",
        "colab": {
          "base_uri": "https://localhost:8080/"
        },
        "outputId": "aa60e683-f159-404b-b136-05be0f0d2c62"
      },
      "source": [
        "input_data = bike_train_data\n",
        "target = bike_train_label * bike_standard[-1] + bike_mean[-1]\n",
        "\n",
        "predict = cy_bike_nn_model.predict(input_data)\n",
        "\n",
        "predict = predict * bike_standard[-1] + bike_mean[-1]\n",
        "predict = np.where(predict<0,1e-9,predict)\n",
        "predict = np.squeeze(predict)\n",
        "\n",
        "# RMSLE\n",
        "print(rmsle(predict,target))"
      ],
      "execution_count": null,
      "outputs": [
        {
          "output_type": "stream",
          "text": [
            "0.7351133247280404\n"
          ],
          "name": "stdout"
        }
      ]
    },
    {
      "cell_type": "code",
      "metadata": {
        "id": "I_MzgCDpWGZR",
        "colab": {
          "base_uri": "https://localhost:8080/"
        },
        "outputId": "c7658c35-ff19-4979-d4bb-fadaaf5366bb"
      },
      "source": [
        "input_data = bike_test_data\n",
        "target = bike_test_label\n",
        "\n",
        "predict = cy_bike_nn_model.predict(input_data)\n",
        "\n",
        "predict = predict * bike_standard[-1] + bike_mean[-1]\n",
        "predict = np.where(predict<0,1e-9,predict)\n",
        "predict = np.squeeze(predict)\n",
        "\n",
        "# RMSLE\n",
        "print(rmsle(predict,target))"
      ],
      "execution_count": null,
      "outputs": [
        {
          "output_type": "stream",
          "text": [
            "0.7534394317488702\n"
          ],
          "name": "stdout"
        }
      ]
    },
    {
      "cell_type": "code",
      "metadata": {
        "id": "X5KcLArVYnto",
        "colab": {
          "base_uri": "https://localhost:8080/",
          "height": 295
        },
        "outputId": "aa7c271e-d108-48a5-ce66-b10391c5da0f"
      },
      "source": [
        "folder = \"./bike_result/\"\n",
        "lr1 = np.load(folder+'act_relu_0.001.npy')\n",
        "lr2 = np.load(folder+'act_relu_0.003.npy')\n",
        "lr3 = np.load(folder+'act_relu_0.005.npy')\n",
        "lr4 = np.load(folder+'act_relu_0.002.npy')\n",
        "\n",
        "plt.plot(lr1[:,1], label=\"LR 0.001\")\n",
        "plt.plot(lr2[:,1], label=\"LR 0.003\")\n",
        "plt.plot(lr3[:,1], label=\"LR 0.005\")\n",
        "plt.plot(lr4[:,1], label=\"LR 0.002\")\n",
        "\n",
        "plt.title(\"Different LR over Bike dataset\")\n",
        "plt.xlabel(\"Epoch\")\n",
        "plt.ylabel(\"MSE\")\n",
        "plt.legend()\n",
        "plt.show()"
      ],
      "execution_count": null,
      "outputs": [
        {
          "output_type": "display_data",
          "data": {
            "image/png": "[encoded data removed]",
            "text/plain": [
              "<Figure size 432x288 with 1 Axes>"
            ]
          },
          "metadata": {
            "tags": [],
            "needs_background": "light"
          }
        }
      ]
    },
    {
      "cell_type": "markdown",
      "metadata": {
        "id": "vQHfrf74mDDc"
      },
      "source": [
        "#### RBFN"
      ]
    },
    {
      "cell_type": "code",
      "metadata": {
        "id": "gLC_2fYP3JkS"
      },
      "source": [
        "input_data = bike_train_data\n",
        "target = bike_train_label"
      ],
      "execution_count": null,
      "outputs": []
    },
    {
      "cell_type": "code",
      "metadata": {
        "id": "P0WyJAFi5ZNy",
        "colab": {
          "base_uri": "https://localhost:8080/"
        },
        "outputId": "dee5359e-f742-4e25-a3d5-21665cb07e91"
      },
      "source": [
        "center, sigma = k_means(input=input_data, max_k=300, max_iter=50, threshold=0.1, min_size=5)"
      ],
      "execution_count": null,
      "outputs": [
        {
          "output_type": "stream",
          "text": [
            "Start K-means, initial center: 300\n",
            "Performing K-means Iteration 1\n",
            "Performing K-means Iteration 2\n",
            "Performing K-means Iteration 3\n",
            "Performing K-means Iteration 4\n",
            "Performing K-means Iteration 5\n",
            "Performing K-means Iteration 6\n",
            "Performing K-means Iteration 7\n",
            "Performing K-means Iteration 8\n",
            "Performing K-means Iteration 9\n",
            "Performing K-means Iteration 10\n",
            "Performing K-means Iteration 11\n",
            "Performing K-means Iteration 12\n",
            "Performing K-means Iteration 13\n",
            "Performing K-means Iteration 14\n",
            "Performing K-means Iteration 15\n",
            "Performing K-means Iteration 16\n",
            "K-means converges at iter16\n",
            "Remove zero sigma cluster, remaining cluster: 300\n"
          ],
          "name": "stdout"
        }
      ]
    },
    {
      "cell_type": "code",
      "metadata": {
        "id": "eMA6Ku1-yVfZ",
        "colab": {
          "base_uri": "https://localhost:8080/"
        },
        "outputId": "f7f94c0d-bbd4-47b9-8b71-47f786e9e2f1"
      },
      "source": [
        "cy_bike_rbf_model = sequential()\n",
        "RBF=\"inverse_quadratic\"\n",
        "cy_bike_rbf_model.add_rbf(RBF=RBF, center=center, sigma=sigma, c_lr=1, s_lr=1);\n",
        "cy_bike_rbf_model.add_fc(n_neuron=1, activation=\"linear\")\n",
        "lr = 0.01\n",
        "cy_bike_rbf_model.fit(input_data, target, max_iter=50, learning_rate=lr, batch_size=128, loss=\"mean_squared_error\",accuracy=\"skip\")\n",
        "\n",
        "np.save('./bike_result/rbf_'+RBF,cy_bike_rbf_model.history)"
      ],
      "execution_count": null,
      "outputs": [
        {
          "output_type": "stream",
          "text": [
            "Iteration:0, Precision:0.0, Loss:0.46865534590241437\n",
            "Iteration:1, Precision:0.0, Loss:0.3950543225415068\n",
            "Iteration:2, Precision:0.0, Loss:0.359778392166846\n",
            "Iteration:3, Precision:0.0, Loss:0.33522648428511254\n",
            "Iteration:4, Precision:0.0, Loss:0.32222619390057733\n",
            "Iteration:5, Precision:0.0, Loss:0.3135009575533577\n",
            "Iteration:6, Precision:0.0, Loss:0.306260014066581\n",
            "Iteration:7, Precision:0.0, Loss:0.30198836673171875\n",
            "Iteration:8, Precision:0.0, Loss:0.300085929577023\n",
            "Iteration:9, Precision:0.0, Loss:0.29883003669717206\n",
            "Iteration:10, Precision:0.0, Loss:0.29774497817918516\n",
            "Iteration:11, Precision:0.0, Loss:0.29679409703764925\n",
            "Iteration:12, Precision:0.0, Loss:0.29595241205374195\n",
            "Iteration:13, Precision:0.0, Loss:0.2952016572386225\n",
            "Iteration:14, Precision:0.0, Loss:0.2945309325602032\n",
            "Iteration:15, Precision:0.0, Loss:0.293933312875713\n",
            "Iteration:16, Precision:0.0, Loss:0.2934019870911091\n",
            "Iteration:17, Precision:0.0, Loss:0.2929283887684505\n",
            "Iteration:18, Precision:0.0, Loss:0.29250283921416476\n",
            "Iteration:19, Precision:0.0, Loss:0.2921160991825613\n",
            "Iteration:20, Precision:0.0, Loss:0.291760303006984\n",
            "Iteration:21, Precision:0.0, Loss:0.2914290309758234\n",
            "Iteration:22, Precision:0.0, Loss:0.2911169265573854\n",
            "Iteration:23, Precision:0.0, Loss:0.29081917833351556\n",
            "Iteration:24, Precision:0.0, Loss:0.2905310098272428\n",
            "Iteration:25, Precision:0.0, Loss:0.29024726459289985\n",
            "Iteration:26, Precision:0.0, Loss:0.28996212758536255\n",
            "Iteration:27, Precision:0.0, Loss:0.28966894443179175\n",
            "Iteration:28, Precision:0.0, Loss:0.2893600448449229\n",
            "Iteration:29, Precision:0.0, Loss:0.28902648805994474\n",
            "Iteration:30, Precision:0.0, Loss:0.28865771789902667\n",
            "Iteration:31, Precision:0.0, Loss:0.2882412047580557\n",
            "Iteration:32, Precision:0.0, Loss:0.28776219797155816\n",
            "Iteration:33, Precision:0.0, Loss:0.2872036086211273\n",
            "Iteration:34, Precision:0.0, Loss:0.28654597423469896\n",
            "Iteration:35, Precision:0.0, Loss:0.2857694408048259\n",
            "Iteration:36, Precision:0.0, Loss:0.28486783798864124\n",
            "Iteration:37, Precision:0.0, Loss:0.28388636391238536\n",
            "Iteration:38, Precision:0.0, Loss:0.28293762737702344\n",
            "Iteration:39, Precision:0.0, Loss:0.2821381945922874\n",
            "Iteration:40, Precision:0.0, Loss:0.28154834191789324\n",
            "Iteration:41, Precision:0.0, Loss:0.28114336738053763\n",
            "Iteration:42, Precision:0.0, Loss:0.2808494430626233\n",
            "Iteration:43, Precision:0.0, Loss:0.2806055627569097\n",
            "Iteration:44, Precision:0.0, Loss:0.2803745372366336\n",
            "Iteration:45, Precision:0.0, Loss:0.28013031274246686\n",
            "Iteration:46, Precision:0.0, Loss:0.27984515135742966\n",
            "Iteration:47, Precision:0.0, Loss:0.2794766358380821\n",
            "Iteration:48, Precision:0.0, Loss:0.2789524200151013\n",
            "Iteration:49, Precision:0.0, Loss:0.278189920461816\n"
          ],
          "name": "stdout"
        }
      ]
    },
    {
      "cell_type": "code",
      "metadata": {
        "id": "9ZU87Zg7-cRL",
        "colab": {
          "base_uri": "https://localhost:8080/"
        },
        "outputId": "ba4112f9-19a0-433e-b29b-e093e0913dda"
      },
      "source": [
        "input_data = bike_train_data\n",
        "target = bike_train_label * bike_standard[-1] + bike_mean[-1]\n",
        "\n",
        "predict = cy_bike_rbf_model.predict(input_data)\n",
        "\n",
        "predict = predict * bike_standard[-1] + bike_mean[-1]\n",
        "predict = np.where(predict<0,1e-9,predict)\n",
        "predict = np.squeeze(predict)\n",
        "\n",
        "# RMSLE\n",
        "print(rmsle(predict,target))"
      ],
      "execution_count": null,
      "outputs": [
        {
          "output_type": "stream",
          "text": [
            "1.2483570126343675\n"
          ],
          "name": "stdout"
        }
      ]
    },
    {
      "cell_type": "code",
      "metadata": {
        "id": "thaYVj_qoH9F",
        "colab": {
          "base_uri": "https://localhost:8080/"
        },
        "outputId": "993efb49-4a6b-43a9-ef2f-71df2d3d4eb2"
      },
      "source": [
        "input_data = bike_test_data\n",
        "target = bike_test_label\n",
        "\n",
        "predict = cy_bike_rbf_model.predict(input_data)\n",
        "\n",
        "predict = predict * bike_standard[-1] + bike_mean[-1]\n",
        "predict = np.where(predict<0,1e-9,predict)\n",
        "predict = np.squeeze(predict)\n",
        "\n",
        "# RMSLE\n",
        "print(rmsle(predict,target))"
      ],
      "execution_count": null,
      "outputs": [
        {
          "output_type": "stream",
          "text": [
            "1.268616285244867\n"
          ],
          "name": "stdout"
        }
      ]
    },
    {
      "cell_type": "code",
      "metadata": {
        "id": "8kY4FqDFuAdm",
        "colab": {
          "base_uri": "https://localhost:8080/",
          "height": 295
        },
        "outputId": "a3790d0a-98e3-4167-c6a0-8c24963c3129"
      },
      "source": [
        "folder = \"./bike_result/\"\n",
        "lr1 = np.load(folder+'rbf_gaussian.npy')\n",
        "lr2 = np.load(folder+'rbf_IMQ.npy')\n",
        "lr3 = np.load(folder+'rbf_inverse_quadratic.npy')\n",
        "lr4 = np.load(folder+'rbf_multiquadratic.npy')\n",
        "\n",
        "plt.plot(lr1[1:,1], label=\"Gaussian\")\n",
        "plt.plot(lr2[1:,1], label=\"Inverse Multiquadric\")\n",
        "plt.plot(lr3[1:,1], label=\"Inverse Quadratic\")\n",
        "plt.plot(lr4[1:,1], label=\"Multiquadratic\")\n",
        "\n",
        "plt.title(\"Different RBF over Bike dataset\")\n",
        "plt.xlabel(\"Epoch\")\n",
        "plt.ylabel(\"MSE\")\n",
        "plt.legend()\n",
        "plt.show()"
      ],
      "execution_count": null,
      "outputs": [
        {
          "output_type": "display_data",
          "data": {
            "image/png": "[encoded data removed]",
            "text/plain": [
              "<Figure size 432x288 with 1 Axes>"
            ]
          },
          "metadata": {
            "tags": [],
            "needs_background": "light"
          }
        }
      ]
    }
  ]
}